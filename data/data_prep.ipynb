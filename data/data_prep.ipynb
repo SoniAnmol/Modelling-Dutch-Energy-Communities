{
 "cells": [
  {
   "cell_type": "markdown",
   "metadata": {
    "pycharm": {
     "name": "#%% md\n"
    }
   },
   "source": [
    "# Data Preparation\n",
    "\n",
    "This notebook is used to prepare the cleaned data for the model."
   ]
  },
  {
   "cell_type": "markdown",
   "metadata": {
    "pycharm": {
     "name": "#%% md\n"
    }
   },
   "source": [
    "## 1. Import the necessary libraries"
   ]
  },
  {
   "cell_type": "code",
   "execution_count": 30,
   "metadata": {
    "collapsed": false,
    "jupyter": {
     "outputs_hidden": false
    },
    "pycharm": {
     "name": "#%%\n"
    }
   },
   "outputs": [],
   "source": [
    "import pandas as pd\n",
    "import matplotlib.pyplot as plt"
   ]
  },
  {
   "cell_type": "markdown",
   "metadata": {
    "pycharm": {
     "name": "#%% md\n"
    }
   },
   "source": [
    "## 2. Read cleaned data"
   ]
  },
  {
   "cell_type": "code",
   "execution_count": 31,
   "metadata": {
    "collapsed": false,
    "jupyter": {
     "outputs_hidden": false
    },
    "pycharm": {
     "name": "#%%\n"
    }
   },
   "outputs": [],
   "source": [
    "df = pd.read_csv('processed/cleaned_data.csv')"
   ]
  },
  {
   "cell_type": "markdown",
   "metadata": {},
   "source": [
    "## 3. Prepare data for EV-bus charging stations"
   ]
  },
  {
   "cell_type": "code",
   "execution_count": 32,
   "metadata": {
    "collapsed": false,
    "jupyter": {
     "outputs_hidden": false
    },
    "pycharm": {
     "name": "#%%\n"
    }
   },
   "outputs": [],
   "source": [
    "df.rename(columns={'BusDepot [kWh]': 'EV_charging_station'}, inplace=True)"
   ]
  },
  {
   "cell_type": "markdown",
   "metadata": {},
   "source": [
    "## 4. Combine all data"
   ]
  },
  {
   "cell_type": "code",
   "execution_count": 33,
   "outputs": [],
   "source": [
    "df['Local'] = pd.to_datetime(df['Local'], format='%Y-%m-%d %H:%M:%S')\n",
    "df.set_index('Local', inplace=True)"
   ],
   "metadata": {
    "collapsed": false,
    "pycharm": {
     "name": "#%%\n"
    }
   }
  },
  {
   "cell_type": "code",
   "execution_count": 34,
   "outputs": [],
   "source": [
    "# Add missing values\n",
    "df.loc['2021-01-01 00:00:00',:] = df.loc['2021-01-01 00:30:00',:]\n",
    "df.loc['2021-01-01 00:15:00',:] = df.loc['2021-01-01 00:30:00',:]\n",
    "df.loc['2021-12-31 23:15:00',:] = df.loc['2021-12-31 23:00:00',:]\n",
    "df.loc['2021-12-31 23:30:00',:] = df.loc['2021-12-31 23:15:00',:]\n",
    "df.loc['2021-12-31 23:45:00',:] = df.loc['2021-12-31 23:30:00',:]"
   ],
   "metadata": {
    "collapsed": false,
    "pycharm": {
     "name": "#%%\n"
    }
   }
  },
  {
   "cell_type": "code",
   "execution_count": 35,
   "outputs": [
    {
     "data": {
      "text/plain": "                     Office 1  Office 2  Office 3  Office 4     School  \\\nLocal                                                                    \n2021-01-01 00:30:00       9.4       4.8       1.8      18.5  12.336667   \n2021-01-01 00:45:00       9.4       5.1       1.8      17.0  11.323333   \n2021-01-01 01:00:00       9.4       4.8       1.7      21.0  11.915000   \n2021-01-01 01:15:00       9.6       4.6       1.8      17.5  11.575000   \n2021-01-01 01:30:00       8.7       4.6       1.8      20.0  12.170000   \n...                       ...       ...       ...       ...        ...   \n2021-01-01 00:00:00       9.4       4.8       1.8      18.5  12.336667   \n2021-01-01 00:15:00       9.4       4.8       1.8      18.5  12.336667   \n2021-12-31 23:15:00       5.1       5.5       1.5      16.0  11.846364   \n2021-12-31 23:30:00       5.1       5.5       1.5      16.0  11.846364   \n2021-12-31 23:45:00       5.1       5.5       1.5      16.0  11.846364   \n\n                     EV_charging_station  Irradiance [W/m^2]  \\\nLocal                                                          \n2021-01-01 00:30:00                 3.78                 0.0   \n2021-01-01 00:45:00                 3.78                 0.0   \n2021-01-01 01:00:00                 2.46                 0.0   \n2021-01-01 01:15:00                 2.46                 0.0   \n2021-01-01 01:30:00                 2.46                 0.0   \n...                                  ...                 ...   \n2021-01-01 00:00:00                 3.78                 0.0   \n2021-01-01 00:15:00                 3.78                 0.0   \n2021-12-31 23:15:00                 5.88                 0.0   \n2021-12-31 23:30:00                 5.88                 0.0   \n2021-12-31 23:45:00                 5.88                 0.0   \n\n                     T_ambient [Degrees Celsius]  T_ground [Degrees Celsius]  \\\nLocal                                                                          \n2021-01-01 00:30:00                       3066.0                        1.73   \n2021-01-01 00:45:00                       3066.0                        1.73   \n2021-01-01 01:00:00                       3066.0                        1.73   \n2021-01-01 01:15:00                       3066.0                        1.73   \n2021-01-01 01:30:00                       2949.0                     1625.00   \n...                                          ...                         ...   \n2021-01-01 00:00:00                       3066.0                        1.73   \n2021-01-01 00:15:00                       3066.0                        1.73   \n2021-12-31 23:15:00                       3245.0                     2038.00   \n2021-12-31 23:30:00                       3245.0                     2038.00   \n2021-12-31 23:45:00                       3245.0                     2038.00   \n\n                     Wind [m/s]  Cloud [okta]  Pressure [Pa]  Rain [mm/hr]  \\\nLocal                                                                        \n2021-01-01 00:30:00      3634.0        6489.0    101607108.0         0.068   \n2021-01-01 00:45:00      3634.0        6489.0    101607108.0         0.068   \n2021-01-01 01:00:00      3634.0        6489.0    101607108.0         0.068   \n2021-01-01 01:15:00      3634.0        6489.0    101607108.0         0.068   \n2021-01-01 01:30:00      3469.0        6124.0    101613804.0         0.055   \n...                         ...           ...            ...           ...   \n2021-01-01 00:00:00      3634.0        6489.0    101607108.0         0.068   \n2021-01-01 00:15:00      3634.0        6489.0    101607108.0         0.068   \n2021-12-31 23:15:00      3724.0        6514.0    101634525.0         0.054   \n2021-12-31 23:30:00      3724.0        6514.0    101634525.0         0.054   \n2021-12-31 23:45:00      3724.0        6514.0    101634525.0         0.054   \n\n                     Diffuse [W/m^2]  Direct [W/m^2]  Elevation [Degrees]  \\\nLocal                                                                       \n2021-01-01 00:30:00              0.0             0.0             -60049.0   \n2021-01-01 00:45:00              0.0             0.0             -60049.0   \n2021-01-01 01:00:00              0.0             0.0             -60049.0   \n2021-01-01 01:15:00              0.0             0.0             -60049.0   \n2021-01-01 01:30:00              0.0             0.0             -54847.0   \n...                              ...             ...                  ...   \n2021-01-01 00:00:00              0.0             0.0             -60049.0   \n2021-01-01 00:15:00              0.0             0.0             -60049.0   \n2021-12-31 23:15:00              0.0             0.0             -58117.0   \n2021-12-31 23:30:00              0.0             0.0             -58117.0   \n2021-12-31 23:45:00              0.0             0.0             -58117.0   \n\n                     Azimuth [Degrees]  hh1_consumption [kWh]  \\\nLocal                                                           \n2021-01-01 00:30:00             21.785               0.157249   \n2021-01-01 00:45:00             21.785               0.154470   \n2021-01-01 01:00:00             21.785               0.149123   \n2021-01-01 01:15:00             21.785               0.143373   \n2021-01-01 01:30:00             45.722               0.142570   \n...                                ...                    ...   \n2021-01-01 00:00:00             21.785               0.157249   \n2021-01-01 00:15:00             21.785               0.157249   \n2021-12-31 23:15:00            326.722               0.199495   \n2021-12-31 23:30:00            326.722               0.199495   \n2021-12-31 23:45:00            326.722               0.199495   \n\n                     hh2_consumption [kWh]  hh3_consumption [kWh]  \nLocal                                                              \n2021-01-01 00:30:00               0.122680               0.384985  \n2021-01-01 00:45:00               0.123942               0.354953  \n2021-01-01 01:00:00               0.122407               0.323749  \n2021-01-01 01:15:00               0.121962               0.301651  \n2021-01-01 01:30:00               0.118858               0.288491  \n...                                    ...                    ...  \n2021-01-01 00:00:00               0.122680               0.384985  \n2021-01-01 00:15:00               0.122680               0.384985  \n2021-12-31 23:15:00               0.945290               0.445335  \n2021-12-31 23:30:00               0.945290               0.445335  \n2021-12-31 23:45:00               0.945290               0.445335  \n\n[35040 rows x 20 columns]",
      "text/html": "<div>\n<style scoped>\n    .dataframe tbody tr th:only-of-type {\n        vertical-align: middle;\n    }\n\n    .dataframe tbody tr th {\n        vertical-align: top;\n    }\n\n    .dataframe thead th {\n        text-align: right;\n    }\n</style>\n<table border=\"1\" class=\"dataframe\">\n  <thead>\n    <tr style=\"text-align: right;\">\n      <th></th>\n      <th>Office 1</th>\n      <th>Office 2</th>\n      <th>Office 3</th>\n      <th>Office 4</th>\n      <th>School</th>\n      <th>EV_charging_station</th>\n      <th>Irradiance [W/m^2]</th>\n      <th>T_ambient [Degrees Celsius]</th>\n      <th>T_ground [Degrees Celsius]</th>\n      <th>Wind [m/s]</th>\n      <th>Cloud [okta]</th>\n      <th>Pressure [Pa]</th>\n      <th>Rain [mm/hr]</th>\n      <th>Diffuse [W/m^2]</th>\n      <th>Direct [W/m^2]</th>\n      <th>Elevation [Degrees]</th>\n      <th>Azimuth [Degrees]</th>\n      <th>hh1_consumption [kWh]</th>\n      <th>hh2_consumption [kWh]</th>\n      <th>hh3_consumption [kWh]</th>\n    </tr>\n    <tr>\n      <th>Local</th>\n      <th></th>\n      <th></th>\n      <th></th>\n      <th></th>\n      <th></th>\n      <th></th>\n      <th></th>\n      <th></th>\n      <th></th>\n      <th></th>\n      <th></th>\n      <th></th>\n      <th></th>\n      <th></th>\n      <th></th>\n      <th></th>\n      <th></th>\n      <th></th>\n      <th></th>\n      <th></th>\n    </tr>\n  </thead>\n  <tbody>\n    <tr>\n      <th>2021-01-01 00:30:00</th>\n      <td>9.4</td>\n      <td>4.8</td>\n      <td>1.8</td>\n      <td>18.5</td>\n      <td>12.336667</td>\n      <td>3.78</td>\n      <td>0.0</td>\n      <td>3066.0</td>\n      <td>1.73</td>\n      <td>3634.0</td>\n      <td>6489.0</td>\n      <td>101607108.0</td>\n      <td>0.068</td>\n      <td>0.0</td>\n      <td>0.0</td>\n      <td>-60049.0</td>\n      <td>21.785</td>\n      <td>0.157249</td>\n      <td>0.122680</td>\n      <td>0.384985</td>\n    </tr>\n    <tr>\n      <th>2021-01-01 00:45:00</th>\n      <td>9.4</td>\n      <td>5.1</td>\n      <td>1.8</td>\n      <td>17.0</td>\n      <td>11.323333</td>\n      <td>3.78</td>\n      <td>0.0</td>\n      <td>3066.0</td>\n      <td>1.73</td>\n      <td>3634.0</td>\n      <td>6489.0</td>\n      <td>101607108.0</td>\n      <td>0.068</td>\n      <td>0.0</td>\n      <td>0.0</td>\n      <td>-60049.0</td>\n      <td>21.785</td>\n      <td>0.154470</td>\n      <td>0.123942</td>\n      <td>0.354953</td>\n    </tr>\n    <tr>\n      <th>2021-01-01 01:00:00</th>\n      <td>9.4</td>\n      <td>4.8</td>\n      <td>1.7</td>\n      <td>21.0</td>\n      <td>11.915000</td>\n      <td>2.46</td>\n      <td>0.0</td>\n      <td>3066.0</td>\n      <td>1.73</td>\n      <td>3634.0</td>\n      <td>6489.0</td>\n      <td>101607108.0</td>\n      <td>0.068</td>\n      <td>0.0</td>\n      <td>0.0</td>\n      <td>-60049.0</td>\n      <td>21.785</td>\n      <td>0.149123</td>\n      <td>0.122407</td>\n      <td>0.323749</td>\n    </tr>\n    <tr>\n      <th>2021-01-01 01:15:00</th>\n      <td>9.6</td>\n      <td>4.6</td>\n      <td>1.8</td>\n      <td>17.5</td>\n      <td>11.575000</td>\n      <td>2.46</td>\n      <td>0.0</td>\n      <td>3066.0</td>\n      <td>1.73</td>\n      <td>3634.0</td>\n      <td>6489.0</td>\n      <td>101607108.0</td>\n      <td>0.068</td>\n      <td>0.0</td>\n      <td>0.0</td>\n      <td>-60049.0</td>\n      <td>21.785</td>\n      <td>0.143373</td>\n      <td>0.121962</td>\n      <td>0.301651</td>\n    </tr>\n    <tr>\n      <th>2021-01-01 01:30:00</th>\n      <td>8.7</td>\n      <td>4.6</td>\n      <td>1.8</td>\n      <td>20.0</td>\n      <td>12.170000</td>\n      <td>2.46</td>\n      <td>0.0</td>\n      <td>2949.0</td>\n      <td>1625.00</td>\n      <td>3469.0</td>\n      <td>6124.0</td>\n      <td>101613804.0</td>\n      <td>0.055</td>\n      <td>0.0</td>\n      <td>0.0</td>\n      <td>-54847.0</td>\n      <td>45.722</td>\n      <td>0.142570</td>\n      <td>0.118858</td>\n      <td>0.288491</td>\n    </tr>\n    <tr>\n      <th>...</th>\n      <td>...</td>\n      <td>...</td>\n      <td>...</td>\n      <td>...</td>\n      <td>...</td>\n      <td>...</td>\n      <td>...</td>\n      <td>...</td>\n      <td>...</td>\n      <td>...</td>\n      <td>...</td>\n      <td>...</td>\n      <td>...</td>\n      <td>...</td>\n      <td>...</td>\n      <td>...</td>\n      <td>...</td>\n      <td>...</td>\n      <td>...</td>\n      <td>...</td>\n    </tr>\n    <tr>\n      <th>2021-01-01 00:00:00</th>\n      <td>9.4</td>\n      <td>4.8</td>\n      <td>1.8</td>\n      <td>18.5</td>\n      <td>12.336667</td>\n      <td>3.78</td>\n      <td>0.0</td>\n      <td>3066.0</td>\n      <td>1.73</td>\n      <td>3634.0</td>\n      <td>6489.0</td>\n      <td>101607108.0</td>\n      <td>0.068</td>\n      <td>0.0</td>\n      <td>0.0</td>\n      <td>-60049.0</td>\n      <td>21.785</td>\n      <td>0.157249</td>\n      <td>0.122680</td>\n      <td>0.384985</td>\n    </tr>\n    <tr>\n      <th>2021-01-01 00:15:00</th>\n      <td>9.4</td>\n      <td>4.8</td>\n      <td>1.8</td>\n      <td>18.5</td>\n      <td>12.336667</td>\n      <td>3.78</td>\n      <td>0.0</td>\n      <td>3066.0</td>\n      <td>1.73</td>\n      <td>3634.0</td>\n      <td>6489.0</td>\n      <td>101607108.0</td>\n      <td>0.068</td>\n      <td>0.0</td>\n      <td>0.0</td>\n      <td>-60049.0</td>\n      <td>21.785</td>\n      <td>0.157249</td>\n      <td>0.122680</td>\n      <td>0.384985</td>\n    </tr>\n    <tr>\n      <th>2021-12-31 23:15:00</th>\n      <td>5.1</td>\n      <td>5.5</td>\n      <td>1.5</td>\n      <td>16.0</td>\n      <td>11.846364</td>\n      <td>5.88</td>\n      <td>0.0</td>\n      <td>3245.0</td>\n      <td>2038.00</td>\n      <td>3724.0</td>\n      <td>6514.0</td>\n      <td>101634525.0</td>\n      <td>0.054</td>\n      <td>0.0</td>\n      <td>0.0</td>\n      <td>-58117.0</td>\n      <td>326.722</td>\n      <td>0.199495</td>\n      <td>0.945290</td>\n      <td>0.445335</td>\n    </tr>\n    <tr>\n      <th>2021-12-31 23:30:00</th>\n      <td>5.1</td>\n      <td>5.5</td>\n      <td>1.5</td>\n      <td>16.0</td>\n      <td>11.846364</td>\n      <td>5.88</td>\n      <td>0.0</td>\n      <td>3245.0</td>\n      <td>2038.00</td>\n      <td>3724.0</td>\n      <td>6514.0</td>\n      <td>101634525.0</td>\n      <td>0.054</td>\n      <td>0.0</td>\n      <td>0.0</td>\n      <td>-58117.0</td>\n      <td>326.722</td>\n      <td>0.199495</td>\n      <td>0.945290</td>\n      <td>0.445335</td>\n    </tr>\n    <tr>\n      <th>2021-12-31 23:45:00</th>\n      <td>5.1</td>\n      <td>5.5</td>\n      <td>1.5</td>\n      <td>16.0</td>\n      <td>11.846364</td>\n      <td>5.88</td>\n      <td>0.0</td>\n      <td>3245.0</td>\n      <td>2038.00</td>\n      <td>3724.0</td>\n      <td>6514.0</td>\n      <td>101634525.0</td>\n      <td>0.054</td>\n      <td>0.0</td>\n      <td>0.0</td>\n      <td>-58117.0</td>\n      <td>326.722</td>\n      <td>0.199495</td>\n      <td>0.945290</td>\n      <td>0.445335</td>\n    </tr>\n  </tbody>\n</table>\n<p>35040 rows × 20 columns</p>\n</div>"
     },
     "execution_count": 35,
     "metadata": {},
     "output_type": "execute_result"
    }
   ],
   "source": [
    "df"
   ],
   "metadata": {
    "collapsed": false,
    "pycharm": {
     "name": "#%%\n"
    }
   }
  },
  {
   "cell_type": "markdown",
   "source": [
    "## 8. Export data"
   ],
   "metadata": {
    "collapsed": false,
    "pycharm": {
     "name": "#%% md\n"
    }
   }
  },
  {
   "cell_type": "code",
   "execution_count": 36,
   "outputs": [],
   "source": [
    "df.to_csv('processed/model_input_data.csv')"
   ],
   "metadata": {
    "collapsed": false,
    "pycharm": {
     "name": "#%%\n"
    }
   }
  },
  {
   "cell_type": "markdown",
   "source": [
    "---"
   ],
   "metadata": {
    "collapsed": false,
    "pycharm": {
     "name": "#%% md\n"
    }
   }
  },
  {
   "cell_type": "code",
   "execution_count": 36,
   "outputs": [],
   "source": [],
   "metadata": {
    "collapsed": false,
    "pycharm": {
     "name": "#%%\n"
    }
   }
  }
 ],
 "metadata": {
  "kernelspec": {
   "display_name": "Python 3",
   "language": "python",
   "name": "python3"
  },
  "language_info": {
   "codemirror_mode": {
    "name": "ipython",
    "version": 3
   },
   "file_extension": ".py",
   "mimetype": "text/x-python",
   "name": "python",
   "nbconvert_exporter": "python",
   "pygments_lexer": "ipython3",
   "version": "3.8.3"
  }
 },
 "nbformat": 4,
 "nbformat_minor": 4
}