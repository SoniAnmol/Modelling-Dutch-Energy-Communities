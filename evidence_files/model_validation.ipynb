{
 "cells": [
  {
   "cell_type": "markdown",
   "metadata": {
    "collapsed": true,
    "pycharm": {
     "name": "#%% md\n"
    }
   },
   "source": [
    "# Model validation"
   ]
  },
  {
   "cell_type": "markdown",
   "source": [
    "This notebook is used to validate the model. The verification procedures used in this notebook are taken from the [Agent based modelling for Socio-technical systems](https://www.ieeexplore.ieee.org/abstract/document/5874914/?casa_token=2LsDXcW6KKYAAAAA:4amVur3NmeHReBI3lNurs53tghVKB7vT75ju74f9WNQwBKLAeWPBvPFuXvLi4Gww2LnxFYoGNJ0)\n",
    "The objective of these validation checks is to confirm if 'fot-for-purpose' to answer the research questions."
   ],
   "metadata": {
    "collapsed": false,
    "pycharm": {
     "name": "#%% md\n"
    }
   }
  },
  {
   "cell_type": "code",
   "execution_count": 1,
   "outputs": [],
   "source": [
    "import pandas as pd\n",
    "\n",
    "from model.model_code import *"
   ],
   "metadata": {
    "collapsed": false,
    "pycharm": {
     "name": "#%%\n"
    }
   }
  },
  {
   "cell_type": "code",
   "execution_count": 2,
   "outputs": [],
   "source": [
    "model = EnergyCommunity()"
   ],
   "metadata": {
    "collapsed": false,
    "pycharm": {
     "name": "#%%\n"
    }
   }
  },
  {
   "cell_type": "code",
   "execution_count": 3,
   "outputs": [
    {
     "ename": "AttributeError",
     "evalue": "'EnergyCommunity' object has no attribute 'all_agents'",
     "output_type": "error",
     "traceback": [
      "\u001B[1;31m---------------------------------------------------------------------------\u001B[0m",
      "\u001B[1;31mAttributeError\u001B[0m                            Traceback (most recent call last)",
      "Input \u001B[1;32mIn [3]\u001B[0m, in \u001B[0;36m<cell line: 1>\u001B[1;34m()\u001B[0m\n\u001B[1;32m----> 1\u001B[0m \u001B[43mmodel\u001B[49m\u001B[38;5;241;43m.\u001B[39;49m\u001B[43mall_agents\u001B[49m\n",
      "\u001B[1;31mAttributeError\u001B[0m: 'EnergyCommunity' object has no attribute 'all_agents'"
     ]
    }
   ],
   "source": [
    "model.all_agents"
   ],
   "metadata": {
    "collapsed": false,
    "pycharm": {
     "name": "#%%\n"
    }
   }
  },
  {
   "cell_type": "code",
   "execution_count": 4,
   "outputs": [
    {
     "data": {
      "text/plain": "[<model.agents.Member at 0x2a83f25c880>,\n <model.agents.Member at 0x2a83f25d060>,\n <model.agents.Solar at 0x2a83f25db10>,\n <model.agents.Member at 0x2a83f25d7e0>,\n <model.agents.Solar at 0x2a83f25e2c0>,\n <model.agents.Member at 0x2a83f25df90>,\n <model.agents.Member at 0x2a83f25e740>,\n <model.agents.Member at 0x2a83f25eec0>,\n <model.agents.Coordinator at 0x2a83f25f640>]"
     },
     "execution_count": 4,
     "metadata": {},
     "output_type": "execute_result"
    }
   ],
   "source": [
    "model.schedule.agents"
   ],
   "metadata": {
    "collapsed": false,
    "pycharm": {
     "name": "#%%\n"
    }
   }
  },
  {
   "cell_type": "code",
   "execution_count": 5,
   "outputs": [],
   "source": [
    "df = pd.read_csv(\"../data/processed/model_input_data.csv\", parse_dates=['Local'], infer_datetime_format=True,\n",
    "                 index_col=0)"
   ],
   "metadata": {
    "collapsed": false,
    "pycharm": {
     "name": "#%%\n"
    }
   }
  },
  {
   "cell_type": "code",
   "execution_count": 6,
   "outputs": [],
   "source": [
    "scheduled_demand = df.loc['01-02-2021', 'food_packaging_sme']"
   ],
   "metadata": {
    "collapsed": false,
    "pycharm": {
     "name": "#%%\n"
    }
   }
  },
  {
   "cell_type": "code",
   "execution_count": 11,
   "outputs": [],
   "source": [
    "lst = ['2021-01-02 09:00:00', '2021-01-02 10:00:00',\n",
    "               '2021-01-02 11:00:00', '2021-01-02 12:00:00',\n",
    "               '2021-01-02 13:00:00', '2021-01-02 14:00:00',\n",
    "               '2021-01-02 15:00:00']"
   ],
   "metadata": {
    "collapsed": false,
    "pycharm": {
     "name": "#%%\n"
    }
   }
  },
  {
   "cell_type": "code",
   "execution_count": 7,
   "outputs": [
    {
     "data": {
      "text/plain": "Local\n2021-01-02 00:00:00    17.5\n2021-01-02 00:15:00    21.5\n2021-01-02 00:30:00    19.0\n2021-01-02 00:45:00    17.5\n2021-01-02 01:00:00    20.5\n                       ... \n2021-01-02 22:45:00    55.5\n2021-01-02 23:00:00    59.5\n2021-01-02 23:15:00    19.5\n2021-01-02 23:30:00    18.0\n2021-01-02 23:45:00    20.5\nName: food_packaging_sme, Length: 96, dtype: float64"
     },
     "execution_count": 7,
     "metadata": {},
     "output_type": "execute_result"
    }
   ],
   "source": [
    "scheduled_demand"
   ],
   "metadata": {
    "collapsed": false,
    "pycharm": {
     "name": "#%%\n"
    }
   }
  },
  {
   "cell_type": "code",
   "execution_count": 8,
   "outputs": [
    {
     "data": {
      "text/plain": "                     Office 1  Office 2  Office 3  Office 4     School  \\\nLocal                                                                    \n2021-01-01 00:30:00       9.4       4.8       1.8      18.5  12.336667   \n2021-01-01 00:45:00       9.4       5.1       1.8      17.0  11.323333   \n2021-01-01 01:00:00       9.4       4.8       1.7      21.0  11.915000   \n2021-01-01 01:15:00       9.6       4.6       1.8      17.5  11.575000   \n2021-01-01 01:30:00       8.7       4.6       1.8      20.0  12.170000   \n...                       ...       ...       ...       ...        ...   \n2021-01-01 00:00:00       9.4       4.8       1.8      18.5  12.336667   \n2021-01-01 00:15:00       9.4       4.8       1.8      18.5  12.336667   \n2021-12-31 23:15:00       5.1       5.5       1.5      16.0  11.846364   \n2021-12-31 23:30:00       5.1       5.5       1.5      16.0  11.846364   \n2021-12-31 23:45:00       5.1       5.5       1.5      16.0  11.846364   \n\n                     EV_bus_charging_station  Irradiance [W/m^2]  \\\nLocal                                                              \n2021-01-01 00:30:00                   3840.0                 0.0   \n2021-01-01 00:45:00                   3840.0                 0.0   \n2021-01-01 01:00:00                   2520.0                 0.0   \n2021-01-01 01:15:00                   2520.0                 0.0   \n2021-01-01 01:30:00                   2520.0                 0.0   \n...                                      ...                 ...   \n2021-01-01 00:00:00                   3840.0                 0.0   \n2021-01-01 00:15:00                   3840.0                 0.0   \n2021-12-31 23:15:00                   3780.0                 0.0   \n2021-12-31 23:30:00                   3780.0                 0.0   \n2021-12-31 23:45:00                   3780.0                 0.0   \n\n                     T_ambient [Degrees Celsius]  T_ground [Degrees Celsius]  \\\nLocal                                                                          \n2021-01-01 00:30:00                       3066.0                        1.73   \n2021-01-01 00:45:00                       3066.0                        1.73   \n2021-01-01 01:00:00                       3066.0                        1.73   \n2021-01-01 01:15:00                       3066.0                        1.73   \n2021-01-01 01:30:00                       2949.0                     1625.00   \n...                                          ...                         ...   \n2021-01-01 00:00:00                       3066.0                        1.73   \n2021-01-01 00:15:00                       3066.0                        1.73   \n2021-12-31 23:15:00                       3245.0                     2038.00   \n2021-12-31 23:30:00                       3245.0                     2038.00   \n2021-12-31 23:45:00                       3245.0                     2038.00   \n\n                     Wind [m/s]  ...  Diffuse [W/m^2]  Direct [W/m^2]  \\\nLocal                            ...                                    \n2021-01-01 00:30:00      3634.0  ...              0.0             0.0   \n2021-01-01 00:45:00      3634.0  ...              0.0             0.0   \n2021-01-01 01:00:00      3634.0  ...              0.0             0.0   \n2021-01-01 01:15:00      3634.0  ...              0.0             0.0   \n2021-01-01 01:30:00      3469.0  ...              0.0             0.0   \n...                         ...  ...              ...             ...   \n2021-01-01 00:00:00      3634.0  ...              0.0             0.0   \n2021-01-01 00:15:00      3634.0  ...              0.0             0.0   \n2021-12-31 23:15:00      3724.0  ...              0.0             0.0   \n2021-12-31 23:30:00      3724.0  ...              0.0             0.0   \n2021-12-31 23:45:00      3724.0  ...              0.0             0.0   \n\n                     Elevation [Degrees]  Azimuth [Degrees]  \\\nLocal                                                         \n2021-01-01 00:30:00             -60049.0             21.785   \n2021-01-01 00:45:00             -60049.0             21.785   \n2021-01-01 01:00:00             -60049.0             21.785   \n2021-01-01 01:15:00             -60049.0             21.785   \n2021-01-01 01:30:00             -54847.0             45.722   \n...                                  ...                ...   \n2021-01-01 00:00:00             -60049.0             21.785   \n2021-01-01 00:15:00             -60049.0             21.785   \n2021-12-31 23:15:00             -58117.0            326.722   \n2021-12-31 23:30:00             -58117.0            326.722   \n2021-12-31 23:45:00             -58117.0            326.722   \n\n                     hh1_consumption [kWh]  hh2_consumption [kWh]  \\\nLocal                                                               \n2021-01-01 00:30:00               0.155531               0.122680   \n2021-01-01 00:45:00               0.152786               0.123942   \n2021-01-01 01:00:00               0.147419               0.122407   \n2021-01-01 01:15:00               0.141327               0.121962   \n2021-01-01 01:30:00               0.140301               0.118858   \n...                                    ...                    ...   \n2021-01-01 00:00:00               0.155531               0.122680   \n2021-01-01 00:15:00               0.155531               0.122680   \n2021-12-31 23:15:00               0.197897               0.945290   \n2021-12-31 23:30:00               0.197897               0.945290   \n2021-12-31 23:45:00               0.197897               0.945290   \n\n                     hh3_consumption [kWh]  school_mbo  drink_packaging_sme  \\\nLocal                                                                         \n2021-01-01 00:30:00               0.383605   12.336667                 18.5   \n2021-01-01 00:45:00               0.353554   11.323333                 17.0   \n2021-01-01 01:00:00               0.322331   11.915000                 21.0   \n2021-01-01 01:15:00               0.300250   11.575000                 17.5   \n2021-01-01 01:30:00               0.287108   12.170000                 20.0   \n...                                    ...         ...                  ...   \n2021-01-01 00:00:00               0.383605   12.336667                 18.5   \n2021-01-01 00:15:00               0.383605   12.336667                 18.5   \n2021-12-31 23:15:00               0.443243   11.846364                 16.0   \n2021-12-31 23:30:00               0.443243   11.846364                 16.0   \n2021-12-31 23:45:00               0.443243   11.846364                 16.0   \n\n                     food_packaging_sme  \nLocal                                    \n2021-01-01 00:30:00                18.5  \n2021-01-01 00:45:00                17.0  \n2021-01-01 01:00:00                21.0  \n2021-01-01 01:15:00                17.5  \n2021-01-01 01:30:00                20.0  \n...                                 ...  \n2021-01-01 00:00:00                18.5  \n2021-01-01 00:15:00                18.5  \n2021-12-31 23:15:00                16.0  \n2021-12-31 23:30:00                16.0  \n2021-12-31 23:45:00                16.0  \n\n[35040 rows x 23 columns]",
      "text/html": "<div>\n<style scoped>\n    .dataframe tbody tr th:only-of-type {\n        vertical-align: middle;\n    }\n\n    .dataframe tbody tr th {\n        vertical-align: top;\n    }\n\n    .dataframe thead th {\n        text-align: right;\n    }\n</style>\n<table border=\"1\" class=\"dataframe\">\n  <thead>\n    <tr style=\"text-align: right;\">\n      <th></th>\n      <th>Office 1</th>\n      <th>Office 2</th>\n      <th>Office 3</th>\n      <th>Office 4</th>\n      <th>School</th>\n      <th>EV_bus_charging_station</th>\n      <th>Irradiance [W/m^2]</th>\n      <th>T_ambient [Degrees Celsius]</th>\n      <th>T_ground [Degrees Celsius]</th>\n      <th>Wind [m/s]</th>\n      <th>...</th>\n      <th>Diffuse [W/m^2]</th>\n      <th>Direct [W/m^2]</th>\n      <th>Elevation [Degrees]</th>\n      <th>Azimuth [Degrees]</th>\n      <th>hh1_consumption [kWh]</th>\n      <th>hh2_consumption [kWh]</th>\n      <th>hh3_consumption [kWh]</th>\n      <th>school_mbo</th>\n      <th>drink_packaging_sme</th>\n      <th>food_packaging_sme</th>\n    </tr>\n    <tr>\n      <th>Local</th>\n      <th></th>\n      <th></th>\n      <th></th>\n      <th></th>\n      <th></th>\n      <th></th>\n      <th></th>\n      <th></th>\n      <th></th>\n      <th></th>\n      <th></th>\n      <th></th>\n      <th></th>\n      <th></th>\n      <th></th>\n      <th></th>\n      <th></th>\n      <th></th>\n      <th></th>\n      <th></th>\n      <th></th>\n    </tr>\n  </thead>\n  <tbody>\n    <tr>\n      <th>2021-01-01 00:30:00</th>\n      <td>9.4</td>\n      <td>4.8</td>\n      <td>1.8</td>\n      <td>18.5</td>\n      <td>12.336667</td>\n      <td>3840.0</td>\n      <td>0.0</td>\n      <td>3066.0</td>\n      <td>1.73</td>\n      <td>3634.0</td>\n      <td>...</td>\n      <td>0.0</td>\n      <td>0.0</td>\n      <td>-60049.0</td>\n      <td>21.785</td>\n      <td>0.155531</td>\n      <td>0.122680</td>\n      <td>0.383605</td>\n      <td>12.336667</td>\n      <td>18.5</td>\n      <td>18.5</td>\n    </tr>\n    <tr>\n      <th>2021-01-01 00:45:00</th>\n      <td>9.4</td>\n      <td>5.1</td>\n      <td>1.8</td>\n      <td>17.0</td>\n      <td>11.323333</td>\n      <td>3840.0</td>\n      <td>0.0</td>\n      <td>3066.0</td>\n      <td>1.73</td>\n      <td>3634.0</td>\n      <td>...</td>\n      <td>0.0</td>\n      <td>0.0</td>\n      <td>-60049.0</td>\n      <td>21.785</td>\n      <td>0.152786</td>\n      <td>0.123942</td>\n      <td>0.353554</td>\n      <td>11.323333</td>\n      <td>17.0</td>\n      <td>17.0</td>\n    </tr>\n    <tr>\n      <th>2021-01-01 01:00:00</th>\n      <td>9.4</td>\n      <td>4.8</td>\n      <td>1.7</td>\n      <td>21.0</td>\n      <td>11.915000</td>\n      <td>2520.0</td>\n      <td>0.0</td>\n      <td>3066.0</td>\n      <td>1.73</td>\n      <td>3634.0</td>\n      <td>...</td>\n      <td>0.0</td>\n      <td>0.0</td>\n      <td>-60049.0</td>\n      <td>21.785</td>\n      <td>0.147419</td>\n      <td>0.122407</td>\n      <td>0.322331</td>\n      <td>11.915000</td>\n      <td>21.0</td>\n      <td>21.0</td>\n    </tr>\n    <tr>\n      <th>2021-01-01 01:15:00</th>\n      <td>9.6</td>\n      <td>4.6</td>\n      <td>1.8</td>\n      <td>17.5</td>\n      <td>11.575000</td>\n      <td>2520.0</td>\n      <td>0.0</td>\n      <td>3066.0</td>\n      <td>1.73</td>\n      <td>3634.0</td>\n      <td>...</td>\n      <td>0.0</td>\n      <td>0.0</td>\n      <td>-60049.0</td>\n      <td>21.785</td>\n      <td>0.141327</td>\n      <td>0.121962</td>\n      <td>0.300250</td>\n      <td>11.575000</td>\n      <td>17.5</td>\n      <td>17.5</td>\n    </tr>\n    <tr>\n      <th>2021-01-01 01:30:00</th>\n      <td>8.7</td>\n      <td>4.6</td>\n      <td>1.8</td>\n      <td>20.0</td>\n      <td>12.170000</td>\n      <td>2520.0</td>\n      <td>0.0</td>\n      <td>2949.0</td>\n      <td>1625.00</td>\n      <td>3469.0</td>\n      <td>...</td>\n      <td>0.0</td>\n      <td>0.0</td>\n      <td>-54847.0</td>\n      <td>45.722</td>\n      <td>0.140301</td>\n      <td>0.118858</td>\n      <td>0.287108</td>\n      <td>12.170000</td>\n      <td>20.0</td>\n      <td>20.0</td>\n    </tr>\n    <tr>\n      <th>...</th>\n      <td>...</td>\n      <td>...</td>\n      <td>...</td>\n      <td>...</td>\n      <td>...</td>\n      <td>...</td>\n      <td>...</td>\n      <td>...</td>\n      <td>...</td>\n      <td>...</td>\n      <td>...</td>\n      <td>...</td>\n      <td>...</td>\n      <td>...</td>\n      <td>...</td>\n      <td>...</td>\n      <td>...</td>\n      <td>...</td>\n      <td>...</td>\n      <td>...</td>\n      <td>...</td>\n    </tr>\n    <tr>\n      <th>2021-01-01 00:00:00</th>\n      <td>9.4</td>\n      <td>4.8</td>\n      <td>1.8</td>\n      <td>18.5</td>\n      <td>12.336667</td>\n      <td>3840.0</td>\n      <td>0.0</td>\n      <td>3066.0</td>\n      <td>1.73</td>\n      <td>3634.0</td>\n      <td>...</td>\n      <td>0.0</td>\n      <td>0.0</td>\n      <td>-60049.0</td>\n      <td>21.785</td>\n      <td>0.155531</td>\n      <td>0.122680</td>\n      <td>0.383605</td>\n      <td>12.336667</td>\n      <td>18.5</td>\n      <td>18.5</td>\n    </tr>\n    <tr>\n      <th>2021-01-01 00:15:00</th>\n      <td>9.4</td>\n      <td>4.8</td>\n      <td>1.8</td>\n      <td>18.5</td>\n      <td>12.336667</td>\n      <td>3840.0</td>\n      <td>0.0</td>\n      <td>3066.0</td>\n      <td>1.73</td>\n      <td>3634.0</td>\n      <td>...</td>\n      <td>0.0</td>\n      <td>0.0</td>\n      <td>-60049.0</td>\n      <td>21.785</td>\n      <td>0.155531</td>\n      <td>0.122680</td>\n      <td>0.383605</td>\n      <td>12.336667</td>\n      <td>18.5</td>\n      <td>18.5</td>\n    </tr>\n    <tr>\n      <th>2021-12-31 23:15:00</th>\n      <td>5.1</td>\n      <td>5.5</td>\n      <td>1.5</td>\n      <td>16.0</td>\n      <td>11.846364</td>\n      <td>3780.0</td>\n      <td>0.0</td>\n      <td>3245.0</td>\n      <td>2038.00</td>\n      <td>3724.0</td>\n      <td>...</td>\n      <td>0.0</td>\n      <td>0.0</td>\n      <td>-58117.0</td>\n      <td>326.722</td>\n      <td>0.197897</td>\n      <td>0.945290</td>\n      <td>0.443243</td>\n      <td>11.846364</td>\n      <td>16.0</td>\n      <td>16.0</td>\n    </tr>\n    <tr>\n      <th>2021-12-31 23:30:00</th>\n      <td>5.1</td>\n      <td>5.5</td>\n      <td>1.5</td>\n      <td>16.0</td>\n      <td>11.846364</td>\n      <td>3780.0</td>\n      <td>0.0</td>\n      <td>3245.0</td>\n      <td>2038.00</td>\n      <td>3724.0</td>\n      <td>...</td>\n      <td>0.0</td>\n      <td>0.0</td>\n      <td>-58117.0</td>\n      <td>326.722</td>\n      <td>0.197897</td>\n      <td>0.945290</td>\n      <td>0.443243</td>\n      <td>11.846364</td>\n      <td>16.0</td>\n      <td>16.0</td>\n    </tr>\n    <tr>\n      <th>2021-12-31 23:45:00</th>\n      <td>5.1</td>\n      <td>5.5</td>\n      <td>1.5</td>\n      <td>16.0</td>\n      <td>11.846364</td>\n      <td>3780.0</td>\n      <td>0.0</td>\n      <td>3245.0</td>\n      <td>2038.00</td>\n      <td>3724.0</td>\n      <td>...</td>\n      <td>0.0</td>\n      <td>0.0</td>\n      <td>-58117.0</td>\n      <td>326.722</td>\n      <td>0.197897</td>\n      <td>0.945290</td>\n      <td>0.443243</td>\n      <td>11.846364</td>\n      <td>16.0</td>\n      <td>16.0</td>\n    </tr>\n  </tbody>\n</table>\n<p>35040 rows × 23 columns</p>\n</div>"
     },
     "execution_count": 8,
     "metadata": {},
     "output_type": "execute_result"
    }
   ],
   "source": [
    "df"
   ],
   "metadata": {
    "collapsed": false,
    "pycharm": {
     "name": "#%%\n"
    }
   }
  },
  {
   "cell_type": "code",
   "execution_count": 18,
   "outputs": [
    {
     "name": "stdout",
     "output_type": "stream",
     "text": [
      "True\n"
     ]
    }
   ],
   "source": [
    "participation_in_tod = 1\n",
    "if participation_in_tod is not None and participation_in_tod > 0:\n",
    "        print(True)\n",
    "else:\n",
    "    print(False)"
   ],
   "metadata": {
    "collapsed": false,
    "pycharm": {
     "name": "#%%\n"
    }
   }
  },
  {
   "cell_type": "code",
   "execution_count": 86,
   "outputs": [
    {
     "data": {
      "text/plain": "Local\n2021-01-02 09:00:00    0.185059\n2021-01-02 10:00:00    0.175410\n2021-01-02 11:00:00    0.156055\n2021-01-02 12:00:00    0.224693\n2021-01-02 13:00:00    0.158484\n2021-01-02 14:00:00    0.165334\n2021-01-02 15:00:00    0.138912\nName: hh2_consumption [kWh], dtype: float64"
     },
     "execution_count": 86,
     "metadata": {},
     "output_type": "execute_result"
    }
   ],
   "source": [
    "scheduled_demand[lst]"
   ],
   "metadata": {
    "collapsed": false,
    "pycharm": {
     "name": "#%%\n"
    }
   }
  },
  {
   "cell_type": "code",
   "execution_count": 87,
   "outputs": [],
   "source": [
    "updated_schedule = scheduled_demand[lst] * ( 1 - 0)"
   ],
   "metadata": {
    "collapsed": false,
    "pycharm": {
     "name": "#%%\n"
    }
   }
  },
  {
   "cell_type": "code",
   "execution_count": 90,
   "outputs": [
    {
     "data": {
      "text/plain": "0.19273365996051522"
     },
     "execution_count": 90,
     "metadata": {},
     "output_type": "execute_result"
    }
   ],
   "source": [
    "( 1 - 0) * random.uniform(0.20, 0)"
   ],
   "metadata": {
    "collapsed": false,
    "pycharm": {
     "name": "#%%\n"
    }
   }
  },
  {
   "cell_type": "code",
   "execution_count": 25,
   "outputs": [
    {
     "name": "stdout",
     "output_type": "stream",
     "text": [
      "0.6336549790158418\n",
      "0.5108398368936146\n",
      "0.7086098613174155\n",
      "0.3808123807285505\n",
      "0.23161221829733425\n",
      "0.3775688741351563\n",
      "0.34179375793930855\n",
      "0.8910502443076996\n",
      "0.5790537280519453\n",
      "0.6295631574298138\n"
     ]
    }
   ],
   "source": [
    "for i in range(10):\n",
    "    print(random.uniform(0, 1))"
   ],
   "metadata": {
    "collapsed": false,
    "pycharm": {
     "name": "#%%\n"
    }
   }
  },
  {
   "cell_type": "code",
   "execution_count": 21,
   "outputs": [
    {
     "data": {
      "text/plain": "1"
     },
     "execution_count": 21,
     "metadata": {},
     "output_type": "execute_result"
    }
   ],
   "source": [
    "participation_in_tod"
   ],
   "metadata": {
    "collapsed": false,
    "pycharm": {
     "name": "#%%\n"
    }
   }
  },
  {
   "cell_type": "code",
   "execution_count": 79,
   "outputs": [
    {
     "name": "stderr",
     "output_type": "stream",
     "text": [
      "C:\\Users\\dl02\\AppData\\Local\\Temp\\ipykernel_9708\\2321151053.py:1: SettingWithCopyWarning: \n",
      "A value is trying to be set on a copy of a slice from a DataFrame\n",
      "\n",
      "See the caveats in the documentation: https://pandas.pydata.org/pandas-docs/stable/user_guide/indexing.html#returning-a-view-versus-a-copy\n",
      "  scheduled_demand.loc[lst] = updated_schedule\n"
     ]
    }
   ],
   "source": [
    "scheduled_demand.loc[lst] = updated_schedule"
   ],
   "metadata": {
    "collapsed": false,
    "pycharm": {
     "name": "#%%\n"
    }
   }
  },
  {
   "cell_type": "code",
   "execution_count": 81,
   "outputs": [
    {
     "data": {
      "text/plain": "Local\n2021-01-02 09:00:00    0.185059\n2021-01-02 10:00:00    0.175410\n2021-01-02 11:00:00    0.156055\n2021-01-02 12:00:00    0.224693\n2021-01-02 13:00:00    0.158484\n2021-01-02 14:00:00    0.165334\n2021-01-02 15:00:00    0.138912\nName: hh2_consumption [kWh], dtype: float64"
     },
     "execution_count": 81,
     "metadata": {},
     "output_type": "execute_result"
    }
   ],
   "source": [
    "scheduled_demand[lst]"
   ],
   "metadata": {
    "collapsed": false,
    "pycharm": {
     "name": "#%%\n"
    }
   }
  },
  {
   "cell_type": "code",
   "execution_count": 13,
   "outputs": [
    {
     "name": "stdout",
     "output_type": "stream",
     "text": [
      "2021-01-02 01:00:00   2021-01-02 01:00:00\n",
      "2021-01-02 06:00:00   2021-01-02 06:00:00\n",
      "2021-01-02 07:00:00   2021-01-02 07:00:00\n",
      "2021-01-02 08:00:00   2021-01-02 08:00:00\n",
      "2021-01-02 09:00:00   2021-01-02 09:00:00\n",
      "2021-01-02 10:00:00   2021-01-02 10:00:00\n",
      "2021-01-02 17:00:00   2021-01-02 17:00:00\n",
      "\n"
     ]
    }
   ],
   "source": [
    "print('2021-01-02 01:00:00   2021-01-02 01:00:00\\n2021-01-02 06:00:00   2021-01-02 06:00:00\\n2021-01-02 07:00:00   2021-01-02 07:00:00\\n2021-01-02 08:00:00   2021-01-02 08:00:00\\n2021-01-02 09:00:00   2021-01-02 09:00:00\\n2021-01-02 10:00:00   2021-01-02 10:00:00\\n2021-01-02 17:00:00   2021-01-02 17:00:00\\n')"
   ],
   "metadata": {
    "collapsed": false,
    "pycharm": {
     "name": "#%%\n"
    }
   }
  },
  {
   "cell_type": "code",
   "execution_count": 11,
   "outputs": [
    {
     "data": {
      "text/plain": "Local\n2021-01-01 00:30:00    0.122680\n2021-01-01 00:45:00    0.123942\n2021-01-01 01:00:00    0.122407\n2021-01-01 01:15:00    0.121962\n2021-01-01 01:30:00    0.118858\n                         ...   \n2021-01-01 23:15:00    0.129497\n2021-01-01 23:30:00    0.124854\n2021-01-01 23:45:00    0.120973\n2021-01-01 00:00:00    0.122680\n2021-01-01 00:15:00    0.122680\nName: hh2_consumption [kWh], Length: 96, dtype: float64"
     },
     "execution_count": 11,
     "metadata": {},
     "output_type": "execute_result"
    }
   ],
   "source": [
    "scheduled_demand"
   ],
   "metadata": {
    "collapsed": false,
    "pycharm": {
     "name": "#%%\n"
    }
   }
  },
  {
   "cell_type": "code",
   "execution_count": 11,
   "outputs": [],
   "source": [
    "for asset_category in model.all_assets.keys():\n",
    "    for asset in model.all_assets[asset_category]:\n",
    "        supply = asset.supply_schedule\n",
    "        break"
   ],
   "metadata": {
    "collapsed": false,
    "pycharm": {
     "name": "#%%\n"
    }
   }
  },
  {
   "cell_type": "code",
   "execution_count": 12,
   "outputs": [],
   "source": [
    "supply"
   ],
   "metadata": {
    "collapsed": false,
    "pycharm": {
     "name": "#%%\n"
    }
   }
  },
  {
   "cell_type": "code",
   "execution_count": null,
   "outputs": [],
   "source": [
    "members = [Residential, NonResidential, EV]"
   ],
   "metadata": {
    "collapsed": false,
    "pycharm": {
     "name": "#%%\n",
     "is_executing": true
    }
   }
  },
  {
   "cell_type": "code",
   "execution_count": 5,
   "outputs": [],
   "source": [
    "import numpy as np\n",
    "import pandas as pd"
   ],
   "metadata": {
    "collapsed": false,
    "pycharm": {
     "name": "#%%\n"
    }
   }
  },
  {
   "cell_type": "code",
   "execution_count": 6,
   "outputs": [],
   "source": [
    "data = np.random.randn(96)"
   ],
   "metadata": {
    "collapsed": false,
    "pycharm": {
     "name": "#%%\n"
    }
   }
  },
  {
   "cell_type": "code",
   "execution_count": 8,
   "outputs": [],
   "source": [
    "ts = pd.Series(data=data, index=np.arange(96), name='HelloTimeSeries')"
   ],
   "metadata": {
    "collapsed": false,
    "pycharm": {
     "name": "#%%\n"
    }
   }
  },
  {
   "cell_type": "code",
   "execution_count": 14,
   "outputs": [
    {
     "data": {
      "text/plain": "0.6434183005534535"
     },
     "execution_count": 14,
     "metadata": {},
     "output_type": "execute_result"
    }
   ],
   "source": [
    "ts.quantile(0.7)"
   ],
   "metadata": {
    "collapsed": false,
    "pycharm": {
     "name": "#%%\n"
    }
   }
  },
  {
   "cell_type": "markdown",
   "source": [
    "## 1. Micro validation"
   ],
   "metadata": {
    "collapsed": false,
    "pycharm": {
     "name": "#%% md\n"
    }
   }
  },
  {
   "cell_type": "code",
   "execution_count": 3,
   "outputs": [],
   "source": [],
   "metadata": {
    "collapsed": false,
    "pycharm": {
     "name": "#%%\n"
    }
   }
  },
  {
   "cell_type": "markdown",
   "source": [
    "### 1.1 Extreme lever test"
   ],
   "metadata": {
    "collapsed": false,
    "pycharm": {
     "name": "#%% md\n"
    }
   }
  },
  {
   "cell_type": "code",
   "execution_count": 6,
   "outputs": [],
   "source": [],
   "metadata": {
    "collapsed": false,
    "pycharm": {
     "name": "#%%\n"
    }
   }
  },
  {
   "cell_type": "markdown",
   "source": [
    "### 1.2 Extreme uncertainty test"
   ],
   "metadata": {
    "collapsed": false,
    "pycharm": {
     "name": "#%% md\n"
    }
   }
  },
  {
   "cell_type": "code",
   "execution_count": null,
   "outputs": [],
   "source": [],
   "metadata": {
    "collapsed": false,
    "pycharm": {
     "name": "#%%\n"
    }
   }
  },
  {
   "cell_type": "markdown",
   "source": [
    "## 2. Macro validation"
   ],
   "metadata": {
    "collapsed": false,
    "pycharm": {
     "name": "#%% md\n"
    }
   }
  },
  {
   "cell_type": "code",
   "execution_count": 3,
   "outputs": [],
   "source": [],
   "metadata": {
    "collapsed": false,
    "pycharm": {
     "name": "#%%\n"
    }
   }
  },
  {
   "cell_type": "markdown",
   "source": [
    "### 2.1 Extreme lever test"
   ],
   "metadata": {
    "collapsed": false,
    "pycharm": {
     "name": "#%% md\n"
    }
   }
  },
  {
   "cell_type": "code",
   "execution_count": 6,
   "outputs": [],
   "source": [],
   "metadata": {
    "collapsed": false,
    "pycharm": {
     "name": "#%%\n"
    }
   }
  },
  {
   "cell_type": "markdown",
   "source": [
    "### 2.2 Extreme uncertainty test"
   ],
   "metadata": {
    "collapsed": false,
    "pycharm": {
     "name": "#%% md\n"
    }
   }
  },
  {
   "cell_type": "code",
   "execution_count": null,
   "outputs": [],
   "source": [],
   "metadata": {
    "collapsed": false,
    "pycharm": {
     "name": "#%%\n"
    }
   }
  }
 ],
 "metadata": {
  "kernelspec": {
   "display_name": "Python 3",
   "language": "python",
   "name": "python3"
  },
  "language_info": {
   "codemirror_mode": {
    "name": "ipython",
    "version": 2
   },
   "file_extension": ".py",
   "mimetype": "text/x-python",
   "name": "python",
   "nbconvert_exporter": "python",
   "pygments_lexer": "ipython2",
   "version": "2.7.6"
  }
 },
 "nbformat": 4,
 "nbformat_minor": 0
}