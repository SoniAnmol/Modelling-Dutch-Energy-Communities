{
 "cells": [
  {
   "cell_type": "code",
   "execution_count": 1,
   "metadata": {
    "collapsed": true
   },
   "outputs": [],
   "source": [
    "from model.model_code import EnergyCommunity\n",
    "from model.community_setup import *"
   ]
  },
  {
   "cell_type": "code",
   "execution_count": 2,
   "outputs": [],
   "source": [
    "# Select the community to run the simulation\n",
    "agents_list = create_community_configuration(community_name='gridflex_heeten')"
   ],
   "metadata": {
    "collapsed": false,
    "pycharm": {
     "name": "#%%\n"
    }
   }
  },
  {
   "cell_type": "code",
   "execution_count": 5,
   "outputs": [
    {
     "data": {
      "text/plain": "[{'member_name': 'hh2_consumption [kWh]',\n  'member_type': <MemberType.RESIDENTIAL: 1>,\n  'agent_type': <AgentType.CONSUMER: 1>,\n  'demand_flexibility': 0.2,\n  'asset_list': None},\n {'member_name': 'hh2_consumption [kWh]',\n  'member_type': <MemberType.RESIDENTIAL: 1>,\n  'agent_type': <AgentType.CONSUMER: 1>,\n  'demand_flexibility': 0.2,\n  'asset_list': None},\n {'member_name': 'hh3_consumption [kWh]',\n  'member_type': <MemberType.RESIDENTIAL: 1>,\n  'agent_type': <AgentType.CONSUMER: 1>,\n  'demand_flexibility': 0.2,\n  'asset_list': None},\n {'member_name': 'hh1_consumption [kWh]',\n  'member_type': <MemberType.RESIDENTIAL: 1>,\n  'agent_type': <AgentType.CONSUMER: 1>,\n  'demand_flexibility': 0.2,\n  'asset_list': None},\n {'member_name': 'hh1_consumption [kWh]',\n  'member_type': <MemberType.RESIDENTIAL: 1>,\n  'agent_type': <AgentType.CONSUMER: 1>,\n  'demand_flexibility': 0.2,\n  'asset_list': None},\n {'member_name': 'hh3_consumption [kWh]',\n  'member_type': <MemberType.RESIDENTIAL: 1>,\n  'agent_type': <AgentType.CONSUMER: 1>,\n  'demand_flexibility': 0.2,\n  'asset_list': None},\n {'member_name': 'hh1_consumption [kWh]',\n  'member_type': <MemberType.RESIDENTIAL: 1>,\n  'agent_type': <AgentType.CONSUMER: 1>,\n  'demand_flexibility': 0.2,\n  'asset_list': None},\n {'member_name': 'hh3_consumption [kWh]',\n  'member_type': <MemberType.RESIDENTIAL: 1>,\n  'agent_type': <AgentType.CONSUMER: 1>,\n  'demand_flexibility': 0.2,\n  'asset_list': None},\n {'member_name': 'hh2_consumption [kWh]',\n  'member_type': <MemberType.RESIDENTIAL: 1>,\n  'agent_type': <AgentType.CONSUMER: 1>,\n  'demand_flexibility': 0.2,\n  'asset_list': None},\n {'member_name': 'hh3_consumption [kWh]',\n  'member_type': <MemberType.RESIDENTIAL: 1>,\n  'agent_type': <AgentType.CONSUMER: 1>,\n  'demand_flexibility': 0.2,\n  'asset_list': None},\n {'member_name': 'hh3_consumption [kWh]',\n  'member_type': <MemberType.RESIDENTIAL: 1>,\n  'agent_type': <AgentType.CONSUMER: 1>,\n  'demand_flexibility': 0.2,\n  'asset_list': None},\n {'member_name': 'hh3_consumption [kWh]',\n  'member_type': <MemberType.RESIDENTIAL: 1>,\n  'agent_type': <AgentType.CONSUMER: 1>,\n  'demand_flexibility': 0.2,\n  'asset_list': None},\n {'member_name': 'hh3_consumption [kWh]',\n  'member_type': <MemberType.RESIDENTIAL: 1>,\n  'agent_type': <AgentType.CONSUMER: 1>,\n  'demand_flexibility': 0.2,\n  'asset_list': None},\n {'member_name': 'hh2_consumption [kWh]',\n  'member_type': <MemberType.RESIDENTIAL: 1>,\n  'agent_type': <AgentType.CONSUMER: 1>,\n  'demand_flexibility': 0.2,\n  'asset_list': None},\n {'member_name': 'hh3_consumption [kWh]',\n  'member_type': <MemberType.RESIDENTIAL: 1>,\n  'agent_type': <AgentType.CONSUMER: 1>,\n  'demand_flexibility': 0.2,\n  'asset_list': None},\n {'member_name': 'hh2_consumption [kWh]',\n  'member_type': <MemberType.RESIDENTIAL: 1>,\n  'agent_type': <AgentType.CONSUMER: 1>,\n  'demand_flexibility': 0.2,\n  'asset_list': None},\n {'member_name': 'hh1_consumption [kWh]',\n  'member_type': <MemberType.RESIDENTIAL: 1>,\n  'agent_type': <AgentType.CONSUMER: 1>,\n  'demand_flexibility': 0.2,\n  'asset_list': None},\n {'member_name': 'hh2_consumption [kWh]',\n  'member_type': <MemberType.RESIDENTIAL: 1>,\n  'agent_type': <AgentType.CONSUMER: 1>,\n  'demand_flexibility': 0.2,\n  'asset_list': None},\n {'member_name': 'hh1_consumption [kWh]',\n  'member_type': <MemberType.RESIDENTIAL: 1>,\n  'agent_type': <AgentType.CONSUMER: 1>,\n  'demand_flexibility': 0.2,\n  'asset_list': None},\n {'member_name': 'hh2_consumption [kWh]',\n  'member_type': <MemberType.RESIDENTIAL: 1>,\n  'agent_type': <AgentType.CONSUMER: 1>,\n  'demand_flexibility': 0.2,\n  'asset_list': None},\n {'member_name': 'hh1_consumption [kWh]',\n  'member_type': <MemberType.RESIDENTIAL: 1>,\n  'agent_type': <AgentType.PROSUMER: 2>,\n  'demand_flexibility': 0.2,\n  'asset_list': [{'agent_type': model.agents.Asset,\n    'asset_type': model.agents.Solar,\n    'capacity': 3,\n    'efficiency': 0.2,\n    'price': 0.15}]},\n {'member_name': 'hh3_consumption [kWh]',\n  'member_type': <MemberType.RESIDENTIAL: 1>,\n  'agent_type': <AgentType.PROSUMER: 2>,\n  'demand_flexibility': 0.2,\n  'asset_list': [{'agent_type': model.agents.Asset,\n    'asset_type': model.agents.Solar,\n    'capacity': 3,\n    'efficiency': 0.2,\n    'price': 0.15}]},\n {'member_name': 'hh1_consumption [kWh]',\n  'member_type': <MemberType.RESIDENTIAL: 1>,\n  'agent_type': <AgentType.PROSUMER: 2>,\n  'demand_flexibility': 0.2,\n  'asset_list': [{'agent_type': model.agents.Asset,\n    'asset_type': model.agents.Solar,\n    'capacity': 3,\n    'efficiency': 0.2,\n    'price': 0.15}]},\n {'member_name': 'hh3_consumption [kWh]',\n  'member_type': <MemberType.RESIDENTIAL: 1>,\n  'agent_type': <AgentType.PROSUMER: 2>,\n  'demand_flexibility': 0.2,\n  'asset_list': [{'agent_type': model.agents.Asset,\n    'asset_type': model.agents.Solar,\n    'capacity': 3,\n    'efficiency': 0.2,\n    'price': 0.15}]},\n {'member_name': 'hh2_consumption [kWh]',\n  'member_type': <MemberType.RESIDENTIAL: 1>,\n  'agent_type': <AgentType.PROSUMER: 2>,\n  'demand_flexibility': 0.2,\n  'asset_list': [{'agent_type': model.agents.Asset,\n    'asset_type': model.agents.Solar,\n    'capacity': 3,\n    'efficiency': 0.2,\n    'price': 0.15}]},\n {'member_name': 'hh2_consumption [kWh]',\n  'member_type': <MemberType.RESIDENTIAL: 1>,\n  'agent_type': <AgentType.PROSUMER: 2>,\n  'demand_flexibility': 0.2,\n  'asset_list': [{'agent_type': model.agents.Asset,\n    'asset_type': model.agents.Solar,\n    'capacity': 3,\n    'efficiency': 0.2,\n    'price': 0.15}]},\n {'member_name': 'hh1_consumption [kWh]',\n  'member_type': <MemberType.RESIDENTIAL: 1>,\n  'agent_type': <AgentType.PROSUMER: 2>,\n  'demand_flexibility': 0.2,\n  'asset_list': [{'agent_type': model.agents.Asset,\n    'asset_type': model.agents.Solar,\n    'capacity': 3,\n    'efficiency': 0.2,\n    'price': 0.15}]},\n {'member_name': 'hh3_consumption [kWh]',\n  'member_type': <MemberType.RESIDENTIAL: 1>,\n  'agent_type': <AgentType.PROSUMER: 2>,\n  'demand_flexibility': 0.2,\n  'asset_list': [{'agent_type': model.agents.Asset,\n    'asset_type': model.agents.Solar,\n    'capacity': 3,\n    'efficiency': 0.2,\n    'price': 0.15}]},\n {'member_name': 'hh1_consumption [kWh]',\n  'member_type': <MemberType.RESIDENTIAL: 1>,\n  'agent_type': <AgentType.PROSUMER: 2>,\n  'demand_flexibility': 0.2,\n  'asset_list': [{'agent_type': model.agents.Asset,\n    'asset_type': model.agents.Solar,\n    'capacity': 3,\n    'efficiency': 0.2,\n    'price': 0.15}]},\n {'member_name': 'hh3_consumption [kWh]',\n  'member_type': <MemberType.RESIDENTIAL: 1>,\n  'agent_type': <AgentType.PROSUMER: 2>,\n  'demand_flexibility': 0.2,\n  'asset_list': [{'agent_type': model.agents.Asset,\n    'asset_type': model.agents.Solar,\n    'capacity': 3,\n    'efficiency': 0.2,\n    'price': 0.15}]},\n {'member_name': 'hh2_consumption [kWh]',\n  'member_type': <MemberType.RESIDENTIAL: 1>,\n  'agent_type': <AgentType.PROSUMER: 2>,\n  'demand_flexibility': 0.2,\n  'asset_list': [{'agent_type': model.agents.Asset,\n    'asset_type': model.agents.Solar,\n    'capacity': 3,\n    'efficiency': 0.2,\n    'price': 0.15}]},\n {'member_name': 'hh2_consumption [kWh]',\n  'member_type': <MemberType.RESIDENTIAL: 1>,\n  'agent_type': <AgentType.PROSUMER: 2>,\n  'demand_flexibility': 0.2,\n  'asset_list': [{'agent_type': model.agents.Asset,\n    'asset_type': model.agents.Solar,\n    'capacity': 3,\n    'efficiency': 0.2,\n    'price': 0.15}]},\n {'member_name': 'hh3_consumption [kWh]',\n  'member_type': <MemberType.RESIDENTIAL: 1>,\n  'agent_type': <AgentType.PROSUMER: 2>,\n  'demand_flexibility': 0.2,\n  'asset_list': [{'agent_type': model.agents.Asset,\n    'asset_type': model.agents.Solar,\n    'capacity': 3,\n    'efficiency': 0.2,\n    'price': 0.15}]},\n {'member_name': 'hh2_consumption [kWh]',\n  'member_type': <MemberType.RESIDENTIAL: 1>,\n  'agent_type': <AgentType.PROSUMER: 2>,\n  'demand_flexibility': 0.2,\n  'asset_list': [{'agent_type': model.agents.Asset,\n    'asset_type': model.agents.Solar,\n    'capacity': 3,\n    'efficiency': 0.2,\n    'price': 0.15}]},\n {'member_name': 'hh1_consumption [kWh]',\n  'member_type': <MemberType.RESIDENTIAL: 1>,\n  'agent_type': <AgentType.PROSUMER: 2>,\n  'demand_flexibility': 0.2,\n  'asset_list': [{'agent_type': model.agents.Asset,\n    'asset_type': model.agents.Solar,\n    'capacity': 3,\n    'efficiency': 0.2,\n    'price': 0.15}]},\n {'member_name': 'hh2_consumption [kWh]',\n  'member_type': <MemberType.RESIDENTIAL: 1>,\n  'agent_type': <AgentType.PROSUMER: 2>,\n  'demand_flexibility': 0.2,\n  'asset_list': [{'agent_type': model.agents.Asset,\n    'asset_type': model.agents.Solar,\n    'capacity': 3,\n    'efficiency': 0.2,\n    'price': 0.15}]},\n {'member_name': 'hh2_consumption [kWh]',\n  'member_type': <MemberType.RESIDENTIAL: 1>,\n  'agent_type': <AgentType.PROSUMER: 2>,\n  'demand_flexibility': 0.2,\n  'asset_list': [{'agent_type': model.agents.Asset,\n    'asset_type': model.agents.Solar,\n    'capacity': 3,\n    'efficiency': 0.2,\n    'price': 0.15}]},\n {'member_name': 'hh2_consumption [kWh]',\n  'member_type': <MemberType.RESIDENTIAL: 1>,\n  'agent_type': <AgentType.PROSUMER: 2>,\n  'demand_flexibility': 0.2,\n  'asset_list': [{'agent_type': model.agents.Asset,\n    'asset_type': model.agents.Solar,\n    'capacity': 3,\n    'efficiency': 0.2,\n    'price': 0.15}]},\n {'member_name': 'hh1_consumption [kWh]',\n  'member_type': <MemberType.RESIDENTIAL: 1>,\n  'agent_type': <AgentType.PROSUMER: 2>,\n  'demand_flexibility': 0.2,\n  'asset_list': [{'agent_type': model.agents.Asset,\n    'asset_type': model.agents.Solar,\n    'capacity': 3,\n    'efficiency': 0.2,\n    'price': 0.15}]},\n {'member_name': 'hh1_consumption [kWh]',\n  'member_type': <MemberType.RESIDENTIAL: 1>,\n  'agent_type': <AgentType.PROSUMER: 2>,\n  'demand_flexibility': 0.2,\n  'asset_list': [{'agent_type': model.agents.Asset,\n    'asset_type': model.agents.Solar,\n    'capacity': 3,\n    'efficiency': 0.2,\n    'price': 0.15}]},\n {'member_name': 'hh3_consumption [kWh]',\n  'member_type': <MemberType.RESIDENTIAL: 1>,\n  'agent_type': <AgentType.PROSUMER: 2>,\n  'demand_flexibility': 0.2,\n  'asset_list': [{'agent_type': model.agents.Asset,\n    'asset_type': model.agents.Solar,\n    'capacity': 3,\n    'efficiency': 0.2,\n    'price': 0.15}]},\n {'member_name': 'hh1_consumption [kWh]',\n  'member_type': <MemberType.RESIDENTIAL: 1>,\n  'agent_type': <AgentType.PROSUMER: 2>,\n  'demand_flexibility': 0.2,\n  'asset_list': [{'agent_type': model.agents.Asset,\n    'asset_type': model.agents.Solar,\n    'capacity': 3,\n    'efficiency': 0.2,\n    'price': 0.15}]},\n {'member_name': 'hh3_consumption [kWh]',\n  'member_type': <MemberType.RESIDENTIAL: 1>,\n  'agent_type': <AgentType.PROSUMER: 2>,\n  'demand_flexibility': 0.2,\n  'asset_list': [{'agent_type': model.agents.Asset,\n    'asset_type': model.agents.Solar,\n    'capacity': 3,\n    'efficiency': 0.2,\n    'price': 0.15}]},\n {'member_name': 'hh1_consumption [kWh]',\n  'member_type': <MemberType.RESIDENTIAL: 1>,\n  'agent_type': <AgentType.PROSUMER: 2>,\n  'demand_flexibility': 0.2,\n  'asset_list': [{'agent_type': model.agents.Asset,\n    'asset_type': model.agents.Solar,\n    'capacity': 3,\n    'efficiency': 0.2,\n    'price': 0.15}]},\n {'member_name': 'hh1_consumption [kWh]',\n  'member_type': <MemberType.RESIDENTIAL: 1>,\n  'agent_type': <AgentType.PROSUMER: 2>,\n  'demand_flexibility': 0.2,\n  'asset_list': [{'agent_type': model.agents.Asset,\n    'asset_type': model.agents.Solar,\n    'capacity': 3,\n    'efficiency': 0.2,\n    'price': 0.15}]},\n {'member_name': 'hh2_consumption [kWh]',\n  'member_type': <MemberType.RESIDENTIAL: 1>,\n  'agent_type': <AgentType.PROSUMER: 2>,\n  'demand_flexibility': 0.2,\n  'asset_list': [{'agent_type': model.agents.Asset,\n    'asset_type': model.agents.Solar,\n    'capacity': 3,\n    'efficiency': 0.2,\n    'price': 0.15}]},\n {'member_name': 'hh3_consumption [kWh]',\n  'member_type': <MemberType.RESIDENTIAL: 1>,\n  'agent_type': <AgentType.PROSUMER: 2>,\n  'demand_flexibility': 0.2,\n  'asset_list': [{'agent_type': model.agents.Asset,\n    'asset_type': model.agents.Solar,\n    'capacity': 3,\n    'efficiency': 0.2,\n    'price': 0.15}]},\n {'member_name': 'hh1_consumption [kWh]',\n  'member_type': <MemberType.RESIDENTIAL: 1>,\n  'agent_type': <AgentType.PROSUMER: 2>,\n  'demand_flexibility': 0.2,\n  'asset_list': [{'agent_type': model.agents.Asset,\n    'asset_type': model.agents.Solar,\n    'capacity': 3,\n    'efficiency': 0.2,\n    'price': 0.15}]},\n {'member_name': 'hh1_consumption [kWh]',\n  'member_type': <MemberType.RESIDENTIAL: 1>,\n  'agent_type': <AgentType.PROSUMER: 2>,\n  'demand_flexibility': 0.2,\n  'asset_list': [{'agent_type': model.agents.Asset,\n    'asset_type': model.agents.Solar,\n    'capacity': 3,\n    'efficiency': 0.2,\n    'price': 0.15}]},\n {'member_name': 'hh1_consumption [kWh]',\n  'member_type': <MemberType.RESIDENTIAL: 1>,\n  'agent_type': <AgentType.PROSUMER: 2>,\n  'demand_flexibility': 0.2,\n  'asset_list': [{'agent_type': model.agents.Asset,\n    'asset_type': model.agents.Solar,\n    'capacity': 3,\n    'efficiency': 0.2,\n    'price': 0.15}]},\n {'member_type': <MemberType.NON_RESIDENTIAL: 2>,\n  'member_name': 'Office 1',\n  'agent_type': <AgentType.PROSUMER: 2>,\n  'demand_flexibility': 0.2,\n  'asset_list': [{'agent_type': model.agents.Asset,\n    'asset_type': model.agents.Solar,\n    'capacity': 100,\n    'efficiency': 0.2,\n    'price': 0.15}]},\n {'member_type': <MemberType.NON_RESIDENTIAL: 2>,\n  'member_name': 'EV_charging_station',\n  'agent_type': <AgentType.CONSUMER: 1>,\n  'demand_flexibility': 0.2,\n  'asset_list': None},\n {'member_type': <MemberType.COORDINATOR: 3>}]"
     },
     "execution_count": 5,
     "metadata": {},
     "output_type": "execute_result"
    }
   ],
   "source": [
    "agents_list"
   ],
   "metadata": {
    "collapsed": false,
    "pycharm": {
     "name": "#%%\n"
    }
   }
  },
  {
   "cell_type": "code",
   "execution_count": 6,
   "outputs": [],
   "source": [
    "# Setup model\n",
    "model = EnergyCommunity(agents_list=agents_list)"
   ],
   "metadata": {
    "collapsed": false,
    "pycharm": {
     "name": "#%%\n"
    }
   }
  },
  {
   "cell_type": "code",
   "execution_count": 7,
   "outputs": [
    {
     "data": {
      "text/plain": "[<model.agents.Member at 0x21ce8b23820>,\n <model.agents.Member at 0x21ce8b21e10>,\n <model.agents.Member at 0x21ce8b237c0>,\n <model.agents.Member at 0x21ce8dd0130>,\n <model.agents.Member at 0x21ce8dd08b0>,\n <model.agents.Member at 0x21ce8dd1030>,\n <model.agents.Member at 0x21ce8dd17b0>,\n <model.agents.Member at 0x21ce8dd1f30>,\n <model.agents.Member at 0x21ce8dd26b0>,\n <model.agents.Member at 0x21ce8dd2e30>,\n <model.agents.Member at 0x21ce8dd35b0>,\n <model.agents.Member at 0x21ce8dd3d30>,\n <model.agents.Member at 0x21ce8ddc4f0>,\n <model.agents.Member at 0x21ce8ddcc70>,\n <model.agents.Member at 0x21ce8ddd3f0>,\n <model.agents.Member at 0x21ce8dddb70>,\n <model.agents.Member at 0x21ce8dde2f0>,\n <model.agents.Member at 0x21ce8ddea70>,\n <model.agents.Member at 0x21ce8ddf1f0>,\n <model.agents.Member at 0x21ce8ddf970>,\n <model.agents.Solar at 0x21ce8dec460>,\n <model.agents.Member at 0x21ce8dec130>,\n <model.agents.Solar at 0x21ce8decc10>,\n <model.agents.Member at 0x21ce8dec8e0>,\n <model.agents.Solar at 0x21ce8ded3c0>,\n <model.agents.Member at 0x21ce8ded090>,\n <model.agents.Solar at 0x21ce8dedb70>,\n <model.agents.Member at 0x21ce8ded840>,\n <model.agents.Solar at 0x21ce8dee320>,\n <model.agents.Member at 0x21ce8dedff0>,\n <model.agents.Solar at 0x21ce8deead0>,\n <model.agents.Member at 0x21ce8dee7a0>,\n <model.agents.Solar at 0x21ce8def280>,\n <model.agents.Member at 0x21ce8deef50>,\n <model.agents.Solar at 0x21ce8defa30>,\n <model.agents.Member at 0x21ce8def700>,\n <model.agents.Solar at 0x21ce8e00220>,\n <model.agents.Member at 0x21ce8defeb0>,\n <model.agents.Solar at 0x21ce8e009d0>,\n <model.agents.Member at 0x21ce8e006a0>,\n <model.agents.Solar at 0x21ce8e01180>,\n <model.agents.Member at 0x21ce8e00e50>,\n <model.agents.Solar at 0x21ce8e01930>,\n <model.agents.Member at 0x21ce8e01600>,\n <model.agents.Solar at 0x21ce8e020e0>,\n <model.agents.Member at 0x21ce8e01db0>,\n <model.agents.Solar at 0x21ce8e02890>,\n <model.agents.Member at 0x21ce8e02560>,\n <model.agents.Solar at 0x21ce8e03040>,\n <model.agents.Member at 0x21ce8e02d10>,\n <model.agents.Solar at 0x21ce8e037f0>,\n <model.agents.Member at 0x21ce8e034c0>,\n <model.agents.Solar at 0x21ce8e03fa0>,\n <model.agents.Member at 0x21ce8e03c70>,\n <model.agents.Solar at 0x21ce8e0c790>,\n <model.agents.Member at 0x21ce8e0c460>,\n <model.agents.Solar at 0x21ce8e0cf40>,\n <model.agents.Member at 0x21ce8e0cc10>,\n <model.agents.Solar at 0x21ce8e0d6f0>,\n <model.agents.Member at 0x21ce8e0d3c0>,\n <model.agents.Solar at 0x21ce8e0dea0>,\n <model.agents.Member at 0x21ce8e0db70>,\n <model.agents.Solar at 0x21ce8e0e650>,\n <model.agents.Member at 0x21ce8e0e320>,\n <model.agents.Solar at 0x21ce8e0ee00>,\n <model.agents.Member at 0x21ce8e0ead0>,\n <model.agents.Solar at 0x21ce8e0f5b0>,\n <model.agents.Member at 0x21ce8e0f280>,\n <model.agents.Solar at 0x21ce8e0fd60>,\n <model.agents.Member at 0x21ce8e0fa30>,\n <model.agents.Solar at 0x21ce8e24550>,\n <model.agents.Member at 0x21ce8e24220>,\n <model.agents.Solar at 0x21ce8e24d00>,\n <model.agents.Member at 0x21ce8e249d0>,\n <model.agents.Solar at 0x21ce8e254b0>,\n <model.agents.Member at 0x21ce8e25180>,\n <model.agents.Solar at 0x21ce8e25c60>,\n <model.agents.Member at 0x21ce8e25930>,\n <model.agents.Solar at 0x21ce8e26410>,\n <model.agents.Member at 0x21ce8e260e0>,\n <model.agents.Solar at 0x21ce8e26bc0>,\n <model.agents.Member at 0x21ce8e26890>,\n <model.agents.Member at 0x21ce8e27040>,\n <model.agents.Coordinator at 0x21ce8e277c0>]"
     },
     "execution_count": 7,
     "metadata": {},
     "output_type": "execute_result"
    }
   ],
   "source": [
    "model.schedule.agents"
   ],
   "metadata": {
    "collapsed": false,
    "pycharm": {
     "name": "#%%\n"
    }
   }
  },
  {
   "cell_type": "code",
   "execution_count": null,
   "outputs": [],
   "source": [],
   "metadata": {
    "collapsed": false,
    "pycharm": {
     "name": "#%%\n"
    }
   }
  }
 ],
 "metadata": {
  "kernelspec": {
   "display_name": "Python 3",
   "language": "python",
   "name": "python3"
  },
  "language_info": {
   "codemirror_mode": {
    "name": "ipython",
    "version": 2
   },
   "file_extension": ".py",
   "mimetype": "text/x-python",
   "name": "python",
   "nbconvert_exporter": "python",
   "pygments_lexer": "ipython2",
   "version": "2.7.6"
  }
 },
 "nbformat": 4,
 "nbformat_minor": 0
}