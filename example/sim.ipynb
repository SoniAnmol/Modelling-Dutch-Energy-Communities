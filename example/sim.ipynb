{
 "cells": [
  {
   "cell_type": "markdown",
   "metadata": {
    "collapsed": true,
    "pycharm": {
     "name": "#%% md\n"
    }
   },
   "source": [
    "# Simulation experiments"
   ]
  },
  {
   "cell_type": "code",
   "execution_count": 1,
   "outputs": [],
   "source": [
    "\n",
    "import pandas as pd\n",
    "\n",
    "from model.model_code import EnergyCommunity\n",
    "\n",
    "model = EnergyCommunity()\n"
   ],
   "metadata": {
    "collapsed": false,
    "pycharm": {
     "name": "#%%\n"
    }
   }
  },
  {
   "cell_type": "code",
   "execution_count": 87,
   "outputs": [
    {
     "data": {
      "text/plain": "{model.agents.Coordinator: [<model.agents.Coordinator at 0x10c6eddb0>],\n model.agents.Residential: [<model.agents.Residential at 0x10c6eec50>,\n  <model.agents.Residential at 0x10c6eecb0>,\n  <model.agents.Residential at 0x10c6eee90>,\n  <model.agents.Residential at 0x10c6eee30>,\n  <model.agents.Residential at 0x10c6eeda0>,\n  <model.agents.Residential at 0x10c6ef4f0>,\n  <model.agents.Residential at 0x10c6ef850>,\n  <model.agents.Residential at 0x10c6efbb0>,\n  <model.agents.Residential at 0x10c6efd30>,\n  <model.agents.Residential at 0x10c6efd60>],\n model.agents.NonResidential: [<model.agents.NonResidential at 0x10c6ef040>,\n  <model.agents.NonResidential at 0x10c6ef370>,\n  <model.agents.NonResidential at 0x10c9bc970>],\n model.agents.EVChargingStation: [<model.agents.EVChargingStation at 0x10c9bd600>]}"
     },
     "execution_count": 87,
     "metadata": {},
     "output_type": "execute_result"
    }
   ],
   "source": [
    "model.all_agents"
   ],
   "metadata": {
    "collapsed": false,
    "pycharm": {
     "name": "#%%\n"
    }
   }
  },
  {
   "cell_type": "code",
   "execution_count": 88,
   "outputs": [
    {
     "data": {
      "text/plain": "{model.agents.Solar: [<model.agents.Solar at 0x10c9bccd0>,\n  <model.agents.Solar at 0x10c9bd5d0>]}"
     },
     "execution_count": 88,
     "metadata": {},
     "output_type": "execute_result"
    }
   ],
   "source": [
    "model.all_assets"
   ],
   "metadata": {
    "collapsed": false,
    "pycharm": {
     "name": "#%%\n"
    }
   }
  },
  {
   "cell_type": "code",
   "execution_count": 3,
   "outputs": [],
   "source": [
    "from model.agents import *"
   ],
   "metadata": {
    "collapsed": false,
    "pycharm": {
     "name": "#%%\n"
    }
   }
  },
  {
   "cell_type": "code",
   "execution_count": 19,
   "outputs": [],
   "source": [
    "agent = model.all_agents[NonResidential][0]"
   ],
   "metadata": {
    "collapsed": false,
    "pycharm": {
     "name": "#%%\n"
    }
   }
  },
  {
   "cell_type": "code",
   "execution_count": 65,
   "outputs": [],
   "source": [
    "start_date = datetime.datetime(2021, 1, 1)"
   ],
   "metadata": {
    "collapsed": false,
    "pycharm": {
     "name": "#%%\n"
    }
   }
  },
  {
   "cell_type": "code",
   "execution_count": 66,
   "outputs": [],
   "source": [
    "date = start_date.strftime('%Y-%m-%d')"
   ],
   "metadata": {
    "collapsed": false,
    "pycharm": {
     "name": "#%%\n"
    }
   }
  },
  {
   "cell_type": "code",
   "execution_count": 67,
   "outputs": [
    {
     "data": {
      "text/plain": "'2021-01-01'"
     },
     "execution_count": 67,
     "metadata": {},
     "output_type": "execute_result"
    }
   ],
   "source": [
    "date"
   ],
   "metadata": {
    "collapsed": false,
    "pycharm": {
     "name": "#%%\n"
    }
   }
  },
  {
   "cell_type": "code",
   "execution_count": 68,
   "outputs": [],
   "source": [
    "index = pd.date_range(start=date, periods=96, freq='15min')"
   ],
   "metadata": {
    "collapsed": false,
    "pycharm": {
     "name": "#%%\n"
    }
   }
  },
  {
   "cell_type": "code",
   "execution_count": 69,
   "outputs": [],
   "source": [
    "df = pd.DataFrame(index=index)"
   ],
   "metadata": {
    "collapsed": false,
    "pycharm": {
     "name": "#%%\n"
    }
   }
  },
  {
   "cell_type": "code",
   "execution_count": 70,
   "outputs": [],
   "source": [
    "generation_schedule = pd.Series(index=index, data=0)\n",
    "for asset in agent.assets:\n",
    "    generation_schedule += asset.generate_supply_schedule()"
   ],
   "metadata": {
    "collapsed": false,
    "pycharm": {
     "name": "#%%\n"
    }
   }
  },
  {
   "cell_type": "code",
   "execution_count": 74,
   "outputs": [],
   "source": [
    "demand = agent.get_demand_schedule()"
   ],
   "metadata": {
    "collapsed": false,
    "pycharm": {
     "name": "#%%\n"
    }
   }
  },
  {
   "cell_type": "code",
   "execution_count": 71,
   "outputs": [
    {
     "data": {
      "text/plain": "2021-01-01 00:00:00    0.0\n2021-01-01 00:15:00    0.0\n2021-01-01 00:30:00    0.0\n2021-01-01 00:45:00    0.0\n2021-01-01 01:00:00    0.0\n                      ... \n2021-01-01 22:45:00    0.0\n2021-01-01 23:00:00    0.0\n2021-01-01 23:15:00    0.0\n2021-01-01 23:30:00    0.0\n2021-01-01 23:45:00    0.0\nFreq: 15T, Length: 96, dtype: float64"
     },
     "execution_count": 71,
     "metadata": {},
     "output_type": "execute_result"
    }
   ],
   "source": [
    "generation_schedule"
   ],
   "metadata": {
    "collapsed": false,
    "pycharm": {
     "name": "#%%\n"
    }
   }
  },
  {
   "cell_type": "code",
   "execution_count": 79,
   "outputs": [
    {
     "data": {
      "text/plain": "2021-01-01 00:00:00    18.5\n2021-01-01 00:15:00    18.5\n2021-01-01 00:30:00    18.5\n2021-01-01 00:45:00    17.0\n2021-01-01 01:00:00    21.0\n                       ... \n2021-01-01 22:45:00    71.0\n2021-01-01 23:00:00    18.5\n2021-01-01 23:15:00    20.0\n2021-01-01 23:30:00    18.5\n2021-01-01 23:45:00    17.0\nFreq: 15T, Length: 96, dtype: float64"
     },
     "execution_count": 79,
     "metadata": {},
     "output_type": "execute_result"
    }
   ],
   "source": [
    "demand = (demand - generation_schedule).clip(lower=0)\n",
    "demand"
   ],
   "metadata": {
    "collapsed": false,
    "pycharm": {
     "name": "#%%\n"
    }
   }
  },
  {
   "cell_type": "code",
   "execution_count": 80,
   "outputs": [
    {
     "data": {
      "text/plain": "<AxesSubplot:>"
     },
     "execution_count": 80,
     "metadata": {},
     "output_type": "execute_result"
    },
    {
     "data": {
      "text/plain": "<Figure size 432x288 with 1 Axes>",
      "image/png": "[encoded data removed]"
     },
     "metadata": {
      "needs_background": "light"
     },
     "output_type": "display_data"
    }
   ],
   "source": [
    "demand.plot()"
   ],
   "metadata": {
    "collapsed": false,
    "pycharm": {
     "name": "#%%\n"
    }
   }
  },
  {
   "cell_type": "code",
   "execution_count": 84,
   "outputs": [
    {
     "data": {
      "text/plain": "<AxesSubplot:>"
     },
     "execution_count": 84,
     "metadata": {},
     "output_type": "execute_result"
    },
    {
     "data": {
      "text/plain": "<Figure size 432x288 with 1 Axes>",
      "image/png": "[encoded data removed]"
     },
     "metadata": {
      "needs_background": "light"
     },
     "output_type": "display_data"
    }
   ],
   "source": [
    "(generation_schedule-demand).clip(lower=0).plot()"
   ],
   "metadata": {
    "collapsed": false,
    "pycharm": {
     "name": "#%%\n"
    }
   }
  },
  {
   "cell_type": "code",
   "execution_count": 9,
   "outputs": [],
   "source": [
    "all_agents = {}\n",
    "if agent['agent_type'] in all_agents:\n",
    "    all_agents[agent['agent_type']].append(agent)"
   ],
   "metadata": {
    "collapsed": false,
    "pycharm": {
     "name": "#%%\n"
    }
   }
  },
  {
   "cell_type": "code",
   "execution_count": 13,
   "outputs": [
    {
     "ename": "SyntaxError",
     "evalue": "invalid syntax (2518225679.py, line 1)",
     "output_type": "error",
     "traceback": [
      "\u001B[0;36m  Input \u001B[0;32mIn [13]\u001B[0;36m\u001B[0m\n\u001B[0;31m    agent = Coordinator(unique_id=0, model= pass)\u001B[0m\n\u001B[0m                                            ^\u001B[0m\n\u001B[0;31mSyntaxError\u001B[0m\u001B[0;31m:\u001B[0m invalid syntax\n"
     ]
    }
   ],
   "source": [
    "agent = Coordinator(unique_id=0, model= pass)"
   ],
   "metadata": {
    "collapsed": false,
    "pycharm": {
     "name": "#%%\n"
    }
   }
  },
  {
   "cell_type": "code",
   "execution_count": 86,
   "outputs": [
    {
     "data": {
      "text/plain": "model.model_code.EnergyCommunity"
     },
     "execution_count": 86,
     "metadata": {},
     "output_type": "execute_result"
    }
   ],
   "source": [
    "EnergyCommunity.a"
   ],
   "metadata": {
    "collapsed": false,
    "pycharm": {
     "name": "#%%\n"
    }
   }
  },
  {
   "cell_type": "code",
   "execution_count": 13,
   "outputs": [],
   "source": [
    "all_agents[agent['agent_type']] = [agent]"
   ],
   "metadata": {
    "collapsed": false,
    "pycharm": {
     "name": "#%%\n"
    }
   }
  },
  {
   "cell_type": "code",
   "execution_count": 8,
   "outputs": [
    {
     "ename": "AttributeError",
     "evalue": "'list' object has no attribute 'items'",
     "output_type": "error",
     "traceback": [
      "\u001B[0;31m---------------------------------------------------------------------------\u001B[0m",
      "\u001B[0;31mAttributeError\u001B[0m                            Traceback (most recent call last)",
      "Input \u001B[0;32mIn [8]\u001B[0m, in \u001B[0;36m<module>\u001B[0;34m\u001B[0m\n\u001B[0;32m----> 1\u001B[0m \u001B[43magent_list\u001B[49m\u001B[38;5;241;43m.\u001B[39;49m\u001B[43mitems\u001B[49m()\n",
      "\u001B[0;31mAttributeError\u001B[0m: 'list' object has no attribute 'items'"
     ]
    }
   ],
   "source": [
    "agent_list.items()"
   ],
   "metadata": {
    "collapsed": false,
    "pycharm": {
     "name": "#%%\n"
    }
   }
  },
  {
   "cell_type": "code",
   "execution_count": 12,
   "outputs": [
    {
     "data": {
      "text/plain": "'drink_packaging_sme'"
     },
     "execution_count": 12,
     "metadata": {},
     "output_type": "execute_result"
    }
   ],
   "source": [
    "model.all_agents[NonResidential][0].member"
   ],
   "metadata": {
    "collapsed": false,
    "pycharm": {
     "name": "#%%\n"
    }
   }
  },
  {
   "cell_type": "code",
   "execution_count": 5,
   "outputs": [],
   "source": [
    "from model.agents import *"
   ],
   "metadata": {
    "collapsed": false,
    "pycharm": {
     "name": "#%%\n"
    }
   }
  },
  {
   "cell_type": "code",
   "execution_count": 10,
   "outputs": [],
   "source": [
    "agent_counts = {\n",
    "    Coordinator: 1,\n",
    "    Residential: 10,\n",
    "    Commercial: 2,\n",
    "    Curio: 1,\n",
    "    Sligro: 1,\n",
    "    KoningDrinks: 1,\n",
    "    EVChargingStation: 1,\n",
    "    Solar: 2,\n",
    "    Wind: 0\n",
    "}"
   ],
   "metadata": {
    "collapsed": false,
    "pycharm": {
     "name": "#%%\n"
    }
   }
  },
  {
   "cell_type": "code",
   "execution_count": 11,
   "outputs": [
    {
     "name": "stdout",
     "output_type": "stream",
     "text": [
      "0 <class 'model.agents.Coordinator'>\n",
      "0 <class 'model.agents.Residential'>\n",
      "1 <class 'model.agents.Residential'>\n",
      "2 <class 'model.agents.Residential'>\n",
      "3 <class 'model.agents.Residential'>\n",
      "4 <class 'model.agents.Residential'>\n",
      "5 <class 'model.agents.Residential'>\n",
      "6 <class 'model.agents.Residential'>\n",
      "7 <class 'model.agents.Residential'>\n",
      "8 <class 'model.agents.Residential'>\n",
      "9 <class 'model.agents.Residential'>\n",
      "0 <class 'model.agents.Commercial'>\n",
      "1 <class 'model.agents.Commercial'>\n",
      "0 <class 'model.agents.Curio'>\n",
      "0 <class 'model.agents.Sligro'>\n",
      "0 <class 'model.agents.KoningDrinks'>\n",
      "0 <class 'model.agents.EVChargingStation'>\n",
      "0 <class 'model.agents.Solar'>\n",
      "1 <class 'model.agents.Solar'>\n"
     ]
    }
   ],
   "source": [
    "for agent_type, agent_count in agent_counts.items():\n",
    "    for i in range(agent_count):\n",
    "        print(i, agent_type)"
   ],
   "metadata": {
    "collapsed": false,
    "pycharm": {
     "name": "#%%\n"
    }
   }
  },
  {
   "cell_type": "code",
   "execution_count": 12,
   "outputs": [],
   "source": [
    "\n",
    "start_date = datetime.datetime(2021, 1, 1)\n",
    "date = start_date.strftime('%Y-%m-%d')"
   ],
   "metadata": {
    "collapsed": false,
    "pycharm": {
     "name": "#%%\n"
    }
   }
  },
  {
   "cell_type": "code",
   "execution_count": 13,
   "outputs": [
    {
     "data": {
      "text/plain": "'2021-01-01'"
     },
     "execution_count": 13,
     "metadata": {},
     "output_type": "execute_result"
    }
   ],
   "source": [
    "date"
   ],
   "metadata": {
    "collapsed": false,
    "pycharm": {
     "name": "#%%\n"
    }
   }
  },
  {
   "cell_type": "code",
   "execution_count": 22,
   "outputs": [],
   "source": [
    "tomorrow = datetime.datetime.strptime(date, '%Y-%m-%d') + datetime.timedelta(days=1)"
   ],
   "metadata": {
    "collapsed": false,
    "pycharm": {
     "name": "#%%\n"
    }
   }
  },
  {
   "cell_type": "code",
   "execution_count": 25,
   "outputs": [
    {
     "data": {
      "text/plain": "'2021-01-02'"
     },
     "execution_count": 25,
     "metadata": {},
     "output_type": "execute_result"
    }
   ],
   "source": [
    "tomorrow.strftime('%Y-%m-%d')"
   ],
   "metadata": {
    "collapsed": false,
    "pycharm": {
     "name": "#%%\n"
    }
   }
  },
  {
   "cell_type": "code",
   "execution_count": 57,
   "outputs": [],
   "source": [
    "import numpy as np\n",
    "import random\n",
    "\n",
    "random.seed(0)\n",
    "import matplotlib.pyplot as plt"
   ],
   "metadata": {
    "collapsed": false,
    "pycharm": {
     "name": "#%%\n"
    }
   }
  },
  {
   "cell_type": "code",
   "execution_count": 18,
   "outputs": [],
   "source": [
    "supply = np.random.rand(10) * 5\n",
    "demand = np.random.rand(10) * 10"
   ],
   "metadata": {
    "collapsed": false,
    "pycharm": {
     "name": "#%%\n"
    }
   }
  },
  {
   "cell_type": "code",
   "execution_count": 41,
   "outputs": [],
   "source": [
    "mean = np.mean(supply)\n",
    "mean_list = []\n",
    "for i in range(len(supply)):\n",
    "    mean_list.append(mean)"
   ],
   "metadata": {
    "collapsed": false,
    "pycharm": {
     "name": "#%%\n"
    }
   }
  },
  {
   "cell_type": "code",
   "execution_count": 44,
   "outputs": [
    {
     "data": {
      "text/plain": "[<matplotlib.lines.Line2D at 0x10ee9ef20>]"
     },
     "execution_count": 44,
     "metadata": {},
     "output_type": "execute_result"
    },
    {
     "data": {
      "text/plain": "<Figure size 432x288 with 1 Axes>",
      "image/png": "[encoded data removed]"
     },
     "metadata": {
      "needs_background": "light"
     },
     "output_type": "display_data"
    }
   ],
   "source": [
    "fig, ax = plt.subplots()\n",
    "ax.plot(supply)\n",
    "ax.plot(mean_list)"
   ],
   "metadata": {
    "collapsed": false,
    "pycharm": {
     "name": "#%%\n"
    }
   }
  },
  {
   "cell_type": "code",
   "execution_count": 29,
   "outputs": [
    {
     "data": {
      "text/plain": "array([ 2.24753559, -3.74654407, -2.25410651, -1.78169361,  0.40347412,\n       -2.97674986, -5.40419079, -1.44599538, -6.82823918, -4.74489329])"
     },
     "execution_count": 29,
     "metadata": {},
     "output_type": "execute_result"
    }
   ],
   "source": [
    "supply - demand"
   ],
   "metadata": {
    "collapsed": false,
    "pycharm": {
     "name": "#%%\n"
    }
   }
  },
  {
   "cell_type": "code",
   "execution_count": 20,
   "outputs": [
    {
     "data": {
      "text/plain": "array([2.64555612, 7.74233689, 4.56150332, 5.68433949, 0.187898  ,\n       6.17635497, 6.12095723, 6.16933997, 9.43748079, 6.81820299])"
     },
     "execution_count": 20,
     "metadata": {},
     "output_type": "execute_result"
    }
   ],
   "source": [
    "demand"
   ],
   "metadata": {
    "collapsed": false,
    "pycharm": {
     "name": "#%%\n"
    }
   }
  },
  {
   "cell_type": "code",
   "execution_count": 26,
   "outputs": [
    {
     "data": {
      "text/plain": "array([4.89309171, 3.99579282, 2.30739681, 3.90264588, 0.59137213,\n       3.19960511, 0.71676644, 4.72334459, 2.60924161, 2.0733097 ])"
     },
     "execution_count": 26,
     "metadata": {},
     "output_type": "execute_result"
    }
   ],
   "source": [
    "supply"
   ],
   "metadata": {
    "collapsed": false,
    "pycharm": {
     "name": "#%%\n"
    }
   }
  },
  {
   "cell_type": "code",
   "execution_count": 59,
   "outputs": [],
   "source": [
    "\n",
    "from model.agents import *"
   ],
   "metadata": {
    "collapsed": false,
    "pycharm": {
     "name": "#%%\n"
    }
   }
  },
  {
   "cell_type": "code",
   "execution_count": 60,
   "outputs": [],
   "source": [
    "# Household types is chosen randomly from the list of possible household types\n",
    "number_of_households = 10\n",
    "hh_type = ['hh1_consumption [kWh]', 'hh2_consumption [kWh]', 'hh3_consumption [kWh]']\n",
    "residential_agents = []\n",
    "for _ in range(number_of_households):\n",
    "    residential_agents.append({'agent_type': Residential,\n",
    "                               'member_name': random.choice(hh_type),\n",
    "                               'member_type': MemberType.CONSUMER,\n",
    "                               'asset_list': None})"
   ],
   "metadata": {
    "collapsed": false,
    "pycharm": {
     "name": "#%%\n"
    }
   }
  },
  {
   "cell_type": "code",
   "execution_count": 68,
   "outputs": [],
   "source": [
    "non_residential_agents = [{'agent_type': NonResidential,\n",
    "                           'member_name': 'drink_packaging_sme',\n",
    "                           'member_type': MemberType.PROSUMER,\n",
    "                           'asset_list': [\n",
    "                               {'asset_type': AssetType.SOLAR,\n",
    "                                'capacity': 1285,\n",
    "                                'efficiency': 0.20,\n",
    "                                'price': 0.15}]},\n",
    "                          {'agent_type': NonResidential,\n",
    "                           'member_name': 'food_packaging_sme',\n",
    "                           'member_type': MemberType.PROSUMER,\n",
    "                           'asset_list': [\n",
    "                               {'asset_type': AssetType.SOLAR,\n",
    "                                'capacity': 2000,\n",
    "                                'efficiency': 0.20,\n",
    "                                'price': 0.15}]},\n",
    "                          {'agent_type': NonResidential,\n",
    "                           'member_name': 'school_mbo',\n",
    "                           'member_type': MemberType.CONSUMER,\n",
    "                           'asset_list': None},\n",
    "                          {'agent_type': NonResidential,\n",
    "                           'member_name': 'EV_bus_charging_station',\n",
    "                           'member_type': MemberType.CONSUMER,\n",
    "                           'asset_list': None}]\n"
   ],
   "metadata": {
    "collapsed": false,
    "pycharm": {
     "name": "#%%\n"
    }
   }
  },
  {
   "cell_type": "code",
   "execution_count": 56,
   "outputs": [
    {
     "data": {
      "text/plain": "[{'member_name': 'hh3_consumption [kWh]',\n  'member_type': <MemberType.CONSUMER: 1>,\n  'asset_list': None},\n {'member_name': 'hh3_consumption [kWh]',\n  'member_type': <MemberType.CONSUMER: 1>,\n  'asset_list': None},\n {'member_name': 'hh3_consumption [kWh]',\n  'member_type': <MemberType.CONSUMER: 1>,\n  'asset_list': None},\n {'member_name': 'hh2_consumption [kWh]',\n  'member_type': <MemberType.CONSUMER: 1>,\n  'asset_list': None},\n {'member_name': 'hh2_consumption [kWh]',\n  'member_type': <MemberType.CONSUMER: 1>,\n  'asset_list': None},\n {'member_name': 'hh1_consumption [kWh]',\n  'member_type': <MemberType.CONSUMER: 1>,\n  'asset_list': None},\n {'member_name': 'hh1_consumption [kWh]',\n  'member_type': <MemberType.CONSUMER: 1>,\n  'asset_list': None},\n {'member_name': 'hh2_consumption [kWh]',\n  'member_type': <MemberType.CONSUMER: 1>,\n  'asset_list': None},\n {'member_name': 'hh1_consumption [kWh]',\n  'member_type': <MemberType.CONSUMER: 1>,\n  'asset_list': None},\n {'member_name': 'hh3_consumption [kWh]',\n  'member_type': <MemberType.CONSUMER: 1>,\n  'asset_list': None},\n {'member_name': 'drink_packaging_sme',\n  'member_type': <MemberType.PROSUMER: 2>,\n  'asset_list': [{'asset_type': <AssetType.SOLAR: 1>,\n    'capacity': 1285,\n    'efficiency': 0.2,\n    'price': 0.15}]},\n {'member_name': 'food_packaging_sme',\n  'member_type': <MemberType.PROSUMER: 2>,\n  'asset_list': [{'asset_type': <AssetType.SOLAR: 1>,\n    'capacity': 2000,\n    'efficiency': 0.2,\n    'price': 0.15}]},\n {'member_name': 'school_mbo',\n  'member_type': <MemberType.CONSUMER: 1>,\n  'asset_list': None}]"
     },
     "execution_count": 56,
     "metadata": {},
     "output_type": "execute_result"
    }
   ],
   "source": [
    "residential_agents + non_residential_agents"
   ],
   "metadata": {
    "collapsed": false,
    "pycharm": {
     "name": "#%%\n"
    }
   }
  },
  {
   "cell_type": "code",
   "execution_count": 69,
   "outputs": [],
   "source": [
    "a = [{'agent_type': Coordinator}] + non_residential_agents"
   ],
   "metadata": {
    "collapsed": false,
    "pycharm": {
     "name": "#%%\n"
    }
   }
  },
  {
   "cell_type": "code",
   "execution_count": 70,
   "outputs": [
    {
     "name": "stdout",
     "output_type": "stream",
     "text": [
      "<class 'model.agents.Coordinator'>\n",
      "<class 'model.agents.NonResidential'>\n",
      "<class 'model.agents.NonResidential'>\n",
      "<class 'model.agents.NonResidential'>\n",
      "<class 'model.agents.NonResidential'>\n"
     ]
    }
   ],
   "source": [
    "for agent in a:\n",
    "    print(agent['agent_type'])"
   ],
   "metadata": {
    "collapsed": false,
    "pycharm": {
     "name": "#%%\n"
    }
   }
  },
  {
   "cell_type": "code",
   "execution_count": 67,
   "outputs": [
    {
     "data": {
      "text/plain": "[{'agent_type': model.agents.Coordinator},\n {'member_name': 'drink_packaging_sme',\n  'member_type': <MemberType.PROSUMER: 2>,\n  'asset_list': [{'asset_type': <AssetType.SOLAR: 1>,\n    'capacity': 1285,\n    'efficiency': 0.2,\n    'price': 0.15}]},\n {'member_name': 'food_packaging_sme',\n  'member_type': <MemberType.PROSUMER: 2>,\n  'asset_list': [{'asset_type': <AssetType.SOLAR: 1>,\n    'capacity': 2000,\n    'efficiency': 0.2,\n    'price': 0.15}]},\n {'member_name': 'school_mbo',\n  'member_type': <MemberType.CONSUMER: 1>,\n  'asset_list': None}]"
     },
     "execution_count": 67,
     "metadata": {},
     "output_type": "execute_result"
    }
   ],
   "source": [
    "a"
   ],
   "metadata": {
    "collapsed": false,
    "pycharm": {
     "name": "#%%\n"
    }
   }
  },
  {
   "cell_type": "code",
   "execution_count": null,
   "outputs": [],
   "source": [],
   "metadata": {
    "collapsed": false,
    "pycharm": {
     "name": "#%%\n"
    }
   }
  }
 ],
 "metadata": {
  "kernelspec": {
   "display_name": "Python 3",
   "language": "python",
   "name": "python3"
  },
  "language_info": {
   "codemirror_mode": {
    "name": "ipython",
    "version": 2
   },
   "file_extension": ".py",
   "mimetype": "text/x-python",
   "name": "python",
   "nbconvert_exporter": "python",
   "pygments_lexer": "ipython2",
   "version": "2.7.6"
  }
 },
 "nbformat": 4,
 "nbformat_minor": 0
}