{
 "cells": [
  {
   "cell_type": "code",
   "execution_count": 1,
   "metadata": {
    "collapsed": true
   },
   "outputs": [],
   "source": [
    "import pandas as pd"
   ]
  },
  {
   "cell_type": "code",
   "execution_count": 2,
   "outputs": [
    {
     "name": "stderr",
     "output_type": "stream",
     "text": [
      "/var/folders/x7/f572_pld245ff6yylcqfmhtr0000gn/T/ipykernel_35064/1126846036.py:1: DtypeWarning: Columns (1,2,3,4,5,6,7,8,9,10,11,12) have mixed types. Specify dtype option on import or set low_memory=False.\n",
      "  df = pd.read_csv('Appliance_data.csv')\n"
     ]
    }
   ],
   "source": [
    "df = pd.read_csv('Appliance_data.csv')"
   ],
   "metadata": {
    "collapsed": false,
    "pycharm": {
     "name": "#%%\n"
    }
   }
  },
  {
   "cell_type": "code",
   "execution_count": 3,
   "outputs": [
    {
     "data": {
      "text/plain": "                   Unnamed: 0           2      3              4  \\\n0                         NaN  television    fan         fridge   \n1                         NaN         NaN    NaN            NaN   \n2   2015-07-05 00:00:00+02:00         NaN    NaN            NaN   \n3   2015-07-05 00:00:01+02:00         NaN    NaN            NaN   \n4   2015-07-05 00:00:02+02:00         NaN    NaN            NaN   \n..                        ...         ...    ...            ...   \n95  2015-07-05 00:01:33+02:00         0.0  29.65  97.2062711864   \n96  2015-07-05 00:01:34+02:00         0.0  29.65  97.1793220339   \n97  2015-07-05 00:01:35+02:00         0.0  29.65  97.1523728814   \n98  2015-07-05 00:01:36+02:00         0.0  29.65  97.1254237288   \n99  2015-07-05 00:01:37+02:00         0.0  29.65  97.0984745763   \n\n                  5                         6     7        8                9  \\\n0   laptop computer  electric heating element  oven  unknown  washing machine   \n1               NaN                       NaN   NaN      NaN              NaN   \n2               NaN                       NaN   NaN      NaN              NaN   \n3               NaN                       NaN   NaN      NaN              NaN   \n4               NaN                       NaN   NaN      NaN              NaN   \n..              ...                       ...   ...      ...              ...   \n95           29.465                      2.29   0.0      0.0             0.68   \n96            29.37                      2.29   0.0      0.0             0.68   \n97           29.275                      2.29   0.0      0.0             0.68   \n98            29.18                      2.29   0.0      0.0             0.68   \n99           29.085                      2.29   0.0      0.0             0.68   \n\n           10       11       12      13  \n0   microwave  toaster  sockets  cooker  \n1         NaN      NaN      NaN     NaN  \n2         NaN      0.0      NaN     NaN  \n3         NaN      0.0      NaN     NaN  \n4         NaN      0.0      NaN     NaN  \n..        ...      ...      ...     ...  \n95       1.24      0.0     7.35     0.0  \n96       1.24      0.0     7.35     0.0  \n97       1.24      0.0     7.35     0.0  \n98       1.24      0.0     7.35     0.0  \n99       1.24      0.0     7.35     0.0  \n\n[100 rows x 13 columns]",
      "text/html": "<div>\n<style scoped>\n    .dataframe tbody tr th:only-of-type {\n        vertical-align: middle;\n    }\n\n    .dataframe tbody tr th {\n        vertical-align: top;\n    }\n\n    .dataframe thead th {\n        text-align: right;\n    }\n</style>\n<table border=\"1\" class=\"dataframe\">\n  <thead>\n    <tr style=\"text-align: right;\">\n      <th></th>\n      <th>Unnamed: 0</th>\n      <th>2</th>\n      <th>3</th>\n      <th>4</th>\n      <th>5</th>\n      <th>6</th>\n      <th>7</th>\n      <th>8</th>\n      <th>9</th>\n      <th>10</th>\n      <th>11</th>\n      <th>12</th>\n      <th>13</th>\n    </tr>\n  </thead>\n  <tbody>\n    <tr>\n      <th>0</th>\n      <td>NaN</td>\n      <td>television</td>\n      <td>fan</td>\n      <td>fridge</td>\n      <td>laptop computer</td>\n      <td>electric heating element</td>\n      <td>oven</td>\n      <td>unknown</td>\n      <td>washing machine</td>\n      <td>microwave</td>\n      <td>toaster</td>\n      <td>sockets</td>\n      <td>cooker</td>\n    </tr>\n    <tr>\n      <th>1</th>\n      <td>NaN</td>\n      <td>NaN</td>\n      <td>NaN</td>\n      <td>NaN</td>\n      <td>NaN</td>\n      <td>NaN</td>\n      <td>NaN</td>\n      <td>NaN</td>\n      <td>NaN</td>\n      <td>NaN</td>\n      <td>NaN</td>\n      <td>NaN</td>\n      <td>NaN</td>\n    </tr>\n    <tr>\n      <th>2</th>\n      <td>2015-07-05 00:00:00+02:00</td>\n      <td>NaN</td>\n      <td>NaN</td>\n      <td>NaN</td>\n      <td>NaN</td>\n      <td>NaN</td>\n      <td>NaN</td>\n      <td>NaN</td>\n      <td>NaN</td>\n      <td>NaN</td>\n      <td>0.0</td>\n      <td>NaN</td>\n      <td>NaN</td>\n    </tr>\n    <tr>\n      <th>3</th>\n      <td>2015-07-05 00:00:01+02:00</td>\n      <td>NaN</td>\n      <td>NaN</td>\n      <td>NaN</td>\n      <td>NaN</td>\n      <td>NaN</td>\n      <td>NaN</td>\n      <td>NaN</td>\n      <td>NaN</td>\n      <td>NaN</td>\n      <td>0.0</td>\n      <td>NaN</td>\n      <td>NaN</td>\n    </tr>\n    <tr>\n      <th>4</th>\n      <td>2015-07-05 00:00:02+02:00</td>\n      <td>NaN</td>\n      <td>NaN</td>\n      <td>NaN</td>\n      <td>NaN</td>\n      <td>NaN</td>\n      <td>NaN</td>\n      <td>NaN</td>\n      <td>NaN</td>\n      <td>NaN</td>\n      <td>0.0</td>\n      <td>NaN</td>\n      <td>NaN</td>\n    </tr>\n    <tr>\n      <th>...</th>\n      <td>...</td>\n      <td>...</td>\n      <td>...</td>\n      <td>...</td>\n      <td>...</td>\n      <td>...</td>\n      <td>...</td>\n      <td>...</td>\n      <td>...</td>\n      <td>...</td>\n      <td>...</td>\n      <td>...</td>\n      <td>...</td>\n    </tr>\n    <tr>\n      <th>95</th>\n      <td>2015-07-05 00:01:33+02:00</td>\n      <td>0.0</td>\n      <td>29.65</td>\n      <td>97.2062711864</td>\n      <td>29.465</td>\n      <td>2.29</td>\n      <td>0.0</td>\n      <td>0.0</td>\n      <td>0.68</td>\n      <td>1.24</td>\n      <td>0.0</td>\n      <td>7.35</td>\n      <td>0.0</td>\n    </tr>\n    <tr>\n      <th>96</th>\n      <td>2015-07-05 00:01:34+02:00</td>\n      <td>0.0</td>\n      <td>29.65</td>\n      <td>97.1793220339</td>\n      <td>29.37</td>\n      <td>2.29</td>\n      <td>0.0</td>\n      <td>0.0</td>\n      <td>0.68</td>\n      <td>1.24</td>\n      <td>0.0</td>\n      <td>7.35</td>\n      <td>0.0</td>\n    </tr>\n    <tr>\n      <th>97</th>\n      <td>2015-07-05 00:01:35+02:00</td>\n      <td>0.0</td>\n      <td>29.65</td>\n      <td>97.1523728814</td>\n      <td>29.275</td>\n      <td>2.29</td>\n      <td>0.0</td>\n      <td>0.0</td>\n      <td>0.68</td>\n      <td>1.24</td>\n      <td>0.0</td>\n      <td>7.35</td>\n      <td>0.0</td>\n    </tr>\n    <tr>\n      <th>98</th>\n      <td>2015-07-05 00:01:36+02:00</td>\n      <td>0.0</td>\n      <td>29.65</td>\n      <td>97.1254237288</td>\n      <td>29.18</td>\n      <td>2.29</td>\n      <td>0.0</td>\n      <td>0.0</td>\n      <td>0.68</td>\n      <td>1.24</td>\n      <td>0.0</td>\n      <td>7.35</td>\n      <td>0.0</td>\n    </tr>\n    <tr>\n      <th>99</th>\n      <td>2015-07-05 00:01:37+02:00</td>\n      <td>0.0</td>\n      <td>29.65</td>\n      <td>97.0984745763</td>\n      <td>29.085</td>\n      <td>2.29</td>\n      <td>0.0</td>\n      <td>0.0</td>\n      <td>0.68</td>\n      <td>1.24</td>\n      <td>0.0</td>\n      <td>7.35</td>\n      <td>0.0</td>\n    </tr>\n  </tbody>\n</table>\n<p>100 rows × 13 columns</p>\n</div>"
     },
     "execution_count": 3,
     "metadata": {},
     "output_type": "execute_result"
    }
   ],
   "source": [
    "pd.to_datetime(data['Unnamed: 0'], format='%Y-%m-%d %H:%M:%S')"
   ],
   "metadata": {
    "collapsed": false,
    "pycharm": {
     "name": "#%%\n"
    }
   }
  },
  {
   "cell_type": "code",
   "execution_count": 4,
   "outputs": [
    {
     "data": {
      "text/plain": "                         Unnamed: 0    2    3    4    5    6    7    8     9  \\\n13301996  2015-12-05 22:59:54+01:00  0.0  NaN  NaN  0.0  NaN  NaN  NaN  0.95   \n13301997  2015-12-05 22:59:55+01:00  NaN  NaN  NaN  0.0  NaN  NaN  NaN   NaN   \n13301998  2015-12-05 22:59:56+01:00  NaN  NaN  NaN  0.0  NaN  NaN  NaN   NaN   \n13301999  2015-12-05 22:59:57+01:00  NaN  NaN  NaN  0.0  NaN  NaN  NaN   NaN   \n13302000  2015-12-05 22:59:58+01:00  NaN  NaN  NaN  0.0  NaN  NaN  NaN   NaN   \n\n            10   11    12   13  \n13301996  1.24  NaN  1.39  0.0  \n13301997  1.24  NaN  1.39  0.0  \n13301998  1.24  NaN  1.39  0.0  \n13301999  1.24  NaN  1.39  0.0  \n13302000  1.24  NaN  1.39  NaN  ",
      "text/html": "<div>\n<style scoped>\n    .dataframe tbody tr th:only-of-type {\n        vertical-align: middle;\n    }\n\n    .dataframe tbody tr th {\n        vertical-align: top;\n    }\n\n    .dataframe thead th {\n        text-align: right;\n    }\n</style>\n<table border=\"1\" class=\"dataframe\">\n  <thead>\n    <tr style=\"text-align: right;\">\n      <th></th>\n      <th>Unnamed: 0</th>\n      <th>2</th>\n      <th>3</th>\n      <th>4</th>\n      <th>5</th>\n      <th>6</th>\n      <th>7</th>\n      <th>8</th>\n      <th>9</th>\n      <th>10</th>\n      <th>11</th>\n      <th>12</th>\n      <th>13</th>\n    </tr>\n  </thead>\n  <tbody>\n    <tr>\n      <th>13301996</th>\n      <td>2015-12-05 22:59:54+01:00</td>\n      <td>0.0</td>\n      <td>NaN</td>\n      <td>NaN</td>\n      <td>0.0</td>\n      <td>NaN</td>\n      <td>NaN</td>\n      <td>NaN</td>\n      <td>0.95</td>\n      <td>1.24</td>\n      <td>NaN</td>\n      <td>1.39</td>\n      <td>0.0</td>\n    </tr>\n    <tr>\n      <th>13301997</th>\n      <td>2015-12-05 22:59:55+01:00</td>\n      <td>NaN</td>\n      <td>NaN</td>\n      <td>NaN</td>\n      <td>0.0</td>\n      <td>NaN</td>\n      <td>NaN</td>\n      <td>NaN</td>\n      <td>NaN</td>\n      <td>1.24</td>\n      <td>NaN</td>\n      <td>1.39</td>\n      <td>0.0</td>\n    </tr>\n    <tr>\n      <th>13301998</th>\n      <td>2015-12-05 22:59:56+01:00</td>\n      <td>NaN</td>\n      <td>NaN</td>\n      <td>NaN</td>\n      <td>0.0</td>\n      <td>NaN</td>\n      <td>NaN</td>\n      <td>NaN</td>\n      <td>NaN</td>\n      <td>1.24</td>\n      <td>NaN</td>\n      <td>1.39</td>\n      <td>0.0</td>\n    </tr>\n    <tr>\n      <th>13301999</th>\n      <td>2015-12-05 22:59:57+01:00</td>\n      <td>NaN</td>\n      <td>NaN</td>\n      <td>NaN</td>\n      <td>0.0</td>\n      <td>NaN</td>\n      <td>NaN</td>\n      <td>NaN</td>\n      <td>NaN</td>\n      <td>1.24</td>\n      <td>NaN</td>\n      <td>1.39</td>\n      <td>0.0</td>\n    </tr>\n    <tr>\n      <th>13302000</th>\n      <td>2015-12-05 22:59:58+01:00</td>\n      <td>NaN</td>\n      <td>NaN</td>\n      <td>NaN</td>\n      <td>0.0</td>\n      <td>NaN</td>\n      <td>NaN</td>\n      <td>NaN</td>\n      <td>NaN</td>\n      <td>1.24</td>\n      <td>NaN</td>\n      <td>1.39</td>\n      <td>NaN</td>\n    </tr>\n  </tbody>\n</table>\n</div>"
     },
     "execution_count": 4,
     "metadata": {},
     "output_type": "execute_result"
    }
   ],
   "source": [
    "df.tail()"
   ],
   "metadata": {
    "collapsed": false,
    "pycharm": {
     "name": "#%%\n"
    }
   }
  },
  {
   "cell_type": "markdown",
   "source": [
    "___"
   ],
   "metadata": {
    "collapsed": false,
    "pycharm": {
     "name": "#%% md\n"
    }
   }
  },
  {
   "cell_type": "markdown",
   "source": [
    "Checking CBS data set"
   ],
   "metadata": {
    "collapsed": false,
    "pycharm": {
     "name": "#%% md\n"
    }
   }
  },
  {
   "cell_type": "code",
   "execution_count": 1,
   "outputs": [],
   "source": [
    "import cbsodata"
   ],
   "metadata": {
    "collapsed": false,
    "pycharm": {
     "name": "#%%\n"
    }
   }
  },
  {
   "cell_type": "code",
   "execution_count": 7,
   "outputs": [],
   "source": [
    "toc = pd.DataFrame(cbsodata.get_table_list())"
   ],
   "metadata": {
    "collapsed": false,
    "pycharm": {
     "name": "#%%\n"
    }
   }
  },
  {
   "cell_type": "code",
   "execution_count": 8,
   "outputs": [
    {
     "data": {
      "text/plain": "                  Updated    ID Identifier  \\\n0     2021-11-01T02:00:00     0   84669NED   \n1     2021-11-05T02:00:00     1   83583NED   \n2     2021-11-05T02:00:00     2   83582NED   \n3     2022-01-21T02:00:00     3   83628NED   \n4     2022-01-21T02:00:00     4   83658NED   \n...                   ...   ...        ...   \n5008  2019-03-26T02:00:00  5008   37112ENG   \n5009  2018-06-25T02:00:00  5009   81821ENG   \n5010  2013-06-11T02:00:00  5010   80079eng   \n5011  2016-04-26T02:00:00  5011   81157eng   \n5012  2011-09-01T02:00:00  5012   71844eng   \n\n                                                  Title  \\\n0     Banen van werknemers; internationaliseringsken...   \n1     Banen van werknemers; bedrijfsgrootte en econo...   \n2     Banen van werknemers in december; economische ...   \n3          Banen van werknemers naar woon- en werkregio   \n4     Banen van werknemers; geslacht, leeftijd, woon...   \n...                                                 ...   \n5008                  Number of motorcycles on 1-1-2000   \n5009  Transport and storage; turnover change, index ...   \n5010  Transport and storage; turnover development, S...   \n5011  Transport, storage and communications; finance...   \n5012  Transport, storage and communications; finance...   \n\n                                    ShortTitle  \\\n0        Banen; internationalisering bedrijven   \n1        Banen van werknemers; bedrijfsgrootte   \n2         Banen van werknemers; SBI2008, regio   \n3           Woon-werkafstand werknemers; regio   \n4         Woon-werkafstand; geslacht, leeftijd   \n...                                        ...   \n5008                   Motorcycles on 1-1-2000   \n5009       Transport; turnover, index 2010=100   \n5010          Transport; turnover, 2005 - 2012   \n5011   Transport, storage; SIC 2008, 2009-2013   \n5012  Transport, storage; finance, 2006 - 2008   \n\n                                       ShortDescription  \\\n0     \\nDeze tabel bevat informatie over werknemersb...   \n1     \\nDeze tabel geeft informatie over het gemidde...   \n2     \\nDeze tabel geeft informatie over het gemidde...   \n3     \\nDeze tabel brengt het aantal banen van werkn...   \n4     \\nDeze tabel brengt het aantal banen van werkn...   \n...                                                 ...   \n5008                      \\nThis table was cancelled.\\n   \n5009  \\nThis table presents information on quarterly...   \n5010  \\nThis table provides information on quarterly...   \n5011  \\nThis table shows relevant data for the econo...   \n5012  \\nThis table shows relevant data for the econo...   \n\n                                                Summary             Modified  \\\n0     werknemersbanen, voltijdequivalenten, arbeidsv...  2020-12-14T02:00:00   \n1     Gemiddeld aantal banen van werknemers in decem...  2021-11-05T02:00:00   \n2     Gemiddeld aantal banen werknemers in december,...  2021-11-05T02:00:00   \n3     Banen van werknemers, woonregio, werkregio\\nBa...  2022-01-21T02:00:00   \n4     Banen van werknemers naar geslacht, leeftijd, ...  2022-01-21T02:00:00   \n...                                                 ...                  ...   \n5008                               Cancelled\\nCancelled  2000-11-24T14:05:00   \n5009  Transport and storage. Turnover: index 2010=10...  2018-02-28T02:00:00   \n5010  Transport and storage; turnover, 2005 - 2012\\n...  2013-06-11T02:00:00   \n5011  Transport; jobs, labour volume, costs and reve...  2016-04-22T02:00:00   \n5012  Persons employed, costs and revenues, turnover...  2010-07-01T02:00:00   \n\n         MetaDataModified  ReasonDelivery  ...  \\\n0     2021-11-01T02:00:00       Stopgezet  ...   \n1     2021-11-05T02:00:00   Actualisering  ...   \n2     2021-11-05T02:00:00   Actualisering  ...   \n3     2022-01-21T02:00:00   Actualisering  ...   \n4     2022-01-21T02:00:00   Actualisering  ...   \n...                   ...             ...  ...   \n5008  2019-03-26T02:00:00    Discontinued  ...   \n5009  2018-06-25T02:00:00    Discontinued  ...   \n5010  2013-06-07T02:00:00  Correctiontext  ...   \n5011  2016-04-26T02:00:00    Discontinued  ...   \n5012  2011-09-01T02:00:00  Correctiontext  ...   \n\n                                                Period  \\\n0                                        2010 t/m 2018   \n1                        2010 december - 2020 december   \n2                                            2010-2020   \n3                                            2014-2020   \n4                                            2014-2020   \n...                                                ...   \n5008                                       1999 - 1900   \n5009                     2005-2017, 2005 kWI-2017 kWIV   \n5010  2005 - 2012; 2005 1st quarter - 2012 4th quarter   \n5011                                         2009-2013   \n5012                                         2006-2008   \n\n                                        SummaryAndLinks  \\\n0     werknemersbanen, voltijdequivalenten, arbeidsv...   \n1     Gemiddeld aantal banen van werknemers in decem...   \n2     Gemiddeld aantal banen werknemers in december,...   \n3     Banen van werknemers, woonregio, werkregio<br ...   \n4     Banen van werknemers naar geslacht, leeftijd, ...   \n...                                                 ...   \n5008  Cancelled<br />Cancelled<br /><a href=\"http://...   \n5009  Transport and storage. Turnover: index 2010=10...   \n5010  Transport and storage; turnover, 2005 - 2012<b...   \n5011  Transport; jobs, labour volume, costs and reve...   \n5012  Persons employed, costs and revenues, turnover...   \n\n                                               ApiUrl  \\\n0     https://opendata.cbs.nl/ODataApi/OData/84669NED   \n1     https://opendata.cbs.nl/ODataApi/OData/83583NED   \n2     https://opendata.cbs.nl/ODataApi/OData/83582NED   \n3     https://opendata.cbs.nl/ODataApi/OData/83628NED   \n4     https://opendata.cbs.nl/ODataApi/OData/83658NED   \n...                                               ...   \n5008  https://opendata.cbs.nl/ODataApi/OData/37112ENG   \n5009  https://opendata.cbs.nl/ODataApi/OData/81821ENG   \n5010  https://opendata.cbs.nl/ODataApi/OData/80079eng   \n5011  https://opendata.cbs.nl/ODataApi/OData/81157eng   \n5012  https://opendata.cbs.nl/ODataApi/OData/71844eng   \n\n                                               FeedUrl  \\\n0     https://opendata.cbs.nl/ODataFeed/OData/84669NED   \n1     https://opendata.cbs.nl/ODataFeed/OData/83583NED   \n2     https://opendata.cbs.nl/ODataFeed/OData/83582NED   \n3     https://opendata.cbs.nl/ODataFeed/OData/83628NED   \n4     https://opendata.cbs.nl/ODataFeed/OData/83658NED   \n...                                                ...   \n5008  https://opendata.cbs.nl/ODataFeed/OData/37112ENG   \n5009  https://opendata.cbs.nl/ODataFeed/OData/81821ENG   \n5010  https://opendata.cbs.nl/ODataFeed/OData/80079eng   \n5011  https://opendata.cbs.nl/ODataFeed/OData/81157eng   \n5012  https://opendata.cbs.nl/ODataFeed/OData/71844eng   \n\n                                    DefaultPresentation  \\\n0     ts=1606984891185&graphtype=Table&r=Internation...   \n1     ts=1635771190489&graphtype=Table&r=Perioden,Be...   \n2     ts=1635768991535&graphtype=Table&r=Bedrijfstak...   \n3     ts=1642524267970&graphtype=Table&r=WoonregioS,...   \n4     ts=1642510021931&graphtype=Table&r=WoonregioS,...   \n...                                                 ...   \n5008  ts=1553170942702&graphtype=Table&r=Topics&k=Ye...   \n5009  ts=1519652129937&graphtype=Table&r=Periods&k=T...   \n5010                                    graphType=table   \n5011                                    graphType=table   \n5012                                    graphType=table   \n\n                                       DefaultSelection      GraphTypes  \\\n0     $filter=((BedrijfstakkenBranchesSBI2008 eq 'T0...  Table,Bar,Line   \n1     $filter=((BedrijfstakkenBranchesSBI2008 eq 'T0...  Table,Bar,Line   \n2     $filter=((BedrijfstakkenBranchesSBI2008 eq 'T0...       Table,Map   \n3     $filter=((WoonregioS eq 'NL01  ') or (Woonregi...   Table,Bar,Map   \n4     $filter=((Geslacht eq 'T001038')) and ((Leefti...   Table,Bar,Map   \n...                                                 ...             ...   \n5008  $filter=((YearOfConstruction eq '00'))&$select...           Table   \n5009  $filter=((SectorBranches eq '383100')) and ((P...  Table,Bar,Line   \n5010  $filter=((BranchesSIC2008 eq '383100') or (Bra...  Table,Bar,Line   \n5011  $filter=((SectorBranchesSIC2008 eq '383100') o...  Table,Bar,Line   \n5012  $filter=((SectorBranchesSIC93 eq 'I      ') or...  Table,Bar,Line   \n\n     RecordCount ColumnCount SearchPriority  \n0         304128          10              1  \n1           8184           4              2  \n2         172480           4              3  \n3        1586032           5              2  \n4        1270500           7              2  \n...          ...         ...            ...  \n5008           2           3              0  \n5009        1495           4              1  \n5010         880           4              1  \n5011         105          33              1  \n5012          81          32              1  \n\n[5013 rows x 26 columns]",
      "text/html": "<div>\n<style scoped>\n    .dataframe tbody tr th:only-of-type {\n        vertical-align: middle;\n    }\n\n    .dataframe tbody tr th {\n        vertical-align: top;\n    }\n\n    .dataframe thead th {\n        text-align: right;\n    }\n</style>\n<table border=\"1\" class=\"dataframe\">\n  <thead>\n    <tr style=\"text-align: right;\">\n      <th></th>\n      <th>Updated</th>\n      <th>ID</th>\n      <th>Identifier</th>\n      <th>Title</th>\n      <th>ShortTitle</th>\n      <th>ShortDescription</th>\n      <th>Summary</th>\n      <th>Modified</th>\n      <th>MetaDataModified</th>\n      <th>ReasonDelivery</th>\n      <th>...</th>\n      <th>Period</th>\n      <th>SummaryAndLinks</th>\n      <th>ApiUrl</th>\n      <th>FeedUrl</th>\n      <th>DefaultPresentation</th>\n      <th>DefaultSelection</th>\n      <th>GraphTypes</th>\n      <th>RecordCount</th>\n      <th>ColumnCount</th>\n      <th>SearchPriority</th>\n    </tr>\n  </thead>\n  <tbody>\n    <tr>\n      <th>0</th>\n      <td>2021-11-01T02:00:00</td>\n      <td>0</td>\n      <td>84669NED</td>\n      <td>Banen van werknemers; internationaliseringsken...</td>\n      <td>Banen; internationalisering bedrijven</td>\n      <td>\\nDeze tabel bevat informatie over werknemersb...</td>\n      <td>werknemersbanen, voltijdequivalenten, arbeidsv...</td>\n      <td>2020-12-14T02:00:00</td>\n      <td>2021-11-01T02:00:00</td>\n      <td>Stopgezet</td>\n      <td>...</td>\n      <td>2010 t/m 2018</td>\n      <td>werknemersbanen, voltijdequivalenten, arbeidsv...</td>\n      <td>https://opendata.cbs.nl/ODataApi/OData/84669NED</td>\n      <td>https://opendata.cbs.nl/ODataFeed/OData/84669NED</td>\n      <td>ts=1606984891185&amp;graphtype=Table&amp;r=Internation...</td>\n      <td>$filter=((BedrijfstakkenBranchesSBI2008 eq 'T0...</td>\n      <td>Table,Bar,Line</td>\n      <td>304128</td>\n      <td>10</td>\n      <td>1</td>\n    </tr>\n    <tr>\n      <th>1</th>\n      <td>2021-11-05T02:00:00</td>\n      <td>1</td>\n      <td>83583NED</td>\n      <td>Banen van werknemers; bedrijfsgrootte en econo...</td>\n      <td>Banen van werknemers; bedrijfsgrootte</td>\n      <td>\\nDeze tabel geeft informatie over het gemidde...</td>\n      <td>Gemiddeld aantal banen van werknemers in decem...</td>\n      <td>2021-11-05T02:00:00</td>\n      <td>2021-11-05T02:00:00</td>\n      <td>Actualisering</td>\n      <td>...</td>\n      <td>2010 december - 2020 december</td>\n      <td>Gemiddeld aantal banen van werknemers in decem...</td>\n      <td>https://opendata.cbs.nl/ODataApi/OData/83583NED</td>\n      <td>https://opendata.cbs.nl/ODataFeed/OData/83583NED</td>\n      <td>ts=1635771190489&amp;graphtype=Table&amp;r=Perioden,Be...</td>\n      <td>$filter=((BedrijfstakkenBranchesSBI2008 eq 'T0...</td>\n      <td>Table,Bar,Line</td>\n      <td>8184</td>\n      <td>4</td>\n      <td>2</td>\n    </tr>\n    <tr>\n      <th>2</th>\n      <td>2021-11-05T02:00:00</td>\n      <td>2</td>\n      <td>83582NED</td>\n      <td>Banen van werknemers in december; economische ...</td>\n      <td>Banen van werknemers; SBI2008, regio</td>\n      <td>\\nDeze tabel geeft informatie over het gemidde...</td>\n      <td>Gemiddeld aantal banen werknemers in december,...</td>\n      <td>2021-11-05T02:00:00</td>\n      <td>2021-11-05T02:00:00</td>\n      <td>Actualisering</td>\n      <td>...</td>\n      <td>2010-2020</td>\n      <td>Gemiddeld aantal banen werknemers in december,...</td>\n      <td>https://opendata.cbs.nl/ODataApi/OData/83582NED</td>\n      <td>https://opendata.cbs.nl/ODataFeed/OData/83582NED</td>\n      <td>ts=1635768991535&amp;graphtype=Table&amp;r=Bedrijfstak...</td>\n      <td>$filter=((BedrijfstakkenBranchesSBI2008 eq 'T0...</td>\n      <td>Table,Map</td>\n      <td>172480</td>\n      <td>4</td>\n      <td>3</td>\n    </tr>\n    <tr>\n      <th>3</th>\n      <td>2022-01-21T02:00:00</td>\n      <td>3</td>\n      <td>83628NED</td>\n      <td>Banen van werknemers naar woon- en werkregio</td>\n      <td>Woon-werkafstand werknemers; regio</td>\n      <td>\\nDeze tabel brengt het aantal banen van werkn...</td>\n      <td>Banen van werknemers, woonregio, werkregio\\nBa...</td>\n      <td>2022-01-21T02:00:00</td>\n      <td>2022-01-21T02:00:00</td>\n      <td>Actualisering</td>\n      <td>...</td>\n      <td>2014-2020</td>\n      <td>Banen van werknemers, woonregio, werkregio&lt;br ...</td>\n      <td>https://opendata.cbs.nl/ODataApi/OData/83628NED</td>\n      <td>https://opendata.cbs.nl/ODataFeed/OData/83628NED</td>\n      <td>ts=1642524267970&amp;graphtype=Table&amp;r=WoonregioS,...</td>\n      <td>$filter=((WoonregioS eq 'NL01  ') or (Woonregi...</td>\n      <td>Table,Bar,Map</td>\n      <td>1586032</td>\n      <td>5</td>\n      <td>2</td>\n    </tr>\n    <tr>\n      <th>4</th>\n      <td>2022-01-21T02:00:00</td>\n      <td>4</td>\n      <td>83658NED</td>\n      <td>Banen van werknemers; geslacht, leeftijd, woon...</td>\n      <td>Woon-werkafstand; geslacht, leeftijd</td>\n      <td>\\nDeze tabel brengt het aantal banen van werkn...</td>\n      <td>Banen van werknemers naar geslacht, leeftijd, ...</td>\n      <td>2022-01-21T02:00:00</td>\n      <td>2022-01-21T02:00:00</td>\n      <td>Actualisering</td>\n      <td>...</td>\n      <td>2014-2020</td>\n      <td>Banen van werknemers naar geslacht, leeftijd, ...</td>\n      <td>https://opendata.cbs.nl/ODataApi/OData/83658NED</td>\n      <td>https://opendata.cbs.nl/ODataFeed/OData/83658NED</td>\n      <td>ts=1642510021931&amp;graphtype=Table&amp;r=WoonregioS,...</td>\n      <td>$filter=((Geslacht eq 'T001038')) and ((Leefti...</td>\n      <td>Table,Bar,Map</td>\n      <td>1270500</td>\n      <td>7</td>\n      <td>2</td>\n    </tr>\n    <tr>\n      <th>...</th>\n      <td>...</td>\n      <td>...</td>\n      <td>...</td>\n      <td>...</td>\n      <td>...</td>\n      <td>...</td>\n      <td>...</td>\n      <td>...</td>\n      <td>...</td>\n      <td>...</td>\n      <td>...</td>\n      <td>...</td>\n      <td>...</td>\n      <td>...</td>\n      <td>...</td>\n      <td>...</td>\n      <td>...</td>\n      <td>...</td>\n      <td>...</td>\n      <td>...</td>\n      <td>...</td>\n    </tr>\n    <tr>\n      <th>5008</th>\n      <td>2019-03-26T02:00:00</td>\n      <td>5008</td>\n      <td>37112ENG</td>\n      <td>Number of motorcycles on 1-1-2000</td>\n      <td>Motorcycles on 1-1-2000</td>\n      <td>\\nThis table was cancelled.\\n</td>\n      <td>Cancelled\\nCancelled</td>\n      <td>2000-11-24T14:05:00</td>\n      <td>2019-03-26T02:00:00</td>\n      <td>Discontinued</td>\n      <td>...</td>\n      <td>1999 - 1900</td>\n      <td>Cancelled&lt;br /&gt;Cancelled&lt;br /&gt;&lt;a href=\"http://...</td>\n      <td>https://opendata.cbs.nl/ODataApi/OData/37112ENG</td>\n      <td>https://opendata.cbs.nl/ODataFeed/OData/37112ENG</td>\n      <td>ts=1553170942702&amp;graphtype=Table&amp;r=Topics&amp;k=Ye...</td>\n      <td>$filter=((YearOfConstruction eq '00'))&amp;$select...</td>\n      <td>Table</td>\n      <td>2</td>\n      <td>3</td>\n      <td>0</td>\n    </tr>\n    <tr>\n      <th>5009</th>\n      <td>2018-06-25T02:00:00</td>\n      <td>5009</td>\n      <td>81821ENG</td>\n      <td>Transport and storage; turnover change, index ...</td>\n      <td>Transport; turnover, index 2010=100</td>\n      <td>\\nThis table presents information on quarterly...</td>\n      <td>Transport and storage. Turnover: index 2010=10...</td>\n      <td>2018-02-28T02:00:00</td>\n      <td>2018-06-25T02:00:00</td>\n      <td>Discontinued</td>\n      <td>...</td>\n      <td>2005-2017, 2005 kWI-2017 kWIV</td>\n      <td>Transport and storage. Turnover: index 2010=10...</td>\n      <td>https://opendata.cbs.nl/ODataApi/OData/81821ENG</td>\n      <td>https://opendata.cbs.nl/ODataFeed/OData/81821ENG</td>\n      <td>ts=1519652129937&amp;graphtype=Table&amp;r=Periods&amp;k=T...</td>\n      <td>$filter=((SectorBranches eq '383100')) and ((P...</td>\n      <td>Table,Bar,Line</td>\n      <td>1495</td>\n      <td>4</td>\n      <td>1</td>\n    </tr>\n    <tr>\n      <th>5010</th>\n      <td>2013-06-11T02:00:00</td>\n      <td>5010</td>\n      <td>80079eng</td>\n      <td>Transport and storage; turnover development, S...</td>\n      <td>Transport; turnover, 2005 - 2012</td>\n      <td>\\nThis table provides information on quarterly...</td>\n      <td>Transport and storage; turnover, 2005 - 2012\\n...</td>\n      <td>2013-06-11T02:00:00</td>\n      <td>2013-06-07T02:00:00</td>\n      <td>Correctiontext</td>\n      <td>...</td>\n      <td>2005 - 2012; 2005 1st quarter - 2012 4th quarter</td>\n      <td>Transport and storage; turnover, 2005 - 2012&lt;b...</td>\n      <td>https://opendata.cbs.nl/ODataApi/OData/80079eng</td>\n      <td>https://opendata.cbs.nl/ODataFeed/OData/80079eng</td>\n      <td>graphType=table</td>\n      <td>$filter=((BranchesSIC2008 eq '383100') or (Bra...</td>\n      <td>Table,Bar,Line</td>\n      <td>880</td>\n      <td>4</td>\n      <td>1</td>\n    </tr>\n    <tr>\n      <th>5011</th>\n      <td>2016-04-26T02:00:00</td>\n      <td>5011</td>\n      <td>81157eng</td>\n      <td>Transport, storage and communications; finance...</td>\n      <td>Transport, storage; SIC 2008, 2009-2013</td>\n      <td>\\nThis table shows relevant data for the econo...</td>\n      <td>Transport; jobs, labour volume, costs and reve...</td>\n      <td>2016-04-22T02:00:00</td>\n      <td>2016-04-26T02:00:00</td>\n      <td>Discontinued</td>\n      <td>...</td>\n      <td>2009-2013</td>\n      <td>Transport; jobs, labour volume, costs and reve...</td>\n      <td>https://opendata.cbs.nl/ODataApi/OData/81157eng</td>\n      <td>https://opendata.cbs.nl/ODataFeed/OData/81157eng</td>\n      <td>graphType=table</td>\n      <td>$filter=((SectorBranchesSIC2008 eq '383100') o...</td>\n      <td>Table,Bar,Line</td>\n      <td>105</td>\n      <td>33</td>\n      <td>1</td>\n    </tr>\n    <tr>\n      <th>5012</th>\n      <td>2011-09-01T02:00:00</td>\n      <td>5012</td>\n      <td>71844eng</td>\n      <td>Transport, storage and communications; finance...</td>\n      <td>Transport, storage; finance, 2006 - 2008</td>\n      <td>\\nThis table shows relevant data for the econo...</td>\n      <td>Persons employed, costs and revenues, turnover...</td>\n      <td>2010-07-01T02:00:00</td>\n      <td>2011-09-01T02:00:00</td>\n      <td>Correctiontext</td>\n      <td>...</td>\n      <td>2006-2008</td>\n      <td>Persons employed, costs and revenues, turnover...</td>\n      <td>https://opendata.cbs.nl/ODataApi/OData/71844eng</td>\n      <td>https://opendata.cbs.nl/ODataFeed/OData/71844eng</td>\n      <td>graphType=table</td>\n      <td>$filter=((SectorBranchesSIC93 eq 'I      ') or...</td>\n      <td>Table,Bar,Line</td>\n      <td>81</td>\n      <td>32</td>\n      <td>1</td>\n    </tr>\n  </tbody>\n</table>\n<p>5013 rows × 26 columns</p>\n</div>"
     },
     "execution_count": 8,
     "metadata": {},
     "output_type": "execute_result"
    }
   ],
   "source": [
    "toc"
   ],
   "metadata": {
    "collapsed": false,
    "pycharm": {
     "name": "#%%\n"
    }
   }
  },
  {
   "cell_type": "code",
   "execution_count": 5,
   "outputs": [],
   "source": [],
   "metadata": {
    "collapsed": false,
    "pycharm": {
     "name": "#%%\n"
    }
   }
  },
  {
   "cell_type": "code",
   "execution_count": 29,
   "outputs": [],
   "source": [
    "# Collecting table identifiers with following keywords in their Title\n",
    "keywords = ['elektriciteit', 'energie', 'consumptie', 'demand']\n",
    "identifiers = []\n",
    "for keyword in keywords:\n",
    "    identifiers = identifiers + toc[toc['Title'].str.contains(keyword)]['Identifier'].to_list()"
   ],
   "metadata": {
    "collapsed": false,
    "pycharm": {
     "name": "#%%\n"
    }
   }
  },
  {
   "cell_type": "code",
   "execution_count": 32,
   "outputs": [],
   "source": [
    "shortlisted = toc[toc['Identifier'].isin(identifiers)]"
   ],
   "metadata": {
    "collapsed": false,
    "pycharm": {
     "name": "#%%\n"
    }
   }
  },
  {
   "cell_type": "code",
   "execution_count": 35,
   "outputs": [],
   "source": [
    "shortlisted.to_excel('shortlisted.xlsx')"
   ],
   "metadata": {
    "collapsed": false,
    "pycharm": {
     "name": "#%%\n"
    }
   }
  },
  {
   "cell_type": "markdown",
   "source": [
    "Translated and scanned through the excel file manually to shortlist following titles"
   ],
   "metadata": {
    "collapsed": false
   }
  },
  {
   "cell_type": "markdown",
   "source": [],
   "metadata": {
    "collapsed": false
   }
  },
  {
   "cell_type": "markdown",
   "source": [],
   "metadata": {
    "collapsed": false
   }
  },
  {
   "cell_type": "code",
   "execution_count": 48,
   "outputs": [],
   "source": [
    "titles = [\"Aardgas en elektriciteit, gemiddelde prijzen van eindverbruikers\", \"Gemiddelde energietarieven voor consumenten\", \"Hernieuwbare energie; zonnestroom, windenergie, RES-regio\", \"Hernieuwbare elektriciteit; productie en vermogen \", \"Windenergie op land; productie en capaciteit naar ashoogte\", \"Windenergie op land; productie en capaciteit per provincie\", \"Bestedingen; consumptie huishoudens 1995-2019\", \"Aanbod en gebruik energie; energiedragers, huishoudens en bedrijven (NR)\", \"Energieverbruik en energiekosten; intramurale gezondheidszorg, 1986 - 2000\", \"Energieverbruik huishoudens; energiedragers, 1975-2016\", \"Energieverbruik en energiekosten; land - en tuinbouw, 1989 - 2006\", \"Energieverbruik nijverheid (excl. energiesector); energiedragers, 1975-2012\"]"
   ],
   "metadata": {
    "collapsed": false,
    "pycharm": {
     "name": "#%%\n"
    }
   }
  },
  {
   "cell_type": "code",
   "execution_count": 53,
   "outputs": [],
   "source": [
    "id = toc[toc['Title'].isin(titles)]['Identifier'].to_list()"
   ],
   "metadata": {
    "collapsed": false,
    "pycharm": {
     "name": "#%%\n"
    }
   }
  },
  {
   "cell_type": "code",
   "execution_count": 54,
   "outputs": [],
   "source": [
    "shortlisted = toc[toc['Identifier'].isin(id)]"
   ],
   "metadata": {
    "collapsed": false,
    "pycharm": {
     "name": "#%%\n"
    }
   }
  },
  {
   "cell_type": "code",
   "execution_count": 55,
   "outputs": [],
   "source": [
    "shortlisted.to_excel('shortlisted.xlsx')"
   ],
   "metadata": {
    "collapsed": false,
    "pycharm": {
     "name": "#%%\n"
    }
   }
  },
  {
   "cell_type": "code",
   "execution_count": 56,
   "outputs": [
    {
     "data": {
      "text/plain": "                  Updated    ID Identifier  \\\n536   2022-02-18T02:00:00   536   84672NED   \n544   2021-12-10T02:00:00   544   85004NED   \n545   2021-12-10T02:00:00   545   82610NED   \n548   2021-12-16T02:00:00   548   71227ned   \n549   2021-12-16T02:00:00   549   70960ned   \n740   2019-09-19T06:30:00   740   70076ned   \n890   2021-11-04T09:30:00   890   84450NED   \n2336  2017-09-21T02:00:00  2336       7445   \n2337  2017-12-22T02:00:00  2337   82375NED   \n2339  2017-09-20T02:00:00  2339       7447   \n2340  2017-09-26T02:00:00  2340   82369NED   \n\n                                                  Title  \\\n536         Gemiddelde energietarieven voor consumenten   \n544   Hernieuwbare energie; zonnestroom, windenergie...   \n545   Hernieuwbare elektriciteit; productie en vermo...   \n548   Windenergie op land; productie en capaciteit n...   \n549   Windenergie op land; productie en capaciteit p...   \n740       Bestedingen; consumptie huishoudens 1995-2019   \n890   Aanbod en gebruik energie; energiedragers, hui...   \n2336  Energieverbruik en energiekosten; intramurale ...   \n2337  Energieverbruik huishoudens; energiedragers, 1...   \n2339  Energieverbruik en energiekosten; land - en tu...   \n2340  Energieverbruik nijverheid (excl. energiesecto...   \n\n                                    ShortTitle  \\\n536                 Gemiddelde energietarieven   \n544    Hernieuwbare energie,zon,wind,RES-regio   \n545                 Hernieuwbare elektriciteit   \n548         Windenergie op land; naar ashoogte   \n549         Windenergie op land; per provincie   \n740        Bestedingen; consumptie huishoudens   \n890             Aanbod en gebruik energie (NR)   \n2336  Energieverbruik gezondheidsz., 1986-2000   \n2337    Energieverbruik huishoudens, 1975-2016   \n2339  Energieverbruik land-/tuinbouw,1989-2006   \n2340   Energieverbruik nijverheid, 1975 - 2012   \n\n                                       ShortDescription  \\\n536   \\nDeze tabel bevat cijfers over de consumenten...   \n544   \\nDeze tabel bevat cijfers over het opgestelde...   \n545   \\nDeze tabel bevat gegevens over de Nederlands...   \n548   \\nIn deze tabel zijn cijfers opgenomen over de...   \n549   \\nIn deze tabel zijn cijfers per provincie opg...   \n740   \\nDeze tabel bevat cijfers over de bestedingen...   \n890   \\nAls onderdeel van de milieurekeningen stelt ...   \n2336  \\nDeze tabel bevat gegevens over het energieve...   \n2337  \\nDeze tabel geeft het verbruik van energie we...   \n2339  \\nDe tabel bevat gegevens over het energieverb...   \n2340  \\nDeze tabel geeft het verbruik van energie we...   \n\n                                                Summary             Modified  \\\n536   Gemiddelde energietarieven voor consumenten\\nA...  2022-02-18T02:00:00   \n544   Hernieuwbare energie, zonnestroom, wind op lan...  2021-12-10T02:00:00   \n545   Productie en vermogen van hernieuwbare elektri...  2021-12-10T02:00:00   \n548   Elektriciteitsproductie, opgestelde capaciteit...  2021-12-16T02:00:00   \n549   Elektriciteitsproductie, vermogen, rotoropperv...  2021-12-16T02:00:00   \n740   Mutaties, indexcijfers, aandelen en waarden va...  2019-08-21T06:30:00   \n890   Fysieke energiestromen: winning, import, produ...  2021-11-04T09:30:00   \n2336  Energiekosten en - verbruik in intramurale zor...  2005-10-11T10:07:00   \n2337  Energieverbruik uit steenkool, bruinkool, aard...  2017-07-11T02:00:00   \n2339  Energieverbruik van de land - en tuinbouwbedri...  2010-02-23T02:00:00   \n2340  Energieverbruik uit steenkool, bruinkool, aard...  2014-02-06T02:00:00   \n\n         MetaDataModified          ReasonDelivery  ...  \\\n536   2022-02-18T02:00:00           Actualisering  ...   \n544   2021-12-10T02:00:00           Actualisering  ...   \n545   2021-12-10T02:00:00           Actualisering  ...   \n548   2021-12-16T02:00:00           Actualisering  ...   \n549   2021-12-16T02:00:00           Actualisering  ...   \n740   2019-09-19T06:30:00               Stopgezet  ...   \n890   2021-11-04T09:30:00  ActualiseringBijzonder  ...   \n2336  2017-09-21T02:00:00               Stopgezet  ...   \n2337  2017-12-22T02:00:00               Stopgezet  ...   \n2339  2017-09-20T02:00:00               Stopgezet  ...   \n2340  2017-09-26T02:00:00               Stopgezet  ...   \n\n                                                 Period  \\\n536                         januari 2018 - januari 2022   \n544                                         2018 - 2020   \n545                                         1990 - 2020   \n548                                         1990 - 2020   \n549                                         1990 - 2020   \n740                            1995 januari - 2019 juni   \n890                                       2000 t/m 2019   \n2336                                        1986 - 2000   \n2337                                        1975 - 2016   \n2339                                        1989 - 2006   \n2340  1975 - 2012; 1999 1e kwartaal - 2010 4e kwartaal    \n\n                                        SummaryAndLinks  \\\n536   Gemiddelde energietarieven voor consumenten<br...   \n544   Hernieuwbare energie, zonnestroom, wind op lan...   \n545   Productie en vermogen van hernieuwbare elektri...   \n548   Elektriciteitsproductie, opgestelde capaciteit...   \n549   Elektriciteitsproductie, vermogen, rotoropperv...   \n740   Mutaties, indexcijfers, aandelen en waarden va...   \n890   Fysieke energiestromen: winning, import, produ...   \n2336  Energiekosten en - verbruik in intramurale zor...   \n2337  Energieverbruik uit steenkool, bruinkool, aard...   \n2339  Energieverbruik van de land - en tuinbouwbedri...   \n2340  Energieverbruik uit steenkool, bruinkool, aard...   \n\n                                               ApiUrl  \\\n536   https://opendata.cbs.nl/ODataApi/OData/84672NED   \n544   https://opendata.cbs.nl/ODataApi/OData/85004NED   \n545   https://opendata.cbs.nl/ODataApi/OData/82610NED   \n548   https://opendata.cbs.nl/ODataApi/OData/71227ned   \n549   https://opendata.cbs.nl/ODataApi/OData/70960ned   \n740   https://opendata.cbs.nl/ODataApi/OData/70076ned   \n890   https://opendata.cbs.nl/ODataApi/OData/84450NED   \n2336      https://opendata.cbs.nl/ODataApi/OData/7445   \n2337  https://opendata.cbs.nl/ODataApi/OData/82375NED   \n2339      https://opendata.cbs.nl/ODataApi/OData/7447   \n2340  https://opendata.cbs.nl/ODataApi/OData/82369NED   \n\n                                               FeedUrl  \\\n536   https://opendata.cbs.nl/ODataFeed/OData/84672NED   \n544   https://opendata.cbs.nl/ODataFeed/OData/85004NED   \n545   https://opendata.cbs.nl/ODataFeed/OData/82610NED   \n548   https://opendata.cbs.nl/ODataFeed/OData/71227ned   \n549   https://opendata.cbs.nl/ODataFeed/OData/70960ned   \n740   https://opendata.cbs.nl/ODataFeed/OData/70076ned   \n890   https://opendata.cbs.nl/ODataFeed/OData/84450NED   \n2336      https://opendata.cbs.nl/ODataFeed/OData/7445   \n2337  https://opendata.cbs.nl/ODataFeed/OData/82375NED   \n2339      https://opendata.cbs.nl/ODataFeed/OData/7447   \n2340  https://opendata.cbs.nl/ODataFeed/OData/82369NED   \n\n                                    DefaultPresentation  \\\n536   ts=1645026965497&graphtype=Table&r=Perioden&k=...   \n544   ts=1625757609747&graphtype=Table&r=RegioS&k=Br...   \n545   ts=1638879142570&graphtype=Table&r=BronTechnie...   \n548   ts=1624879704461&graphtype=Table&r=Perioden,As...   \n549   ts=1624879131796&graphtype=Table&r=RegioS,Peri...   \n740   ts=1566293401069&graphtype=Table&r=GoederenEnD...   \n890   ts=1635343521098&graphtype=Table&r=Energiedrag...   \n2336        graphtype=Table&r=Topics&k=Perioden&t=SBI93   \n2337                                    graphType=table   \n2339  graphtype=Table&r=BedrijfSector,Perioden&k=Topics   \n2340                                    graphType=table   \n\n                                       DefaultSelection          GraphTypes  \\\n536   $filter=((Btw eq 'A048944')) and ((Perioden eq...      Table,Bar,Line   \n544   $filter=((RegioS eq 'NL01  ') or (RegioS eq 'E...      Table,Bar,Line   \n545   $filter=((BronTechniek eq 'T001028 ') or (Bron...      Table,Bar,Line   \n548   $filter=((Perioden eq '2019JJ00') or (Perioden...      Table,Bar,Line   \n549   $filter=((Perioden eq '2019JJ00') or (Perioden...  Table,Bar,Line,Map   \n740   $filter=((GoederenEnDiensten eq '      8000') ...      Table,Bar,Line   \n890   $filter=((NederlandseEconomie eq 'B000579') or...      Table,Bar,Line   \n2336  $filter=((SBI93 eq '10005')) and ((Perioden eq...      Table,Bar,Line   \n2337  $filter=((Energiedragers eq '1 ') or (Energied...      Table,Bar,Line   \n2339  $filter=((BedrijfSector eq '10') or (BedrijfSe...      Table,Bar,Line   \n2340  $filter=((Energiedragers eq '1 ') or (Energied...      Table,Bar,Line   \n\n     RecordCount ColumnCount SearchPriority  \n536          106          13              2  \n544         1032           6              2  \n545          465          10              2  \n548          186          15              2  \n549          403          16              2  \n740        15808           9              1  \n890        49200           9              2  \n2336          40          16              1  \n2337         378           3              1  \n2339         468          52              1  \n2340        1032           3              1  \n\n[11 rows x 26 columns]",
      "text/html": "<div>\n<style scoped>\n    .dataframe tbody tr th:only-of-type {\n        vertical-align: middle;\n    }\n\n    .dataframe tbody tr th {\n        vertical-align: top;\n    }\n\n    .dataframe thead th {\n        text-align: right;\n    }\n</style>\n<table border=\"1\" class=\"dataframe\">\n  <thead>\n    <tr style=\"text-align: right;\">\n      <th></th>\n      <th>Updated</th>\n      <th>ID</th>\n      <th>Identifier</th>\n      <th>Title</th>\n      <th>ShortTitle</th>\n      <th>ShortDescription</th>\n      <th>Summary</th>\n      <th>Modified</th>\n      <th>MetaDataModified</th>\n      <th>ReasonDelivery</th>\n      <th>...</th>\n      <th>Period</th>\n      <th>SummaryAndLinks</th>\n      <th>ApiUrl</th>\n      <th>FeedUrl</th>\n      <th>DefaultPresentation</th>\n      <th>DefaultSelection</th>\n      <th>GraphTypes</th>\n      <th>RecordCount</th>\n      <th>ColumnCount</th>\n      <th>SearchPriority</th>\n    </tr>\n  </thead>\n  <tbody>\n    <tr>\n      <th>536</th>\n      <td>2022-02-18T02:00:00</td>\n      <td>536</td>\n      <td>84672NED</td>\n      <td>Gemiddelde energietarieven voor consumenten</td>\n      <td>Gemiddelde energietarieven</td>\n      <td>\\nDeze tabel bevat cijfers over de consumenten...</td>\n      <td>Gemiddelde energietarieven voor consumenten\\nA...</td>\n      <td>2022-02-18T02:00:00</td>\n      <td>2022-02-18T02:00:00</td>\n      <td>Actualisering</td>\n      <td>...</td>\n      <td>januari 2018 - januari 2022</td>\n      <td>Gemiddelde energietarieven voor consumenten&lt;br...</td>\n      <td>https://opendata.cbs.nl/ODataApi/OData/84672NED</td>\n      <td>https://opendata.cbs.nl/ODataFeed/OData/84672NED</td>\n      <td>ts=1645026965497&amp;graphtype=Table&amp;r=Perioden&amp;k=...</td>\n      <td>$filter=((Btw eq 'A048944')) and ((Perioden eq...</td>\n      <td>Table,Bar,Line</td>\n      <td>106</td>\n      <td>13</td>\n      <td>2</td>\n    </tr>\n    <tr>\n      <th>544</th>\n      <td>2021-12-10T02:00:00</td>\n      <td>544</td>\n      <td>85004NED</td>\n      <td>Hernieuwbare energie; zonnestroom, windenergie...</td>\n      <td>Hernieuwbare energie,zon,wind,RES-regio</td>\n      <td>\\nDeze tabel bevat cijfers over het opgestelde...</td>\n      <td>Hernieuwbare energie, zonnestroom, wind op lan...</td>\n      <td>2021-12-10T02:00:00</td>\n      <td>2021-12-10T02:00:00</td>\n      <td>Actualisering</td>\n      <td>...</td>\n      <td>2018 - 2020</td>\n      <td>Hernieuwbare energie, zonnestroom, wind op lan...</td>\n      <td>https://opendata.cbs.nl/ODataApi/OData/85004NED</td>\n      <td>https://opendata.cbs.nl/ODataFeed/OData/85004NED</td>\n      <td>ts=1625757609747&amp;graphtype=Table&amp;r=RegioS&amp;k=Br...</td>\n      <td>$filter=((RegioS eq 'NL01  ') or (RegioS eq 'E...</td>\n      <td>Table,Bar,Line</td>\n      <td>1032</td>\n      <td>6</td>\n      <td>2</td>\n    </tr>\n    <tr>\n      <th>545</th>\n      <td>2021-12-10T02:00:00</td>\n      <td>545</td>\n      <td>82610NED</td>\n      <td>Hernieuwbare elektriciteit; productie en vermo...</td>\n      <td>Hernieuwbare elektriciteit</td>\n      <td>\\nDeze tabel bevat gegevens over de Nederlands...</td>\n      <td>Productie en vermogen van hernieuwbare elektri...</td>\n      <td>2021-12-10T02:00:00</td>\n      <td>2021-12-10T02:00:00</td>\n      <td>Actualisering</td>\n      <td>...</td>\n      <td>1990 - 2020</td>\n      <td>Productie en vermogen van hernieuwbare elektri...</td>\n      <td>https://opendata.cbs.nl/ODataApi/OData/82610NED</td>\n      <td>https://opendata.cbs.nl/ODataFeed/OData/82610NED</td>\n      <td>ts=1638879142570&amp;graphtype=Table&amp;r=BronTechnie...</td>\n      <td>$filter=((BronTechniek eq 'T001028 ') or (Bron...</td>\n      <td>Table,Bar,Line</td>\n      <td>465</td>\n      <td>10</td>\n      <td>2</td>\n    </tr>\n    <tr>\n      <th>548</th>\n      <td>2021-12-16T02:00:00</td>\n      <td>548</td>\n      <td>71227ned</td>\n      <td>Windenergie op land; productie en capaciteit n...</td>\n      <td>Windenergie op land; naar ashoogte</td>\n      <td>\\nIn deze tabel zijn cijfers opgenomen over de...</td>\n      <td>Elektriciteitsproductie, opgestelde capaciteit...</td>\n      <td>2021-12-16T02:00:00</td>\n      <td>2021-12-16T02:00:00</td>\n      <td>Actualisering</td>\n      <td>...</td>\n      <td>1990 - 2020</td>\n      <td>Elektriciteitsproductie, opgestelde capaciteit...</td>\n      <td>https://opendata.cbs.nl/ODataApi/OData/71227ned</td>\n      <td>https://opendata.cbs.nl/ODataFeed/OData/71227ned</td>\n      <td>ts=1624879704461&amp;graphtype=Table&amp;r=Perioden,As...</td>\n      <td>$filter=((Perioden eq '2019JJ00') or (Perioden...</td>\n      <td>Table,Bar,Line</td>\n      <td>186</td>\n      <td>15</td>\n      <td>2</td>\n    </tr>\n    <tr>\n      <th>549</th>\n      <td>2021-12-16T02:00:00</td>\n      <td>549</td>\n      <td>70960ned</td>\n      <td>Windenergie op land; productie en capaciteit p...</td>\n      <td>Windenergie op land; per provincie</td>\n      <td>\\nIn deze tabel zijn cijfers per provincie opg...</td>\n      <td>Elektriciteitsproductie, vermogen, rotoropperv...</td>\n      <td>2021-12-16T02:00:00</td>\n      <td>2021-12-16T02:00:00</td>\n      <td>Actualisering</td>\n      <td>...</td>\n      <td>1990 - 2020</td>\n      <td>Elektriciteitsproductie, vermogen, rotoropperv...</td>\n      <td>https://opendata.cbs.nl/ODataApi/OData/70960ned</td>\n      <td>https://opendata.cbs.nl/ODataFeed/OData/70960ned</td>\n      <td>ts=1624879131796&amp;graphtype=Table&amp;r=RegioS,Peri...</td>\n      <td>$filter=((Perioden eq '2019JJ00') or (Perioden...</td>\n      <td>Table,Bar,Line,Map</td>\n      <td>403</td>\n      <td>16</td>\n      <td>2</td>\n    </tr>\n    <tr>\n      <th>740</th>\n      <td>2019-09-19T06:30:00</td>\n      <td>740</td>\n      <td>70076ned</td>\n      <td>Bestedingen; consumptie huishoudens 1995-2019</td>\n      <td>Bestedingen; consumptie huishoudens</td>\n      <td>\\nDeze tabel bevat cijfers over de bestedingen...</td>\n      <td>Mutaties, indexcijfers, aandelen en waarden va...</td>\n      <td>2019-08-21T06:30:00</td>\n      <td>2019-09-19T06:30:00</td>\n      <td>Stopgezet</td>\n      <td>...</td>\n      <td>1995 januari - 2019 juni</td>\n      <td>Mutaties, indexcijfers, aandelen en waarden va...</td>\n      <td>https://opendata.cbs.nl/ODataApi/OData/70076ned</td>\n      <td>https://opendata.cbs.nl/ODataFeed/OData/70076ned</td>\n      <td>ts=1566293401069&amp;graphtype=Table&amp;r=GoederenEnD...</td>\n      <td>$filter=((GoederenEnDiensten eq '      8000') ...</td>\n      <td>Table,Bar,Line</td>\n      <td>15808</td>\n      <td>9</td>\n      <td>1</td>\n    </tr>\n    <tr>\n      <th>890</th>\n      <td>2021-11-04T09:30:00</td>\n      <td>890</td>\n      <td>84450NED</td>\n      <td>Aanbod en gebruik energie; energiedragers, hui...</td>\n      <td>Aanbod en gebruik energie (NR)</td>\n      <td>\\nAls onderdeel van de milieurekeningen stelt ...</td>\n      <td>Fysieke energiestromen: winning, import, produ...</td>\n      <td>2021-11-04T09:30:00</td>\n      <td>2021-11-04T09:30:00</td>\n      <td>ActualiseringBijzonder</td>\n      <td>...</td>\n      <td>2000 t/m 2019</td>\n      <td>Fysieke energiestromen: winning, import, produ...</td>\n      <td>https://opendata.cbs.nl/ODataApi/OData/84450NED</td>\n      <td>https://opendata.cbs.nl/ODataFeed/OData/84450NED</td>\n      <td>ts=1635343521098&amp;graphtype=Table&amp;r=Energiedrag...</td>\n      <td>$filter=((NederlandseEconomie eq 'B000579') or...</td>\n      <td>Table,Bar,Line</td>\n      <td>49200</td>\n      <td>9</td>\n      <td>2</td>\n    </tr>\n    <tr>\n      <th>2336</th>\n      <td>2017-09-21T02:00:00</td>\n      <td>2336</td>\n      <td>7445</td>\n      <td>Energieverbruik en energiekosten; intramurale ...</td>\n      <td>Energieverbruik gezondheidsz., 1986-2000</td>\n      <td>\\nDeze tabel bevat gegevens over het energieve...</td>\n      <td>Energiekosten en - verbruik in intramurale zor...</td>\n      <td>2005-10-11T10:07:00</td>\n      <td>2017-09-21T02:00:00</td>\n      <td>Stopgezet</td>\n      <td>...</td>\n      <td>1986 - 2000</td>\n      <td>Energiekosten en - verbruik in intramurale zor...</td>\n      <td>https://opendata.cbs.nl/ODataApi/OData/7445</td>\n      <td>https://opendata.cbs.nl/ODataFeed/OData/7445</td>\n      <td>graphtype=Table&amp;r=Topics&amp;k=Perioden&amp;t=SBI93</td>\n      <td>$filter=((SBI93 eq '10005')) and ((Perioden eq...</td>\n      <td>Table,Bar,Line</td>\n      <td>40</td>\n      <td>16</td>\n      <td>1</td>\n    </tr>\n    <tr>\n      <th>2337</th>\n      <td>2017-12-22T02:00:00</td>\n      <td>2337</td>\n      <td>82375NED</td>\n      <td>Energieverbruik huishoudens; energiedragers, 1...</td>\n      <td>Energieverbruik huishoudens, 1975-2016</td>\n      <td>\\nDeze tabel geeft het verbruik van energie we...</td>\n      <td>Energieverbruik uit steenkool, bruinkool, aard...</td>\n      <td>2017-07-11T02:00:00</td>\n      <td>2017-12-22T02:00:00</td>\n      <td>Stopgezet</td>\n      <td>...</td>\n      <td>1975 - 2016</td>\n      <td>Energieverbruik uit steenkool, bruinkool, aard...</td>\n      <td>https://opendata.cbs.nl/ODataApi/OData/82375NED</td>\n      <td>https://opendata.cbs.nl/ODataFeed/OData/82375NED</td>\n      <td>graphType=table</td>\n      <td>$filter=((Energiedragers eq '1 ') or (Energied...</td>\n      <td>Table,Bar,Line</td>\n      <td>378</td>\n      <td>3</td>\n      <td>1</td>\n    </tr>\n    <tr>\n      <th>2339</th>\n      <td>2017-09-20T02:00:00</td>\n      <td>2339</td>\n      <td>7447</td>\n      <td>Energieverbruik en energiekosten; land - en tu...</td>\n      <td>Energieverbruik land-/tuinbouw,1989-2006</td>\n      <td>\\nDe tabel bevat gegevens over het energieverb...</td>\n      <td>Energieverbruik van de land - en tuinbouwbedri...</td>\n      <td>2010-02-23T02:00:00</td>\n      <td>2017-09-20T02:00:00</td>\n      <td>Stopgezet</td>\n      <td>...</td>\n      <td>1989 - 2006</td>\n      <td>Energieverbruik van de land - en tuinbouwbedri...</td>\n      <td>https://opendata.cbs.nl/ODataApi/OData/7447</td>\n      <td>https://opendata.cbs.nl/ODataFeed/OData/7447</td>\n      <td>graphtype=Table&amp;r=BedrijfSector,Perioden&amp;k=Topics</td>\n      <td>$filter=((BedrijfSector eq '10') or (BedrijfSe...</td>\n      <td>Table,Bar,Line</td>\n      <td>468</td>\n      <td>52</td>\n      <td>1</td>\n    </tr>\n    <tr>\n      <th>2340</th>\n      <td>2017-09-26T02:00:00</td>\n      <td>2340</td>\n      <td>82369NED</td>\n      <td>Energieverbruik nijverheid (excl. energiesecto...</td>\n      <td>Energieverbruik nijverheid, 1975 - 2012</td>\n      <td>\\nDeze tabel geeft het verbruik van energie we...</td>\n      <td>Energieverbruik uit steenkool, bruinkool, aard...</td>\n      <td>2014-02-06T02:00:00</td>\n      <td>2017-09-26T02:00:00</td>\n      <td>Stopgezet</td>\n      <td>...</td>\n      <td>1975 - 2012; 1999 1e kwartaal - 2010 4e kwartaal</td>\n      <td>Energieverbruik uit steenkool, bruinkool, aard...</td>\n      <td>https://opendata.cbs.nl/ODataApi/OData/82369NED</td>\n      <td>https://opendata.cbs.nl/ODataFeed/OData/82369NED</td>\n      <td>graphType=table</td>\n      <td>$filter=((Energiedragers eq '1 ') or (Energied...</td>\n      <td>Table,Bar,Line</td>\n      <td>1032</td>\n      <td>3</td>\n      <td>1</td>\n    </tr>\n  </tbody>\n</table>\n<p>11 rows × 26 columns</p>\n</div>"
     },
     "execution_count": 56,
     "metadata": {},
     "output_type": "execute_result"
    }
   ],
   "source": [
    "shortlisted"
   ],
   "metadata": {
    "collapsed": false,
    "pycharm": {
     "name": "#%%\n"
    }
   }
  },
  {
   "cell_type": "code",
   "execution_count": 61,
   "outputs": [],
   "source": [
    "identifier = '84450NED'"
   ],
   "metadata": {
    "collapsed": false,
    "pycharm": {
     "name": "#%%\n"
    }
   }
  },
  {
   "cell_type": "code",
   "execution_count": 62,
   "outputs": [],
   "source": [
    "data = pd.DataFrame(cbsodata.get_data(identifier))"
   ],
   "metadata": {
    "collapsed": false,
    "pycharm": {
     "name": "#%%\n"
    }
   }
  },
  {
   "cell_type": "code",
   "execution_count": 66,
   "outputs": [
    {
     "data": {
      "text/plain": "          ID                  NederlandseEconomie           Energiedragers  \\\n0          0          Nederlandse economie totaal    Totaal energiedragers   \n1          1          Nederlandse economie totaal    Totaal energiedragers   \n2          2          Nederlandse economie totaal    Totaal energiedragers   \n3          3          Nederlandse economie totaal    Totaal energiedragers   \n4          4          Nederlandse economie totaal    Totaal energiedragers   \n...      ...                                  ...                      ...   \n49195  49195  90-92  Kunst, cultuur en kansspelen  Niet-hernieuwbaar afval   \n49196  49196  90-92  Kunst, cultuur en kansspelen  Niet-hernieuwbaar afval   \n49197  49197  90-92  Kunst, cultuur en kansspelen  Niet-hernieuwbaar afval   \n49198  49198  90-92  Kunst, cultuur en kansspelen  Niet-hernieuwbaar afval   \n49199  49199  90-92  Kunst, cultuur en kansspelen  Niet-hernieuwbaar afval   \n\n      Perioden  Winning_1  IntermediairEnHuishoudelijkVerbruik_2  Invoer_3  \\\n0         2000        NaN                                 6990.2    5274.2   \n1         2001        NaN                                 7101.7    5652.2   \n2         2002        NaN                                 6769.7    5326.8   \n3         2003        NaN                                 7043.6    5561.9   \n4         2004        NaN                                 7249.3    5828.7   \n...        ...        ...                                    ...       ...   \n49195     2015        NaN                                    0.0       NaN   \n49196     2016        NaN                                    0.0       NaN   \n49197     2017        NaN                                    0.0       NaN   \n49198     2018        NaN                                    0.0       NaN   \n49199     2019        NaN                                    0.0       NaN   \n\n       Productie_4  NettoEnergieverbruik_5  Uitvoer_6  \n0           5664.2                  3641.6     3939.1  \n1           5840.9                  3735.4     4471.6  \n2           5694.2                  3504.7     4371.1  \n3           5739.1                  3653.8     4333.5  \n4           6301.4                  3679.4     4932.2  \n...            ...                     ...        ...  \n49195          NaN                     NaN        NaN  \n49196          NaN                     NaN        NaN  \n49197          NaN                     NaN        NaN  \n49198          NaN                     NaN        NaN  \n49199          NaN                     NaN        NaN  \n\n[49200 rows x 10 columns]",
      "text/html": "<div>\n<style scoped>\n    .dataframe tbody tr th:only-of-type {\n        vertical-align: middle;\n    }\n\n    .dataframe tbody tr th {\n        vertical-align: top;\n    }\n\n    .dataframe thead th {\n        text-align: right;\n    }\n</style>\n<table border=\"1\" class=\"dataframe\">\n  <thead>\n    <tr style=\"text-align: right;\">\n      <th></th>\n      <th>ID</th>\n      <th>NederlandseEconomie</th>\n      <th>Energiedragers</th>\n      <th>Perioden</th>\n      <th>Winning_1</th>\n      <th>IntermediairEnHuishoudelijkVerbruik_2</th>\n      <th>Invoer_3</th>\n      <th>Productie_4</th>\n      <th>NettoEnergieverbruik_5</th>\n      <th>Uitvoer_6</th>\n    </tr>\n  </thead>\n  <tbody>\n    <tr>\n      <th>0</th>\n      <td>0</td>\n      <td>Nederlandse economie totaal</td>\n      <td>Totaal energiedragers</td>\n      <td>2000</td>\n      <td>NaN</td>\n      <td>6990.2</td>\n      <td>5274.2</td>\n      <td>5664.2</td>\n      <td>3641.6</td>\n      <td>3939.1</td>\n    </tr>\n    <tr>\n      <th>1</th>\n      <td>1</td>\n      <td>Nederlandse economie totaal</td>\n      <td>Totaal energiedragers</td>\n      <td>2001</td>\n      <td>NaN</td>\n      <td>7101.7</td>\n      <td>5652.2</td>\n      <td>5840.9</td>\n      <td>3735.4</td>\n      <td>4471.6</td>\n    </tr>\n    <tr>\n      <th>2</th>\n      <td>2</td>\n      <td>Nederlandse economie totaal</td>\n      <td>Totaal energiedragers</td>\n      <td>2002</td>\n      <td>NaN</td>\n      <td>6769.7</td>\n      <td>5326.8</td>\n      <td>5694.2</td>\n      <td>3504.7</td>\n      <td>4371.1</td>\n    </tr>\n    <tr>\n      <th>3</th>\n      <td>3</td>\n      <td>Nederlandse economie totaal</td>\n      <td>Totaal energiedragers</td>\n      <td>2003</td>\n      <td>NaN</td>\n      <td>7043.6</td>\n      <td>5561.9</td>\n      <td>5739.1</td>\n      <td>3653.8</td>\n      <td>4333.5</td>\n    </tr>\n    <tr>\n      <th>4</th>\n      <td>4</td>\n      <td>Nederlandse economie totaal</td>\n      <td>Totaal energiedragers</td>\n      <td>2004</td>\n      <td>NaN</td>\n      <td>7249.3</td>\n      <td>5828.7</td>\n      <td>6301.4</td>\n      <td>3679.4</td>\n      <td>4932.2</td>\n    </tr>\n    <tr>\n      <th>...</th>\n      <td>...</td>\n      <td>...</td>\n      <td>...</td>\n      <td>...</td>\n      <td>...</td>\n      <td>...</td>\n      <td>...</td>\n      <td>...</td>\n      <td>...</td>\n      <td>...</td>\n    </tr>\n    <tr>\n      <th>49195</th>\n      <td>49195</td>\n      <td>90-92  Kunst, cultuur en kansspelen</td>\n      <td>Niet-hernieuwbaar afval</td>\n      <td>2015</td>\n      <td>NaN</td>\n      <td>0.0</td>\n      <td>NaN</td>\n      <td>NaN</td>\n      <td>NaN</td>\n      <td>NaN</td>\n    </tr>\n    <tr>\n      <th>49196</th>\n      <td>49196</td>\n      <td>90-92  Kunst, cultuur en kansspelen</td>\n      <td>Niet-hernieuwbaar afval</td>\n      <td>2016</td>\n      <td>NaN</td>\n      <td>0.0</td>\n      <td>NaN</td>\n      <td>NaN</td>\n      <td>NaN</td>\n      <td>NaN</td>\n    </tr>\n    <tr>\n      <th>49197</th>\n      <td>49197</td>\n      <td>90-92  Kunst, cultuur en kansspelen</td>\n      <td>Niet-hernieuwbaar afval</td>\n      <td>2017</td>\n      <td>NaN</td>\n      <td>0.0</td>\n      <td>NaN</td>\n      <td>NaN</td>\n      <td>NaN</td>\n      <td>NaN</td>\n    </tr>\n    <tr>\n      <th>49198</th>\n      <td>49198</td>\n      <td>90-92  Kunst, cultuur en kansspelen</td>\n      <td>Niet-hernieuwbaar afval</td>\n      <td>2018</td>\n      <td>NaN</td>\n      <td>0.0</td>\n      <td>NaN</td>\n      <td>NaN</td>\n      <td>NaN</td>\n      <td>NaN</td>\n    </tr>\n    <tr>\n      <th>49199</th>\n      <td>49199</td>\n      <td>90-92  Kunst, cultuur en kansspelen</td>\n      <td>Niet-hernieuwbaar afval</td>\n      <td>2019</td>\n      <td>NaN</td>\n      <td>0.0</td>\n      <td>NaN</td>\n      <td>NaN</td>\n      <td>NaN</td>\n      <td>NaN</td>\n    </tr>\n  </tbody>\n</table>\n<p>49200 rows × 10 columns</p>\n</div>"
     },
     "execution_count": 66,
     "metadata": {},
     "output_type": "execute_result"
    }
   ],
   "source": [
    "data"
   ],
   "metadata": {
    "collapsed": false,
    "pycharm": {
     "name": "#%%\n"
    }
   }
  },
  {
   "cell_type": "code",
   "execution_count": null,
   "outputs": [],
   "source": [],
   "metadata": {
    "collapsed": false,
    "pycharm": {
     "name": "#%%\n"
    }
   }
  }
 ],
 "metadata": {
  "kernelspec": {
   "display_name": "Python 3",
   "language": "python",
   "name": "python3"
  },
  "language_info": {
   "codemirror_mode": {
    "name": "ipython",
    "version": 2
   },
   "file_extension": ".py",
   "mimetype": "text/x-python",
   "name": "python",
   "nbconvert_exporter": "python",
   "pygments_lexer": "ipython2",
   "version": "2.7.6"
  }
 },
 "nbformat": 4,
 "nbformat_minor": 0
}