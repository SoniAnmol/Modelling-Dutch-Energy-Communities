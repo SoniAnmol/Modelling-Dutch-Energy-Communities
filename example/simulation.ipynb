{
 "cells": [
  {
   "cell_type": "markdown",
   "metadata": {
    "collapsed": true,
    "pycharm": {
     "name": "#%% md\n"
    }
   },
   "source": [
    "# Simulation"
   ]
  },
  {
   "cell_type": "code",
   "execution_count": 8,
   "outputs": [],
   "source": [
    "import random\n",
    "import numpy as np\n",
    "from numpy import ndarray"
   ],
   "metadata": {
    "collapsed": false,
    "pycharm": {
     "name": "#%%\n"
    }
   }
  },
  {
   "cell_type": "code",
   "execution_count": 5,
   "outputs": [
    {
     "name": "stdout",
     "output_type": "stream",
     "text": [
      "92\n",
      "33\n",
      "43\n",
      "24\n",
      "21\n",
      "88\n",
      "22\n",
      "11\n",
      "58\n",
      "26\n",
      "26\n",
      "11\n",
      "100\n",
      "35\n",
      "76\n",
      "93\n",
      "37\n",
      "18\n",
      "67\n",
      "66\n",
      "42\n",
      "29\n",
      "67\n",
      "49\n"
     ]
    }
   ],
   "source": [
    "for i in range(24):\n",
    "    print(random.randint(10,100))"
   ],
   "metadata": {
    "collapsed": false,
    "pycharm": {
     "name": "#%%\n"
    }
   }
  },
  {
   "cell_type": "code",
   "execution_count": 24,
   "outputs": [],
   "source": [
    "def generate_demand(mu=50,sigma=10):\n",
    "    \"\"\"Generates a mock demand for agent for a given day\"\"\"\n",
    "    size = 24\n",
    "    demand: ndarray | int | float | complex = np.random.normal(mu, sigma, size)\n",
    "    return demand"
   ],
   "metadata": {
    "collapsed": false,
    "pycharm": {
     "name": "#%%\n"
    }
   }
  },
  {
   "cell_type": "code",
   "execution_count": 23,
   "outputs": [
    {
     "data": {
      "text/plain": "array([32.62137752, 38.25508687, 45.5875424 , 36.44130427, 44.25283856,\n       42.28358923, 62.05166935, 46.1315414 , 36.53652996, 62.68134311,\n       60.6080799 , 57.6923215 , 64.14047215, 36.58442173, 48.71001056,\n       59.79398897, 44.84104644, 70.20190225, 57.10190847, 41.59375424,\n       66.93873493, 36.94359404, 44.51754865, 36.62374792])"
     },
     "execution_count": 23,
     "metadata": {},
     "output_type": "execute_result"
    }
   ],
   "source": [
    "generate_demand()"
   ],
   "metadata": {
    "collapsed": false,
    "pycharm": {
     "name": "#%%\n"
    }
   }
  },
  {
   "cell_type": "code",
   "execution_count": null,
   "outputs": [],
   "source": [],
   "metadata": {
    "collapsed": false,
    "pycharm": {
     "name": "#%%\n"
    }
   }
  }
 ],
 "metadata": {
  "kernelspec": {
   "display_name": "Python 3",
   "language": "python",
   "name": "python3"
  },
  "language_info": {
   "codemirror_mode": {
    "name": "ipython",
    "version": 2
   },
   "file_extension": ".py",
   "mimetype": "text/x-python",
   "name": "python",
   "nbconvert_exporter": "python",
   "pygments_lexer": "ipython2",
   "version": "2.7.6"
  }
 },
 "nbformat": 4,
 "nbformat_minor": 0
}