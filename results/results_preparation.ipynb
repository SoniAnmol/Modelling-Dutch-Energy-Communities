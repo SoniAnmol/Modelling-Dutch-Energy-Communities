{
 "cells": [
  {
   "cell_type": "markdown",
   "source": [
    "# Results preparation"
   ],
   "metadata": {
    "collapsed": false,
    "pycharm": {
     "name": "#%% md\n"
    }
   }
  },
  {
   "cell_type": "markdown",
   "source": [
    "This notebook reads the experiment results and prepares the data for the analysis."
   ],
   "metadata": {
    "collapsed": false,
    "pycharm": {
     "name": "#%% md\n"
    }
   }
  },
  {
   "cell_type": "code",
   "execution_count": 2,
   "outputs": [],
   "source": [
    "from results import *\n",
    "import warnings\n",
    "\n",
    "warnings.filterwarnings(\"ignore\")"
   ],
   "metadata": {
    "collapsed": false,
    "pycharm": {
     "name": "#%%\n"
    }
   }
  },
  {
   "cell_type": "markdown",
   "source": [
    "# 1. Load the experiment results"
   ],
   "metadata": {
    "collapsed": false,
    "pycharm": {
     "name": "#%% md\n"
    }
   }
  },
  {
   "cell_type": "code",
   "execution_count": 3,
   "outputs": [],
   "source": [
    "results_gf =  load_results_from_csv(ec_name='Gridflex')\n",
    "results_gm =  load_results_from_csv(ec_name='GroeneMient')"
   ],
   "metadata": {
    "collapsed": false,
    "pycharm": {
     "name": "#%%\n"
    }
   }
  },
  {
   "cell_type": "markdown",
   "source": [
    "## 2. Add experiment setup details to results"
   ],
   "metadata": {
    "collapsed": false,
    "pycharm": {
     "name": "#%% md\n"
    }
   }
  },
  {
   "cell_type": "code",
   "execution_count": 4,
   "outputs": [
    {
     "name": "stdout",
     "output_type": "stream",
     "text": [
      "setting up the experiments...\n",
      "\n",
      "starting the iteration through results...\n"
     ]
    },
    {
     "name": "stderr",
     "output_type": "stream",
     "text": [
      "100%|██████████| 216/216 [00:42<00:00,  5.10it/s]\n"
     ]
    }
   ],
   "source": [
    "results_gf = add_experiment_setup_details(results_gf)"
   ],
   "metadata": {
    "collapsed": false,
    "pycharm": {
     "name": "#%%\n"
    }
   }
  },
  {
   "cell_type": "code",
   "execution_count": 5,
   "outputs": [
    {
     "name": "stdout",
     "output_type": "stream",
     "text": [
      "setting up the experiments...\n",
      "\n",
      "starting the iteration through results...\n"
     ]
    },
    {
     "name": "stderr",
     "output_type": "stream",
     "text": [
      "100%|██████████| 216/216 [00:22<00:00,  9.61it/s]\n"
     ]
    }
   ],
   "source": [
    "results_gm = add_experiment_setup_details(results_gm)"
   ],
   "metadata": {
    "collapsed": false,
    "pycharm": {
     "name": "#%%\n"
    }
   }
  },
  {
   "cell_type": "markdown",
   "source": [
    "## 3. Aggregate results of all simulation runs"
   ],
   "metadata": {
    "collapsed": false,
    "pycharm": {
     "name": "#%% md\n"
    }
   }
  },
  {
   "cell_type": "code",
   "execution_count": 6,
   "outputs": [
    {
     "name": "stderr",
     "output_type": "stream",
     "text": [
      "100%|██████████| 216/216 [00:50<00:00,  4.27it/s]\n"
     ]
    }
   ],
   "source": [
    "results_gf = combine_dictionaries(results_gf)"
   ],
   "metadata": {
    "collapsed": false,
    "pycharm": {
     "name": "#%%\n"
    }
   }
  },
  {
   "cell_type": "code",
   "execution_count": 7,
   "outputs": [
    {
     "name": "stderr",
     "output_type": "stream",
     "text": [
      "100%|██████████| 216/216 [00:53<00:00,  4.07it/s]\n"
     ]
    }
   ],
   "source": [
    "results_gm = combine_dictionaries(results_gm)"
   ],
   "metadata": {
    "collapsed": false,
    "pycharm": {
     "name": "#%%\n"
    }
   }
  },
  {
   "cell_type": "markdown",
   "source": [
    "## 4. Extract important key performance indicators"
   ],
   "metadata": {
    "collapsed": false,
    "pycharm": {
     "name": "#%% md\n"
    }
   }
  },
  {
   "cell_type": "code",
   "execution_count": 8,
   "outputs": [
    {
     "name": "stderr",
     "output_type": "stream",
     "text": [
      "100%|██████████| 788400/788400 [17:21<00:00, 757.34it/s] \n"
     ]
    }
   ],
   "source": [
    "results_gf = extract_important_results(results_gf)"
   ],
   "metadata": {
    "collapsed": false,
    "pycharm": {
     "name": "#%%\n"
    }
   }
  },
  {
   "cell_type": "code",
   "execution_count": 9,
   "outputs": [
    {
     "name": "stderr",
     "output_type": "stream",
     "text": [
      "100%|██████████| 788400/788400 [09:49<00:00, 1338.38it/s]\n"
     ]
    }
   ],
   "source": [
    "results_gm = extract_important_results(results_gm)"
   ],
   "metadata": {
    "collapsed": false,
    "pycharm": {
     "name": "#%%\n"
    }
   }
  },
  {
   "cell_type": "markdown",
   "source": [
    "## 5. Create a dataframe of results"
   ],
   "metadata": {
    "collapsed": false,
    "pycharm": {
     "name": "#%% md\n"
    }
   }
  },
  {
   "cell_type": "code",
   "execution_count": 10,
   "outputs": [],
   "source": [
    "results_gf = pd.DataFrame.from_dict(results_gf, orient='index')"
   ],
   "metadata": {
    "collapsed": false,
    "pycharm": {
     "name": "#%%\n"
    }
   }
  },
  {
   "cell_type": "code",
   "execution_count": 11,
   "outputs": [],
   "source": [
    "results_gm = pd.DataFrame.from_dict(results_gm, orient='index')"
   ],
   "metadata": {
    "collapsed": false,
    "pycharm": {
     "name": "#%%\n"
    }
   }
  },
  {
   "cell_type": "code",
   "execution_count": 12,
   "outputs": [
    {
     "data": {
      "text/plain": "                                  policy_description  M1_mean_residential  \\\n0  Participation in demand response 0%\\nResidenti...            22.057520   \n1  Participation in demand response 0%\\nResidenti...            22.057520   \n2  Participation in demand response 0%\\nResidenti...            21.009641   \n3  Participation in demand response 0%\\nResidenti...            21.690786   \n4  Participation in demand response 0%\\nResidenti...            21.741164   \n\n   M6_total_residential    M6_total   X3              policy  \\\n0            357.325083  874.575359  0.5  L1 :B L2 :B L3 :B    \n1            357.325083  874.575359  0.5  L1 :B L2 :B L3 :B    \n2            342.446020  944.873648  0.5  L1 :B L2 :B L3 :B    \n3            352.117755  899.902721  0.5  L1 :B L2 :B L3 :B    \n4            352.833080  889.232174  0.5  L1 :B L2 :B L3 :B    \n\n   M2_total_residential     M1_total  M1_total_residential  \\\n0           1143.213988  2859.579029           1080.818469   \n1           1143.213988  2859.579029           1080.818469   \n2           1144.988272  3102.170956           1029.472405   \n3           1144.988272  2946.981065           1062.848532   \n4           1144.988272  2910.158141           1065.317044   \n\n   M2_mean_residential  ...   L2  M3_total_residential  \\\n0            23.330898  ...  0.1                   0.0   \n1            23.330898  ...  0.1                   0.0   \n2            23.367108  ...  0.1                   0.0   \n3            23.367108  ...  0.1                   0.0   \n4            23.367108  ...  0.1                   0.0   \n\n   M2_total_non_residential  M5_mean_residential  step  \\\n0                   1786.56                  0.0     0   \n1                   1786.56                  0.0     1   \n2                   2087.76                  0.0     2   \n3                   1894.40                  0.0     3   \n4                   1854.80                  0.0     4   \n\n   M3_total_non_residential  M5_total_non_residential  \\\n0                       0.0                       0.0   \n1                       0.0                       0.0   \n2                       0.0                       0.0   \n3                       0.0                       0.0   \n4                       0.0                       0.0   \n\n   M1_total_non_residential  M6_total_non_residential            scenario  \n0               1778.760560                517.250276  X1 :N X2 :N X3 :N   \n1               1778.760560                517.250276  X1 :N X2 :N X3 :N   \n2               2072.698551                602.427627  X1 :N X2 :N X3 :N   \n3               1884.132533                547.784966  X1 :N X2 :N X3 :N   \n4               1844.841097                536.399094  X1 :N X2 :N X3 :N   \n\n[5 rows x 34 columns]",
      "text/html": "<div>\n<style scoped>\n    .dataframe tbody tr th:only-of-type {\n        vertical-align: middle;\n    }\n\n    .dataframe tbody tr th {\n        vertical-align: top;\n    }\n\n    .dataframe thead th {\n        text-align: right;\n    }\n</style>\n<table border=\"1\" class=\"dataframe\">\n  <thead>\n    <tr style=\"text-align: right;\">\n      <th></th>\n      <th>policy_description</th>\n      <th>M1_mean_residential</th>\n      <th>M6_total_residential</th>\n      <th>M6_total</th>\n      <th>X3</th>\n      <th>policy</th>\n      <th>M2_total_residential</th>\n      <th>M1_total</th>\n      <th>M1_total_residential</th>\n      <th>M2_mean_residential</th>\n      <th>...</th>\n      <th>L2</th>\n      <th>M3_total_residential</th>\n      <th>M2_total_non_residential</th>\n      <th>M5_mean_residential</th>\n      <th>step</th>\n      <th>M3_total_non_residential</th>\n      <th>M5_total_non_residential</th>\n      <th>M1_total_non_residential</th>\n      <th>M6_total_non_residential</th>\n      <th>scenario</th>\n    </tr>\n  </thead>\n  <tbody>\n    <tr>\n      <th>0</th>\n      <td>Participation in demand response 0%\\nResidenti...</td>\n      <td>22.057520</td>\n      <td>357.325083</td>\n      <td>874.575359</td>\n      <td>0.5</td>\n      <td>L1 :B L2 :B L3 :B</td>\n      <td>1143.213988</td>\n      <td>2859.579029</td>\n      <td>1080.818469</td>\n      <td>23.330898</td>\n      <td>...</td>\n      <td>0.1</td>\n      <td>0.0</td>\n      <td>1786.56</td>\n      <td>0.0</td>\n      <td>0</td>\n      <td>0.0</td>\n      <td>0.0</td>\n      <td>1778.760560</td>\n      <td>517.250276</td>\n      <td>X1 :N X2 :N X3 :N</td>\n    </tr>\n    <tr>\n      <th>1</th>\n      <td>Participation in demand response 0%\\nResidenti...</td>\n      <td>22.057520</td>\n      <td>357.325083</td>\n      <td>874.575359</td>\n      <td>0.5</td>\n      <td>L1 :B L2 :B L3 :B</td>\n      <td>1143.213988</td>\n      <td>2859.579029</td>\n      <td>1080.818469</td>\n      <td>23.330898</td>\n      <td>...</td>\n      <td>0.1</td>\n      <td>0.0</td>\n      <td>1786.56</td>\n      <td>0.0</td>\n      <td>1</td>\n      <td>0.0</td>\n      <td>0.0</td>\n      <td>1778.760560</td>\n      <td>517.250276</td>\n      <td>X1 :N X2 :N X3 :N</td>\n    </tr>\n    <tr>\n      <th>2</th>\n      <td>Participation in demand response 0%\\nResidenti...</td>\n      <td>21.009641</td>\n      <td>342.446020</td>\n      <td>944.873648</td>\n      <td>0.5</td>\n      <td>L1 :B L2 :B L3 :B</td>\n      <td>1144.988272</td>\n      <td>3102.170956</td>\n      <td>1029.472405</td>\n      <td>23.367108</td>\n      <td>...</td>\n      <td>0.1</td>\n      <td>0.0</td>\n      <td>2087.76</td>\n      <td>0.0</td>\n      <td>2</td>\n      <td>0.0</td>\n      <td>0.0</td>\n      <td>2072.698551</td>\n      <td>602.427627</td>\n      <td>X1 :N X2 :N X3 :N</td>\n    </tr>\n    <tr>\n      <th>3</th>\n      <td>Participation in demand response 0%\\nResidenti...</td>\n      <td>21.690786</td>\n      <td>352.117755</td>\n      <td>899.902721</td>\n      <td>0.5</td>\n      <td>L1 :B L2 :B L3 :B</td>\n      <td>1144.988272</td>\n      <td>2946.981065</td>\n      <td>1062.848532</td>\n      <td>23.367108</td>\n      <td>...</td>\n      <td>0.1</td>\n      <td>0.0</td>\n      <td>1894.40</td>\n      <td>0.0</td>\n      <td>3</td>\n      <td>0.0</td>\n      <td>0.0</td>\n      <td>1884.132533</td>\n      <td>547.784966</td>\n      <td>X1 :N X2 :N X3 :N</td>\n    </tr>\n    <tr>\n      <th>4</th>\n      <td>Participation in demand response 0%\\nResidenti...</td>\n      <td>21.741164</td>\n      <td>352.833080</td>\n      <td>889.232174</td>\n      <td>0.5</td>\n      <td>L1 :B L2 :B L3 :B</td>\n      <td>1144.988272</td>\n      <td>2910.158141</td>\n      <td>1065.317044</td>\n      <td>23.367108</td>\n      <td>...</td>\n      <td>0.1</td>\n      <td>0.0</td>\n      <td>1854.80</td>\n      <td>0.0</td>\n      <td>4</td>\n      <td>0.0</td>\n      <td>0.0</td>\n      <td>1844.841097</td>\n      <td>536.399094</td>\n      <td>X1 :N X2 :N X3 :N</td>\n    </tr>\n  </tbody>\n</table>\n<p>5 rows × 34 columns</p>\n</div>"
     },
     "execution_count": 12,
     "metadata": {},
     "output_type": "execute_result"
    }
   ],
   "source": [
    "results_gf.head()"
   ],
   "metadata": {
    "collapsed": false,
    "pycharm": {
     "name": "#%%\n"
    }
   }
  },
  {
   "cell_type": "code",
   "execution_count": 13,
   "outputs": [
    {
     "data": {
      "text/plain": "                                  policy_description  M1_mean_residential  \\\n0  Participation in demand response 0%\\nResidenti...            19.915123   \n1  Participation in demand response 0%\\nResidenti...            19.915123   \n2  Participation in demand response 0%\\nResidenti...            18.646710   \n3  Participation in demand response 0%\\nResidenti...            19.450981   \n4  Participation in demand response 0%\\nResidenti...            19.512694   \n\n   M6_total_residential     M6_total   X3              policy  \\\n0            153.445073   891.274007  0.5  L1 :B L2 :B L3 :B    \n1            153.445073   891.274007  0.5  L1 :B L2 :B L3 :B    \n2            144.991179   876.703043  0.5  L1 :B L2 :B L3 :B    \n3            150.351595  1021.851963  0.5  L1 :B L2 :B L3 :B    \n4            150.762907  1022.531522  0.5  L1 :B L2 :B L3 :B    \n\n   M2_total_residential     M1_total  M1_total_residential  \\\n0            493.925254  3001.109511            458.047831   \n1            493.925254  3001.109511            458.047831   \n2            494.602918  2950.826661            428.874341   \n3            494.602918  3451.720165            447.372567   \n4            494.602918  3454.065251            448.791962   \n\n   M2_mean_residential  ...   L2  M3_total_residential  \\\n0            21.475011  ...  0.1                   0.0   \n1            21.475011  ...  0.1                   0.0   \n2            21.504475  ...  0.1                   0.0   \n3            21.504475  ...  0.1                   0.0   \n4            21.504475  ...  0.1                   0.0   \n\n   M2_total_non_residential  M5_mean_residential  step  \\\n0               2566.460000                  0.0     0   \n1               2566.460000                  0.0     1   \n2               2567.136667                  0.0     2   \n3               3035.150000                  0.0     3   \n4               3035.150000                  0.0     4   \n\n   M3_total_non_residential  M5_total_non_residential  \\\n0                       0.0                       0.0   \n1                       0.0                       0.0   \n2                       0.0                       0.0   \n3                       0.0                       0.0   \n4                       0.0                       0.0   \n\n   M1_total_non_residential  M6_total_non_residential            scenario  \n0               2543.061680                737.828934  X1 :N X2 :N X3 :N   \n1               2543.061680                737.828934  X1 :N X2 :N X3 :N   \n2               2521.952320                731.711864  X1 :N X2 :N X3 :N   \n3               3004.347598                871.500367  X1 :N X2 :N X3 :N   \n4               3005.273290                871.768614  X1 :N X2 :N X3 :N   \n\n[5 rows x 34 columns]",
      "text/html": "<div>\n<style scoped>\n    .dataframe tbody tr th:only-of-type {\n        vertical-align: middle;\n    }\n\n    .dataframe tbody tr th {\n        vertical-align: top;\n    }\n\n    .dataframe thead th {\n        text-align: right;\n    }\n</style>\n<table border=\"1\" class=\"dataframe\">\n  <thead>\n    <tr style=\"text-align: right;\">\n      <th></th>\n      <th>policy_description</th>\n      <th>M1_mean_residential</th>\n      <th>M6_total_residential</th>\n      <th>M6_total</th>\n      <th>X3</th>\n      <th>policy</th>\n      <th>M2_total_residential</th>\n      <th>M1_total</th>\n      <th>M1_total_residential</th>\n      <th>M2_mean_residential</th>\n      <th>...</th>\n      <th>L2</th>\n      <th>M3_total_residential</th>\n      <th>M2_total_non_residential</th>\n      <th>M5_mean_residential</th>\n      <th>step</th>\n      <th>M3_total_non_residential</th>\n      <th>M5_total_non_residential</th>\n      <th>M1_total_non_residential</th>\n      <th>M6_total_non_residential</th>\n      <th>scenario</th>\n    </tr>\n  </thead>\n  <tbody>\n    <tr>\n      <th>0</th>\n      <td>Participation in demand response 0%\\nResidenti...</td>\n      <td>19.915123</td>\n      <td>153.445073</td>\n      <td>891.274007</td>\n      <td>0.5</td>\n      <td>L1 :B L2 :B L3 :B</td>\n      <td>493.925254</td>\n      <td>3001.109511</td>\n      <td>458.047831</td>\n      <td>21.475011</td>\n      <td>...</td>\n      <td>0.1</td>\n      <td>0.0</td>\n      <td>2566.460000</td>\n      <td>0.0</td>\n      <td>0</td>\n      <td>0.0</td>\n      <td>0.0</td>\n      <td>2543.061680</td>\n      <td>737.828934</td>\n      <td>X1 :N X2 :N X3 :N</td>\n    </tr>\n    <tr>\n      <th>1</th>\n      <td>Participation in demand response 0%\\nResidenti...</td>\n      <td>19.915123</td>\n      <td>153.445073</td>\n      <td>891.274007</td>\n      <td>0.5</td>\n      <td>L1 :B L2 :B L3 :B</td>\n      <td>493.925254</td>\n      <td>3001.109511</td>\n      <td>458.047831</td>\n      <td>21.475011</td>\n      <td>...</td>\n      <td>0.1</td>\n      <td>0.0</td>\n      <td>2566.460000</td>\n      <td>0.0</td>\n      <td>1</td>\n      <td>0.0</td>\n      <td>0.0</td>\n      <td>2543.061680</td>\n      <td>737.828934</td>\n      <td>X1 :N X2 :N X3 :N</td>\n    </tr>\n    <tr>\n      <th>2</th>\n      <td>Participation in demand response 0%\\nResidenti...</td>\n      <td>18.646710</td>\n      <td>144.991179</td>\n      <td>876.703043</td>\n      <td>0.5</td>\n      <td>L1 :B L2 :B L3 :B</td>\n      <td>494.602918</td>\n      <td>2950.826661</td>\n      <td>428.874341</td>\n      <td>21.504475</td>\n      <td>...</td>\n      <td>0.1</td>\n      <td>0.0</td>\n      <td>2567.136667</td>\n      <td>0.0</td>\n      <td>2</td>\n      <td>0.0</td>\n      <td>0.0</td>\n      <td>2521.952320</td>\n      <td>731.711864</td>\n      <td>X1 :N X2 :N X3 :N</td>\n    </tr>\n    <tr>\n      <th>3</th>\n      <td>Participation in demand response 0%\\nResidenti...</td>\n      <td>19.450981</td>\n      <td>150.351595</td>\n      <td>1021.851963</td>\n      <td>0.5</td>\n      <td>L1 :B L2 :B L3 :B</td>\n      <td>494.602918</td>\n      <td>3451.720165</td>\n      <td>447.372567</td>\n      <td>21.504475</td>\n      <td>...</td>\n      <td>0.1</td>\n      <td>0.0</td>\n      <td>3035.150000</td>\n      <td>0.0</td>\n      <td>3</td>\n      <td>0.0</td>\n      <td>0.0</td>\n      <td>3004.347598</td>\n      <td>871.500367</td>\n      <td>X1 :N X2 :N X3 :N</td>\n    </tr>\n    <tr>\n      <th>4</th>\n      <td>Participation in demand response 0%\\nResidenti...</td>\n      <td>19.512694</td>\n      <td>150.762907</td>\n      <td>1022.531522</td>\n      <td>0.5</td>\n      <td>L1 :B L2 :B L3 :B</td>\n      <td>494.602918</td>\n      <td>3454.065251</td>\n      <td>448.791962</td>\n      <td>21.504475</td>\n      <td>...</td>\n      <td>0.1</td>\n      <td>0.0</td>\n      <td>3035.150000</td>\n      <td>0.0</td>\n      <td>4</td>\n      <td>0.0</td>\n      <td>0.0</td>\n      <td>3005.273290</td>\n      <td>871.768614</td>\n      <td>X1 :N X2 :N X3 :N</td>\n    </tr>\n  </tbody>\n</table>\n<p>5 rows × 34 columns</p>\n</div>"
     },
     "execution_count": 13,
     "metadata": {},
     "output_type": "execute_result"
    }
   ],
   "source": [
    "results_gm.head()"
   ],
   "metadata": {
    "collapsed": false,
    "pycharm": {
     "name": "#%%\n"
    }
   }
  },
  {
   "cell_type": "markdown",
   "source": [
    "## 6. Export prepared result files"
   ],
   "metadata": {
    "collapsed": false,
    "pycharm": {
     "name": "#%% md\n"
    }
   }
  },
  {
   "cell_type": "code",
   "execution_count": 15,
   "outputs": [],
   "source": [
    "results_gf = check_data_sanity(results_gf)\n",
    "results_gm = check_data_sanity(results_gm)"
   ],
   "metadata": {
    "collapsed": false,
    "pycharm": {
     "name": "#%%\n"
    }
   }
  },
  {
   "cell_type": "code",
   "execution_count": 16,
   "outputs": [],
   "source": [
    "results_gf.to_csv('data/prepared/results_gridflex.csv.gz', index=False, compression='gzip')"
   ],
   "metadata": {
    "collapsed": false,
    "pycharm": {
     "name": "#%%\n"
    }
   }
  },
  {
   "cell_type": "code",
   "execution_count": 17,
   "outputs": [],
   "source": [
    "results_gm.to_csv('data/prepared/results_groenemient.csv.gz', index=False, compression='gzip')"
   ],
   "metadata": {
    "collapsed": false,
    "pycharm": {
     "name": "#%%\n"
    }
   }
  },
  {
   "cell_type": "code",
   "execution_count": null,
   "outputs": [],
   "source": [],
   "metadata": {
    "collapsed": false,
    "pycharm": {
     "name": "#%%\n"
    }
   }
  }
 ],
 "metadata": {
  "kernelspec": {
   "display_name": "Python 3",
   "language": "python",
   "name": "python3"
  },
  "language_info": {
   "codemirror_mode": {
    "name": "ipython",
    "version": 2
   },
   "file_extension": ".py",
   "mimetype": "text/x-python",
   "name": "python",
   "nbconvert_exporter": "python",
   "pygments_lexer": "ipython2",
   "version": "2.7.6"
  }
 },
 "nbformat": 4,
 "nbformat_minor": 0
}