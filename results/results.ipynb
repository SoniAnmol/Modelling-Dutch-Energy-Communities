{
 "cells": [
  {
   "cell_type": "markdown",
   "metadata": {
    "collapsed": true,
    "pycharm": {
     "name": "#%% md\n"
    }
   },
   "source": [
    "# Results"
   ]
  },
  {
   "cell_type": "markdown",
   "source": [
    "This notebook highlights the key insights of experiment outcomes."
   ],
   "metadata": {
    "collapsed": false,
    "pycharm": {
     "name": "#%% md\n"
    }
   }
  },
  {
   "cell_type": "code",
   "execution_count": 1,
   "outputs": [],
   "source": [
    "import pandas as pd\n",
    "\n",
    "from experiments.experiment import *\n",
    "from results import *\n",
    "import matplotlib.pyplot as plt\n",
    "from matplotlib.ticker import MaxNLocator\n",
    "import numpy as np\n",
    "import ast\n",
    "from tqdm import tqdm\n",
    "import re\n",
    "\n",
    "import warnings\n",
    "\n",
    "warnings.filterwarnings(\"ignore\")"
   ],
   "metadata": {
    "collapsed": false,
    "pycharm": {
     "name": "#%%\n"
    }
   }
  },
  {
   "cell_type": "markdown",
   "source": [
    "## Read results"
   ],
   "metadata": {
    "collapsed": false,
    "pycharm": {
     "name": "#%% md\n"
    }
   }
  },
  {
   "cell_type": "code",
   "execution_count": 2,
   "outputs": [],
   "source": [
    "results_gf = load_results_from_csv(ec_name='Gridflex')"
   ],
   "metadata": {
    "collapsed": false,
    "pycharm": {
     "name": "#%%\n"
    }
   }
  },
  {
   "cell_type": "code",
   "execution_count": 3,
   "outputs": [],
   "source": [
    "results_gm = load_results_from_csv(ec_name='GroeneMient')"
   ],
   "metadata": {
    "collapsed": false,
    "pycharm": {
     "name": "#%%\n"
    }
   }
  },
  {
   "cell_type": "markdown",
   "source": [
    "## Prepare results"
   ],
   "metadata": {
    "collapsed": false,
    "pycharm": {
     "name": "#%% md\n"
    }
   },
   "execution_count": 30
  },
  {
   "cell_type": "code",
   "execution_count": 4,
   "outputs": [],
   "source": [
    "number_of_steps = 365\n",
    "number_of_simulation_runs = 10"
   ],
   "metadata": {
    "collapsed": false,
    "pycharm": {
     "name": "#%%\n"
    }
   }
  },
  {
   "cell_type": "code",
   "execution_count": 5,
   "outputs": [
    {
     "name": "stdout",
     "output_type": "stream",
     "text": [
      "setting up the experiments...\n",
      "\n"
     ]
    }
   ],
   "source": [
    "same_levers, unique_levers = get_unique_levers_dict()"
   ],
   "metadata": {
    "collapsed": false,
    "pycharm": {
     "name": "#%%\n"
    }
   }
  },
  {
   "cell_type": "markdown",
   "source": [
    "### Extracting model performance matrices"
   ],
   "metadata": {
    "collapsed": false,
    "pycharm": {
     "name": "#%% md\n"
    }
   }
  },
  {
   "cell_type": "code",
   "execution_count": 6,
   "outputs": [
    {
     "name": "stdout",
     "output_type": "stream",
     "text": [
      "['M1: realised_demand', 'M2: scheduled_demand', 'M3: shifted_load', 'M4: total_generation', 'M5: savings_on_ToD', 'M6: energy_costs']\n"
     ]
    }
   ],
   "source": [
    "# Results to be printed\n",
    "for experiment, runs in results_gf.items():\n",
    "    column_names = list(runs.columns)[1:]\n",
    "    break\n",
    "\n",
    "column_names = column_names[1:]\n",
    "print(column_names)"
   ],
   "metadata": {
    "collapsed": false,
    "pycharm": {
     "name": "#%%\n"
    }
   }
  },
  {
   "cell_type": "markdown",
   "source": [
    "### Separate results for each experiment setup"
   ],
   "metadata": {
    "collapsed": false,
    "pycharm": {
     "name": "#%% md\n"
    }
   }
  },
  {
   "cell_type": "code",
   "execution_count": 10,
   "outputs": [],
   "source": [
    "results_gm = separate_experiment_setups(results=results_gm, number_of_steps=number_of_steps)"
   ],
   "metadata": {
    "collapsed": false,
    "pycharm": {
     "name": "#%%\n"
    }
   }
  },
  {
   "cell_type": "code",
   "execution_count": 11,
   "outputs": [],
   "source": [
    "results_gf = separate_experiment_setups(results=results_gf, number_of_steps=number_of_steps)"
   ],
   "metadata": {
    "collapsed": false,
    "pycharm": {
     "name": "#%%\n"
    }
   }
  },
  {
   "cell_type": "code",
   "execution_count": 12,
   "outputs": [
    {
     "data": {
      "text/plain": "{0: [0, 27, 54, 81, 108, 135, 162, 189],\n 1: [1, 28, 55, 82, 109, 136, 163, 190],\n 2: [2, 29, 56, 83, 110, 137, 164, 191],\n 3: [3, 30, 57, 84, 111, 138, 165, 192],\n 4: [4, 31, 58, 85, 112, 139, 166, 193],\n 5: [5, 32, 59, 86, 113, 140, 167, 194],\n 6: [6, 33, 60, 87, 114, 141, 168, 195],\n 7: [7, 34, 61, 88, 115, 142, 169, 196],\n 8: [8, 35, 62, 89, 116, 143, 170, 197],\n 9: [9, 36, 63, 90, 117, 144, 171, 198],\n 10: [10, 37, 64, 91, 118, 145, 172, 199],\n 11: [11, 38, 65, 92, 119, 146, 173, 200],\n 12: [12, 39, 66, 93, 120, 147, 174, 201],\n 13: [13, 40, 67, 94, 121, 148, 175, 202],\n 14: [14, 41, 68, 95, 122, 149, 176, 203],\n 15: [15, 42, 69, 96, 123, 150, 177, 204],\n 16: [16, 43, 70, 97, 124, 151, 178, 205],\n 17: [17, 44, 71, 98, 125, 152, 179, 206],\n 18: [18, 45, 72, 99, 126, 153, 180, 207],\n 19: [19, 46, 73, 100, 127, 154, 181, 208],\n 20: [20, 47, 74, 101, 128, 155, 182, 209],\n 21: [21, 48, 75, 102, 129, 156, 183, 210],\n 22: [22, 49, 76, 103, 130, 157, 184, 211],\n 23: [23, 50, 77, 104, 131, 158, 185, 212],\n 24: [24, 51, 78, 105, 132, 159, 186, 213],\n 25: [25, 52, 79, 106, 133, 160, 187, 214],\n 26: [26, 53, 80, 107, 134, 161, 188, 215]}"
     },
     "execution_count": 12,
     "metadata": {},
     "output_type": "execute_result"
    }
   ],
   "source": [
    "same_levers"
   ],
   "metadata": {
    "collapsed": false,
    "pycharm": {
     "name": "#%%\n"
    }
   }
  },
  {
   "cell_type": "code",
   "execution_count": 13,
   "outputs": [
    {
     "data": {
      "text/plain": "      L1   L2    L3 lever information\n0   0.00  0.1  0.10    L1:B L2:V L3:V\n1   0.00  0.1  0.45    L1:B L2:V L3:O\n2   0.00  0.1  0.90    L1:B L2:V L3:V\n3   0.00  0.5  0.10    L1:B L2:B L3:V\n4   0.00  0.5  0.45    L1:B L2:B L3:O\n5   0.00  0.5  0.90    L1:B L2:B L3:V\n6   0.00  1.0  0.10    L1:B L2:V L3:V\n7   0.00  1.0  0.45    L1:B L2:V L3:O\n8   0.00  1.0  0.90    L1:B L2:V L3:V\n9   0.50  0.1  0.10    L1:B L2:V L3:V\n10  0.50  0.1  0.45    L1:B L2:V L3:O\n11  0.50  0.1  0.90    L1:B L2:V L3:V\n12  0.50  0.5  0.10    L1:B L2:B L3:V\n13  0.50  0.5  0.45    L1:B L2:B L3:O\n14  0.50  0.5  0.90    L1:B L2:B L3:V\n15  0.50  1.0  0.10    L1:B L2:V L3:V\n16  0.50  1.0  0.45    L1:B L2:V L3:O\n17  0.50  1.0  0.90    L1:B L2:V L3:V\n18  0.75  0.1  0.10    L1:V L2:V L3:V\n19  0.75  0.1  0.45    L1:V L2:V L3:O\n20  0.75  0.1  0.90    L1:V L2:V L3:V\n21  0.75  0.5  0.10    L1:V L2:B L3:V\n22  0.75  0.5  0.45    L1:V L2:B L3:O\n23  0.75  0.5  0.90    L1:V L2:B L3:V\n24  0.75  1.0  0.10    L1:V L2:V L3:V\n25  0.75  1.0  0.45    L1:V L2:V L3:O\n26  0.75  1.0  0.90    L1:V L2:V L3:V",
      "text/html": "<div>\n<style scoped>\n    .dataframe tbody tr th:only-of-type {\n        vertical-align: middle;\n    }\n\n    .dataframe tbody tr th {\n        vertical-align: top;\n    }\n\n    .dataframe thead th {\n        text-align: right;\n    }\n</style>\n<table border=\"1\" class=\"dataframe\">\n  <thead>\n    <tr style=\"text-align: right;\">\n      <th></th>\n      <th>L1</th>\n      <th>L2</th>\n      <th>L3</th>\n      <th>lever information</th>\n    </tr>\n  </thead>\n  <tbody>\n    <tr>\n      <th>0</th>\n      <td>0.00</td>\n      <td>0.1</td>\n      <td>0.10</td>\n      <td>L1:B L2:V L3:V</td>\n    </tr>\n    <tr>\n      <th>1</th>\n      <td>0.00</td>\n      <td>0.1</td>\n      <td>0.45</td>\n      <td>L1:B L2:V L3:O</td>\n    </tr>\n    <tr>\n      <th>2</th>\n      <td>0.00</td>\n      <td>0.1</td>\n      <td>0.90</td>\n      <td>L1:B L2:V L3:V</td>\n    </tr>\n    <tr>\n      <th>3</th>\n      <td>0.00</td>\n      <td>0.5</td>\n      <td>0.10</td>\n      <td>L1:B L2:B L3:V</td>\n    </tr>\n    <tr>\n      <th>4</th>\n      <td>0.00</td>\n      <td>0.5</td>\n      <td>0.45</td>\n      <td>L1:B L2:B L3:O</td>\n    </tr>\n    <tr>\n      <th>5</th>\n      <td>0.00</td>\n      <td>0.5</td>\n      <td>0.90</td>\n      <td>L1:B L2:B L3:V</td>\n    </tr>\n    <tr>\n      <th>6</th>\n      <td>0.00</td>\n      <td>1.0</td>\n      <td>0.10</td>\n      <td>L1:B L2:V L3:V</td>\n    </tr>\n    <tr>\n      <th>7</th>\n      <td>0.00</td>\n      <td>1.0</td>\n      <td>0.45</td>\n      <td>L1:B L2:V L3:O</td>\n    </tr>\n    <tr>\n      <th>8</th>\n      <td>0.00</td>\n      <td>1.0</td>\n      <td>0.90</td>\n      <td>L1:B L2:V L3:V</td>\n    </tr>\n    <tr>\n      <th>9</th>\n      <td>0.50</td>\n      <td>0.1</td>\n      <td>0.10</td>\n      <td>L1:B L2:V L3:V</td>\n    </tr>\n    <tr>\n      <th>10</th>\n      <td>0.50</td>\n      <td>0.1</td>\n      <td>0.45</td>\n      <td>L1:B L2:V L3:O</td>\n    </tr>\n    <tr>\n      <th>11</th>\n      <td>0.50</td>\n      <td>0.1</td>\n      <td>0.90</td>\n      <td>L1:B L2:V L3:V</td>\n    </tr>\n    <tr>\n      <th>12</th>\n      <td>0.50</td>\n      <td>0.5</td>\n      <td>0.10</td>\n      <td>L1:B L2:B L3:V</td>\n    </tr>\n    <tr>\n      <th>13</th>\n      <td>0.50</td>\n      <td>0.5</td>\n      <td>0.45</td>\n      <td>L1:B L2:B L3:O</td>\n    </tr>\n    <tr>\n      <th>14</th>\n      <td>0.50</td>\n      <td>0.5</td>\n      <td>0.90</td>\n      <td>L1:B L2:B L3:V</td>\n    </tr>\n    <tr>\n      <th>15</th>\n      <td>0.50</td>\n      <td>1.0</td>\n      <td>0.10</td>\n      <td>L1:B L2:V L3:V</td>\n    </tr>\n    <tr>\n      <th>16</th>\n      <td>0.50</td>\n      <td>1.0</td>\n      <td>0.45</td>\n      <td>L1:B L2:V L3:O</td>\n    </tr>\n    <tr>\n      <th>17</th>\n      <td>0.50</td>\n      <td>1.0</td>\n      <td>0.90</td>\n      <td>L1:B L2:V L3:V</td>\n    </tr>\n    <tr>\n      <th>18</th>\n      <td>0.75</td>\n      <td>0.1</td>\n      <td>0.10</td>\n      <td>L1:V L2:V L3:V</td>\n    </tr>\n    <tr>\n      <th>19</th>\n      <td>0.75</td>\n      <td>0.1</td>\n      <td>0.45</td>\n      <td>L1:V L2:V L3:O</td>\n    </tr>\n    <tr>\n      <th>20</th>\n      <td>0.75</td>\n      <td>0.1</td>\n      <td>0.90</td>\n      <td>L1:V L2:V L3:V</td>\n    </tr>\n    <tr>\n      <th>21</th>\n      <td>0.75</td>\n      <td>0.5</td>\n      <td>0.10</td>\n      <td>L1:V L2:B L3:V</td>\n    </tr>\n    <tr>\n      <th>22</th>\n      <td>0.75</td>\n      <td>0.5</td>\n      <td>0.45</td>\n      <td>L1:V L2:B L3:O</td>\n    </tr>\n    <tr>\n      <th>23</th>\n      <td>0.75</td>\n      <td>0.5</td>\n      <td>0.90</td>\n      <td>L1:V L2:B L3:V</td>\n    </tr>\n    <tr>\n      <th>24</th>\n      <td>0.75</td>\n      <td>1.0</td>\n      <td>0.10</td>\n      <td>L1:V L2:V L3:V</td>\n    </tr>\n    <tr>\n      <th>25</th>\n      <td>0.75</td>\n      <td>1.0</td>\n      <td>0.45</td>\n      <td>L1:V L2:V L3:O</td>\n    </tr>\n    <tr>\n      <th>26</th>\n      <td>0.75</td>\n      <td>1.0</td>\n      <td>0.90</td>\n      <td>L1:V L2:V L3:V</td>\n    </tr>\n  </tbody>\n</table>\n</div>"
     },
     "execution_count": 13,
     "metadata": {},
     "output_type": "execute_result"
    }
   ],
   "source": [
    "unique_levers"
   ],
   "metadata": {
    "collapsed": false,
    "pycharm": {
     "name": "#%%\n"
    }
   }
  },
  {
   "cell_type": "code",
   "execution_count": 15,
   "outputs": [
    {
     "name": "stdout",
     "output_type": "stream",
     "text": [
      "setting up the experiments...\n",
      "\n"
     ]
    }
   ],
   "source": [
    "experiment_test = Experiment()\n",
    "experimental_conditions = experiment_test.prepare_experiment_setup()"
   ],
   "metadata": {
    "collapsed": false,
    "pycharm": {
     "name": "#%%\n"
    }
   }
  },
  {
   "cell_type": "code",
   "execution_count": 52,
   "outputs": [
    {
     "data": {
      "text/plain": "      X1   X2   X3    L1   L2    L3\n0    0.4  0.5  0.5  0.00  0.1  0.10\n1    0.4  0.5  0.5  0.00  0.1  0.45\n2    0.4  0.5  0.5  0.00  0.1  0.90\n3    0.4  0.5  0.5  0.00  0.5  0.10\n4    0.4  0.5  0.5  0.00  0.5  0.45\n..   ...  ...  ...   ...  ...   ...\n211  0.8  1.0  0.9  0.75  0.5  0.45\n212  0.8  1.0  0.9  0.75  0.5  0.90\n213  0.8  1.0  0.9  0.75  1.0  0.10\n214  0.8  1.0  0.9  0.75  1.0  0.45\n215  0.8  1.0  0.9  0.75  1.0  0.90\n\n[216 rows x 6 columns]",
      "text/html": "<div>\n<style scoped>\n    .dataframe tbody tr th:only-of-type {\n        vertical-align: middle;\n    }\n\n    .dataframe tbody tr th {\n        vertical-align: top;\n    }\n\n    .dataframe thead th {\n        text-align: right;\n    }\n</style>\n<table border=\"1\" class=\"dataframe\">\n  <thead>\n    <tr style=\"text-align: right;\">\n      <th></th>\n      <th>X1</th>\n      <th>X2</th>\n      <th>X3</th>\n      <th>L1</th>\n      <th>L2</th>\n      <th>L3</th>\n    </tr>\n  </thead>\n  <tbody>\n    <tr>\n      <th>0</th>\n      <td>0.4</td>\n      <td>0.5</td>\n      <td>0.5</td>\n      <td>0.00</td>\n      <td>0.1</td>\n      <td>0.10</td>\n    </tr>\n    <tr>\n      <th>1</th>\n      <td>0.4</td>\n      <td>0.5</td>\n      <td>0.5</td>\n      <td>0.00</td>\n      <td>0.1</td>\n      <td>0.45</td>\n    </tr>\n    <tr>\n      <th>2</th>\n      <td>0.4</td>\n      <td>0.5</td>\n      <td>0.5</td>\n      <td>0.00</td>\n      <td>0.1</td>\n      <td>0.90</td>\n    </tr>\n    <tr>\n      <th>3</th>\n      <td>0.4</td>\n      <td>0.5</td>\n      <td>0.5</td>\n      <td>0.00</td>\n      <td>0.5</td>\n      <td>0.10</td>\n    </tr>\n    <tr>\n      <th>4</th>\n      <td>0.4</td>\n      <td>0.5</td>\n      <td>0.5</td>\n      <td>0.00</td>\n      <td>0.5</td>\n      <td>0.45</td>\n    </tr>\n    <tr>\n      <th>...</th>\n      <td>...</td>\n      <td>...</td>\n      <td>...</td>\n      <td>...</td>\n      <td>...</td>\n      <td>...</td>\n    </tr>\n    <tr>\n      <th>211</th>\n      <td>0.8</td>\n      <td>1.0</td>\n      <td>0.9</td>\n      <td>0.75</td>\n      <td>0.5</td>\n      <td>0.45</td>\n    </tr>\n    <tr>\n      <th>212</th>\n      <td>0.8</td>\n      <td>1.0</td>\n      <td>0.9</td>\n      <td>0.75</td>\n      <td>0.5</td>\n      <td>0.90</td>\n    </tr>\n    <tr>\n      <th>213</th>\n      <td>0.8</td>\n      <td>1.0</td>\n      <td>0.9</td>\n      <td>0.75</td>\n      <td>1.0</td>\n      <td>0.10</td>\n    </tr>\n    <tr>\n      <th>214</th>\n      <td>0.8</td>\n      <td>1.0</td>\n      <td>0.9</td>\n      <td>0.75</td>\n      <td>1.0</td>\n      <td>0.45</td>\n    </tr>\n    <tr>\n      <th>215</th>\n      <td>0.8</td>\n      <td>1.0</td>\n      <td>0.9</td>\n      <td>0.75</td>\n      <td>1.0</td>\n      <td>0.90</td>\n    </tr>\n  </tbody>\n</table>\n<p>216 rows × 6 columns</p>\n</div>"
     },
     "execution_count": 52,
     "metadata": {},
     "output_type": "execute_result"
    }
   ],
   "source": [
    "experimental_conditions"
   ],
   "metadata": {
    "collapsed": false,
    "pycharm": {
     "name": "#%%\n"
    }
   }
  },
  {
   "cell_type": "markdown",
   "source": [
    "## Plotting important uncertainty scenarios"
   ],
   "metadata": {
    "collapsed": false
   }
  },
  {
   "cell_type": "markdown",
   "source": [
    "Three important uncertainty scenarios are plotted in the following section\n",
    "\n",
    "| Uncertainty Scenarios                                 | X1  | X2  | X3  |\n",
    "|-------------------------------------------------------|-----|-----|-----|\n",
    "| 'low availability of overall flexible demand'         | 0.4 | 0.5 | 0.5 |\n",
    "| 'higher availability of overall flexible load'        | 0.8 | 1.0 | 0.9 |\n",
    "| 'low availability of non-residential flexible demand' | 0.8 | 0.5 | 0.9 |"
   ],
   "metadata": {
    "collapsed": false
   }
  },
  {
   "cell_type": "code",
   "execution_count": 60,
   "outputs": [],
   "source": [
    "uncertainty_scenarios = {'low availability of overall flexible demand': experimental_conditions.loc[\n",
    "    (experimental_conditions['X1'] == 0.4) & (experimental_conditions['X2'] == 0.5) & (\n",
    "            experimental_conditions['X3'] == 0.5)].index.to_list(),\n",
    "                         'higher availability of overall flexible load': experimental_conditions.loc[\n",
    "                             (experimental_conditions['X1'] == 0.8) & (experimental_conditions['X2'] == 1) & (\n",
    "                                     experimental_conditions['X3'] == 0.9)].index.to_list(),\n",
    "                         'low availability of non-residential flexible demand': experimental_conditions.loc[\n",
    "                             (experimental_conditions['X1'] == 0.8) & (experimental_conditions['X2'] == 0.5) & (\n",
    "                                     experimental_conditions['X3'] == 0.9)].index.to_list()\n",
    "                         }\n"
   ],
   "metadata": {
    "collapsed": false,
    "pycharm": {
     "name": "#%%\n"
    }
   }
  },
  {
   "cell_type": "code",
   "execution_count": 72,
   "outputs": [
    {
     "data": {
      "text/plain": "[[<AxesSubplot:>, <AxesSubplot:>],\n [<AxesSubplot:>, <AxesSubplot:>],\n [<AxesSubplot:>, <AxesSubplot:>]]"
     },
     "execution_count": 72,
     "metadata": {},
     "output_type": "execute_result"
    }
   ],
   "source": [
    "axs_index"
   ],
   "metadata": {
    "collapsed": false,
    "pycharm": {
     "name": "#%%\n"
    }
   }
  },
  {
   "cell_type": "code",
   "execution_count": 71,
   "outputs": [
    {
     "data": {
      "text/plain": "Text(0.5, 0.93, 'Shifted load through demand response under selected uncertainty scenarios')"
     },
     "execution_count": 71,
     "metadata": {},
     "output_type": "execute_result"
    },
    {
     "data": {
      "text/plain": "<Figure size 1152x720 with 6 Axes>",
      "image/png": "[encoded data removed]"
     },
     "metadata": {
      "needs_background": "light"
     },
     "output_type": "display_data"
    }
   ],
   "source": [],
   "metadata": {
    "collapsed": false,
    "pycharm": {
     "name": "#%%\n"
    }
   }
  },
  {
   "cell_type": "code",
   "execution_count": 78,
   "outputs": [
    {
     "name": "stderr",
     "output_type": "stream",
     "text": [
      "  0%|          | 0/3 [00:07<?, ?it/s]\n"
     ]
    },
    {
     "ename": "ValueError",
     "evalue": "Length of values (365) does not match length of index (364)",
     "output_type": "error",
     "traceback": [
      "\u001B[1;31m---------------------------------------------------------------------------\u001B[0m",
      "\u001B[1;31mValueError\u001B[0m                                Traceback (most recent call last)",
      "Input \u001B[1;32mIn [78]\u001B[0m, in \u001B[0;36m<cell line: 6>\u001B[1;34m()\u001B[0m\n\u001B[0;32m     14\u001B[0m \u001B[38;5;28;01mfor\u001B[39;00m result \u001B[38;5;129;01min\u001B[39;00m results:\n\u001B[0;32m     15\u001B[0m     shifted_load \u001B[38;5;241m=\u001B[39m extract_df_from_json(result, \u001B[38;5;124m'\u001B[39m\u001B[38;5;124mM3: shifted_load\u001B[39m\u001B[38;5;124m'\u001B[39m)\n\u001B[1;32m---> 16\u001B[0m     shifted_load[\u001B[38;5;124m'\u001B[39m\u001B[38;5;124mdate\u001B[39m\u001B[38;5;124m'\u001B[39m] \u001B[38;5;241m=\u001B[39m pd\u001B[38;5;241m.\u001B[39mdate_range(start\u001B[38;5;241m=\u001B[39m\u001B[38;5;124m'\u001B[39m\u001B[38;5;124m1/1/2021\u001B[39m\u001B[38;5;124m'\u001B[39m, end\u001B[38;5;241m=\u001B[39m\u001B[38;5;124m'\u001B[39m\u001B[38;5;124m31/12/2021\u001B[39m\u001B[38;5;124m'\u001B[39m)\n\u001B[0;32m     17\u001B[0m     shifted_load\u001B[38;5;241m.\u001B[39mset_index(\u001B[38;5;124m'\u001B[39m\u001B[38;5;124mdate\u001B[39m\u001B[38;5;124m'\u001B[39m, inplace\u001B[38;5;241m=\u001B[39m\u001B[38;5;28;01mTrue\u001B[39;00m, drop\u001B[38;5;241m=\u001B[39m\u001B[38;5;28;01mTrue\u001B[39;00m)\n\u001B[0;32m     19\u001B[0m     residential \u001B[38;5;241m=\u001B[39m shifted_load\u001B[38;5;241m.\u001B[39mcolumns\u001B[38;5;241m.\u001B[39mto_list()[:\u001B[38;5;241m-\u001B[39m\u001B[38;5;241m2\u001B[39m]\n",
      "File \u001B[1;32m~\\PycharmProjects\\Modelling-Dutch-Energy-Communities\\venv\\lib\\site-packages\\pandas\\core\\frame.py:3655\u001B[0m, in \u001B[0;36mDataFrame.__setitem__\u001B[1;34m(self, key, value)\u001B[0m\n\u001B[0;32m   3652\u001B[0m     \u001B[38;5;28mself\u001B[39m\u001B[38;5;241m.\u001B[39m_setitem_array([key], value)\n\u001B[0;32m   3653\u001B[0m \u001B[38;5;28;01melse\u001B[39;00m:\n\u001B[0;32m   3654\u001B[0m     \u001B[38;5;66;03m# set column\u001B[39;00m\n\u001B[1;32m-> 3655\u001B[0m     \u001B[38;5;28;43mself\u001B[39;49m\u001B[38;5;241;43m.\u001B[39;49m\u001B[43m_set_item\u001B[49m\u001B[43m(\u001B[49m\u001B[43mkey\u001B[49m\u001B[43m,\u001B[49m\u001B[43m \u001B[49m\u001B[43mvalue\u001B[49m\u001B[43m)\u001B[49m\n",
      "File \u001B[1;32m~\\PycharmProjects\\Modelling-Dutch-Energy-Communities\\venv\\lib\\site-packages\\pandas\\core\\frame.py:3832\u001B[0m, in \u001B[0;36mDataFrame._set_item\u001B[1;34m(self, key, value)\u001B[0m\n\u001B[0;32m   3822\u001B[0m \u001B[38;5;28;01mdef\u001B[39;00m \u001B[38;5;21m_set_item\u001B[39m(\u001B[38;5;28mself\u001B[39m, key, value) \u001B[38;5;241m-\u001B[39m\u001B[38;5;241m>\u001B[39m \u001B[38;5;28;01mNone\u001B[39;00m:\n\u001B[0;32m   3823\u001B[0m     \u001B[38;5;124;03m\"\"\"\u001B[39;00m\n\u001B[0;32m   3824\u001B[0m \u001B[38;5;124;03m    Add series to DataFrame in specified column.\u001B[39;00m\n\u001B[0;32m   3825\u001B[0m \n\u001B[1;32m   (...)\u001B[0m\n\u001B[0;32m   3830\u001B[0m \u001B[38;5;124;03m    ensure homogeneity.\u001B[39;00m\n\u001B[0;32m   3831\u001B[0m \u001B[38;5;124;03m    \"\"\"\u001B[39;00m\n\u001B[1;32m-> 3832\u001B[0m     value \u001B[38;5;241m=\u001B[39m \u001B[38;5;28;43mself\u001B[39;49m\u001B[38;5;241;43m.\u001B[39;49m\u001B[43m_sanitize_column\u001B[49m\u001B[43m(\u001B[49m\u001B[43mvalue\u001B[49m\u001B[43m)\u001B[49m\n\u001B[0;32m   3834\u001B[0m     \u001B[38;5;28;01mif\u001B[39;00m (\n\u001B[0;32m   3835\u001B[0m         key \u001B[38;5;129;01min\u001B[39;00m \u001B[38;5;28mself\u001B[39m\u001B[38;5;241m.\u001B[39mcolumns\n\u001B[0;32m   3836\u001B[0m         \u001B[38;5;129;01mand\u001B[39;00m value\u001B[38;5;241m.\u001B[39mndim \u001B[38;5;241m==\u001B[39m \u001B[38;5;241m1\u001B[39m\n\u001B[0;32m   3837\u001B[0m         \u001B[38;5;129;01mand\u001B[39;00m \u001B[38;5;129;01mnot\u001B[39;00m is_extension_array_dtype(value)\n\u001B[0;32m   3838\u001B[0m     ):\n\u001B[0;32m   3839\u001B[0m         \u001B[38;5;66;03m# broadcast across multiple columns if necessary\u001B[39;00m\n\u001B[0;32m   3840\u001B[0m         \u001B[38;5;28;01mif\u001B[39;00m \u001B[38;5;129;01mnot\u001B[39;00m \u001B[38;5;28mself\u001B[39m\u001B[38;5;241m.\u001B[39mcolumns\u001B[38;5;241m.\u001B[39mis_unique \u001B[38;5;129;01mor\u001B[39;00m \u001B[38;5;28misinstance\u001B[39m(\u001B[38;5;28mself\u001B[39m\u001B[38;5;241m.\u001B[39mcolumns, MultiIndex):\n",
      "File \u001B[1;32m~\\PycharmProjects\\Modelling-Dutch-Energy-Communities\\venv\\lib\\site-packages\\pandas\\core\\frame.py:4535\u001B[0m, in \u001B[0;36mDataFrame._sanitize_column\u001B[1;34m(self, value)\u001B[0m\n\u001B[0;32m   4532\u001B[0m     \u001B[38;5;28;01mreturn\u001B[39;00m _reindex_for_setitem(value, \u001B[38;5;28mself\u001B[39m\u001B[38;5;241m.\u001B[39mindex)\n\u001B[0;32m   4534\u001B[0m \u001B[38;5;28;01mif\u001B[39;00m is_list_like(value):\n\u001B[1;32m-> 4535\u001B[0m     \u001B[43mcom\u001B[49m\u001B[38;5;241;43m.\u001B[39;49m\u001B[43mrequire_length_match\u001B[49m\u001B[43m(\u001B[49m\u001B[43mvalue\u001B[49m\u001B[43m,\u001B[49m\u001B[43m \u001B[49m\u001B[38;5;28;43mself\u001B[39;49m\u001B[38;5;241;43m.\u001B[39;49m\u001B[43mindex\u001B[49m\u001B[43m)\u001B[49m\n\u001B[0;32m   4536\u001B[0m \u001B[38;5;28;01mreturn\u001B[39;00m sanitize_array(value, \u001B[38;5;28mself\u001B[39m\u001B[38;5;241m.\u001B[39mindex, copy\u001B[38;5;241m=\u001B[39m\u001B[38;5;28;01mTrue\u001B[39;00m, allow_2d\u001B[38;5;241m=\u001B[39m\u001B[38;5;28;01mTrue\u001B[39;00m)\n",
      "File \u001B[1;32m~\\PycharmProjects\\Modelling-Dutch-Energy-Communities\\venv\\lib\\site-packages\\pandas\\core\\common.py:557\u001B[0m, in \u001B[0;36mrequire_length_match\u001B[1;34m(data, index)\u001B[0m\n\u001B[0;32m    553\u001B[0m \u001B[38;5;124;03m\"\"\"\u001B[39;00m\n\u001B[0;32m    554\u001B[0m \u001B[38;5;124;03mCheck the length of data matches the length of the index.\u001B[39;00m\n\u001B[0;32m    555\u001B[0m \u001B[38;5;124;03m\"\"\"\u001B[39;00m\n\u001B[0;32m    556\u001B[0m \u001B[38;5;28;01mif\u001B[39;00m \u001B[38;5;28mlen\u001B[39m(data) \u001B[38;5;241m!=\u001B[39m \u001B[38;5;28mlen\u001B[39m(index):\n\u001B[1;32m--> 557\u001B[0m     \u001B[38;5;28;01mraise\u001B[39;00m \u001B[38;5;167;01mValueError\u001B[39;00m(\n\u001B[0;32m    558\u001B[0m         \u001B[38;5;124m\"\u001B[39m\u001B[38;5;124mLength of values \u001B[39m\u001B[38;5;124m\"\u001B[39m\n\u001B[0;32m    559\u001B[0m         \u001B[38;5;124mf\u001B[39m\u001B[38;5;124m\"\u001B[39m\u001B[38;5;124m(\u001B[39m\u001B[38;5;132;01m{\u001B[39;00m\u001B[38;5;28mlen\u001B[39m(data)\u001B[38;5;132;01m}\u001B[39;00m\u001B[38;5;124m) \u001B[39m\u001B[38;5;124m\"\u001B[39m\n\u001B[0;32m    560\u001B[0m         \u001B[38;5;124m\"\u001B[39m\u001B[38;5;124mdoes not match length of index \u001B[39m\u001B[38;5;124m\"\u001B[39m\n\u001B[0;32m    561\u001B[0m         \u001B[38;5;124mf\u001B[39m\u001B[38;5;124m\"\u001B[39m\u001B[38;5;124m(\u001B[39m\u001B[38;5;132;01m{\u001B[39;00m\u001B[38;5;28mlen\u001B[39m(index)\u001B[38;5;132;01m}\u001B[39;00m\u001B[38;5;124m)\u001B[39m\u001B[38;5;124m\"\u001B[39m\n\u001B[0;32m    562\u001B[0m     )\n",
      "\u001B[1;31mValueError\u001B[0m: Length of values (365) does not match length of index (364)"
     ]
    },
    {
     "data": {
      "text/plain": "<Figure size 1152x720 with 6 Axes>",
      "image/png": "[encoded data removed]"
     },
     "metadata": {
      "needs_background": "light"
     },
     "output_type": "display_data"
    }
   ],
   "source": [
    "fig, axs = plt.subplots(3, 2, sharex=False, sharey=True, squeeze=True, figsize=(16, 10))\n",
    "axs_index = [[axs[0, 0], axs[0, 1]], [axs[1, 0], axs[1, 1]], [axs[2, 0], axs[2, 1]]]\n",
    "fig.suptitle('Shifted load through demand response under selected uncertainty scenarios', fontsize=20, y=0.93)\n",
    "\n",
    "ax_id = 0\n",
    "for key in tqdm(uncertainty_scenarios.keys()):\n",
    "    experiment_setups = uncertainty_scenarios[key]\n",
    "    # iterate through every experiment setup listed in\n",
    "    for experiment_setup in experiment_setups:\n",
    "        results = results_gf[str(experiment_setup)]\n",
    "        # result contain ten iteration of results for each simulation run\n",
    "        # iterate through simulation runs\n",
    "        ax = axs_index[ax_id]\n",
    "        for result in results:\n",
    "            shifted_load = extract_df_from_json(result, 'M3: shifted_load')\n",
    "            shifted_load = shifted_load[:364]\n",
    "            shifted_load['date'] = pd.date_range(start='1/1/2021', end='31/12/2021')\n",
    "            shifted_load.set_index('date', inplace=True, drop=True)\n",
    "\n",
    "            residential = shifted_load.columns.to_list()[:-2]\n",
    "            nonresidential = shifted_load.columns.to_list()[-2:]\n",
    "            # calculate total results for residential and non-residential community members\n",
    "            shifted_load['residential'] = shifted_load.loc[:, residential].sum(axis=1)\n",
    "            shifted_load['nonresidential'] = shifted_load.loc[:, nonresidential].sum(axis=1) / 4\n",
    "            # remove unwanted columns\n",
    "            columns_to_keep = ['residential', 'nonresidential']\n",
    "            shifted_load = shifted_load[columns_to_keep]\n",
    "            # Set lower cap to zero\n",
    "            shifted_load[shifted_load < 0] = 0\n",
    "\n",
    "            # plot results for community members\n",
    "            shifted_load['residential'].plot(ax=ax[0], colormap='Set2', legend=False, linewidth=0.2, alpha=0.5)\n",
    "            shifted_load['nonresidential'].plot(ax=ax[1], colormap='Set2', legend=False, linewidth=0.2, alpha=0.5)\n",
    "            ax[0].set_title(f\" {key} (Residential)\", fontsize=12)\n",
    "            ax[1].set_title(f\" {key} (Non-Residential)\", fontsize=12)\n",
    "\n",
    "        ax_id += 1\n",
    "        break"
   ],
   "metadata": {
    "collapsed": false,
    "pycharm": {
     "name": "#%%\n"
    }
   }
  },
  {
   "cell_type": "code",
   "execution_count": 77,
   "outputs": [
    {
     "data": {
      "text/plain": "DatetimeIndex(['2021-01-01', '2021-01-02', '2021-01-03', '2021-01-04',\n               '2021-01-05', '2021-01-06', '2021-01-07', '2021-01-08',\n               '2021-01-09', '2021-01-10',\n               ...\n               '2021-12-22', '2021-12-23', '2021-12-24', '2021-12-25',\n               '2021-12-26', '2021-12-27', '2021-12-28', '2021-12-29',\n               '2021-12-30', '2021-12-31'],\n              dtype='datetime64[ns]', length=365, freq='D')"
     },
     "execution_count": 77,
     "metadata": {},
     "output_type": "execute_result"
    }
   ],
   "source": [],
   "metadata": {
    "collapsed": false,
    "pycharm": {
     "name": "#%%\n"
    }
   }
  },
  {
   "cell_type": "code",
   "execution_count": 75,
   "outputs": [
    {
     "data": {
      "text/plain": "     Unnamed: 0        date  \\\n366           1  2021-01-01   \n367           2  2021-01-02   \n368           3  2021-01-03   \n369           4  2021-01-04   \n370           5  2021-01-05   \n..          ...         ...   \n726         361  2021-12-27   \n727         362  2021-12-28   \n728         363  2021-12-29   \n729         364  2021-12-30   \n730           0  2021-01-01   \n\n                                   M1: realised_demand  \\\n366  {'hh2_consumption [kWh]_1': 16.827812671878817...   \n367  {'hh2_consumption [kWh]_1': 16.83793568812272,...   \n368  {'hh2_consumption [kWh]_1': 16.83793568812272,...   \n369  {'hh2_consumption [kWh]_1': 16.83793568812272,...   \n370  {'hh2_consumption [kWh]_1': 19.24052296143153,...   \n..                                                 ...   \n726  {'hh2_consumption [kWh]_1': 73.09196376228965,...   \n727  {'hh2_consumption [kWh]_1': 73.09196376228965,...   \n728  {'hh2_consumption [kWh]_1': 73.12110645322453,...   \n729  {'hh2_consumption [kWh]_1': 73.12110645322453,...   \n730  {'hh2_consumption [kWh]_1': 16.827812671878817...   \n\n                                  M2: scheduled_demand  \\\n366  {'hh2_consumption [kWh]_1': 16.827812671878817...   \n367  {'hh2_consumption [kWh]_1': 16.83793568812272,...   \n368  {'hh2_consumption [kWh]_1': 16.83793568812272,...   \n369  {'hh2_consumption [kWh]_1': 16.83793568812272,...   \n370  {'hh2_consumption [kWh]_1': 19.24052296143153,...   \n..                                                 ...   \n726  {'hh2_consumption [kWh]_1': 73.09196376228965,...   \n727  {'hh2_consumption [kWh]_1': 73.09196376228965,...   \n728  {'hh2_consumption [kWh]_1': 73.12110645322453,...   \n729  {'hh2_consumption [kWh]_1': 73.12110645322453,...   \n730  {'hh2_consumption [kWh]_1': 16.827812671878817...   \n\n                                      M3: shifted_load  \\\n366  {\"hh2_consumption [kWh]_1\": 0, \"hh3_consumptio...   \n367  {\"hh2_consumption [kWh]_1\": 0, \"hh3_consumptio...   \n368  {\"hh2_consumption [kWh]_1\": 0, \"hh3_consumptio...   \n369  {\"hh2_consumption [kWh]_1\": 0, \"hh3_consumptio...   \n370  {\"hh2_consumption [kWh]_1\": 0, \"hh3_consumptio...   \n..                                                 ...   \n726  {\"hh2_consumption [kWh]_1\": 0, \"hh3_consumptio...   \n727  {\"hh2_consumption [kWh]_1\": 0, \"hh3_consumptio...   \n728  {\"hh2_consumption [kWh]_1\": 0, \"hh3_consumptio...   \n729  {\"hh2_consumption [kWh]_1\": 0, \"hh3_consumptio...   \n730  {\"hh2_consumption [kWh]_1\": 0, \"hh3_consumptio...   \n\n                                  M4: total_generation  \\\n366  {\"<class 'model.agents.Solar'>\": 101.392717919...   \n367  {\"<class 'model.agents.Solar'>\": 195.798835440...   \n368     {\"<class 'model.agents.Solar'>\": 133.47707672}   \n369  {\"<class 'model.agents.Solar'>\": 129.465744720...   \n370     {\"<class 'model.agents.Solar'>\": 142.37130648}   \n..                                                 ...   \n726  {\"<class 'model.agents.Solar'>\": 129.354496960...   \n727  {\"<class 'model.agents.Solar'>\": 198.254460560...   \n728  {\"<class 'model.agents.Solar'>\": 173.828584800...   \n729  {\"<class 'model.agents.Solar'>\": 212.171681279...   \n730  {\"<class 'model.agents.Solar'>\": 101.392717919...   \n\n                                    M5: savings_on_ToD  \\\n366  {\"hh2_consumption [kWh]_1\": 0.0, \"hh3_consumpt...   \n367  {\"hh2_consumption [kWh]_1\": 0.0, \"hh3_consumpt...   \n368  {\"hh2_consumption [kWh]_1\": 0.0, \"hh3_consumpt...   \n369  {\"hh2_consumption [kWh]_1\": 0.0, \"hh3_consumpt...   \n370  {\"hh2_consumption [kWh]_1\": 0.0, \"hh3_consumpt...   \n..                                                 ...   \n726  {\"hh2_consumption [kWh]_1\": 0.0, \"hh3_consumpt...   \n727  {\"hh2_consumption [kWh]_1\": 0.0, \"hh3_consumpt...   \n728  {\"hh2_consumption [kWh]_1\": 0.0, \"hh3_consumpt...   \n729  {\"hh2_consumption [kWh]_1\": 0.0, \"hh3_consumpt...   \n730  {\"hh2_consumption [kWh]_1\": 0.0, \"hh3_consumpt...   \n\n                                      M6: energy_costs  \n366  {\"hh2_consumption [kWh]_1\": 5.776884104002249,...  \n367  {\"hh2_consumption [kWh]_1\": 5.7798175516494075...  \n368  {\"hh2_consumption [kWh]_1\": 5.7798175516494075...  \n369  {\"hh2_consumption [kWh]_1\": 5.7798175516494075...  \n370  {\"hh2_consumption [kWh]_1\": 6.476039291708833,...  \n..                                                 ...  \n726  {\"hh2_consumption [kWh]_1\": 43.881215592677094...  \n727  {\"hh2_consumption [kWh]_1\": 43.881215592677094...  \n728  {\"hh2_consumption [kWh]_1\": 43.89835091209299,...  \n729  {\"hh2_consumption [kWh]_1\": 43.89835091209299,...  \n730  {\"hh2_consumption [kWh]_1\": 5.776884104002249,...  \n\n[365 rows x 8 columns]",
      "text/html": "<div>\n<style scoped>\n    .dataframe tbody tr th:only-of-type {\n        vertical-align: middle;\n    }\n\n    .dataframe tbody tr th {\n        vertical-align: top;\n    }\n\n    .dataframe thead th {\n        text-align: right;\n    }\n</style>\n<table border=\"1\" class=\"dataframe\">\n  <thead>\n    <tr style=\"text-align: right;\">\n      <th></th>\n      <th>Unnamed: 0</th>\n      <th>date</th>\n      <th>M1: realised_demand</th>\n      <th>M2: scheduled_demand</th>\n      <th>M3: shifted_load</th>\n      <th>M4: total_generation</th>\n      <th>M5: savings_on_ToD</th>\n      <th>M6: energy_costs</th>\n    </tr>\n  </thead>\n  <tbody>\n    <tr>\n      <th>366</th>\n      <td>1</td>\n      <td>2021-01-01</td>\n      <td>{'hh2_consumption [kWh]_1': 16.827812671878817...</td>\n      <td>{'hh2_consumption [kWh]_1': 16.827812671878817...</td>\n      <td>{\"hh2_consumption [kWh]_1\": 0, \"hh3_consumptio...</td>\n      <td>{\"&lt;class 'model.agents.Solar'&gt;\": 101.392717919...</td>\n      <td>{\"hh2_consumption [kWh]_1\": 0.0, \"hh3_consumpt...</td>\n      <td>{\"hh2_consumption [kWh]_1\": 5.776884104002249,...</td>\n    </tr>\n    <tr>\n      <th>367</th>\n      <td>2</td>\n      <td>2021-01-02</td>\n      <td>{'hh2_consumption [kWh]_1': 16.83793568812272,...</td>\n      <td>{'hh2_consumption [kWh]_1': 16.83793568812272,...</td>\n      <td>{\"hh2_consumption [kWh]_1\": 0, \"hh3_consumptio...</td>\n      <td>{\"&lt;class 'model.agents.Solar'&gt;\": 195.798835440...</td>\n      <td>{\"hh2_consumption [kWh]_1\": 0.0, \"hh3_consumpt...</td>\n      <td>{\"hh2_consumption [kWh]_1\": 5.7798175516494075...</td>\n    </tr>\n    <tr>\n      <th>368</th>\n      <td>3</td>\n      <td>2021-01-03</td>\n      <td>{'hh2_consumption [kWh]_1': 16.83793568812272,...</td>\n      <td>{'hh2_consumption [kWh]_1': 16.83793568812272,...</td>\n      <td>{\"hh2_consumption [kWh]_1\": 0, \"hh3_consumptio...</td>\n      <td>{\"&lt;class 'model.agents.Solar'&gt;\": 133.47707672}</td>\n      <td>{\"hh2_consumption [kWh]_1\": 0.0, \"hh3_consumpt...</td>\n      <td>{\"hh2_consumption [kWh]_1\": 5.7798175516494075...</td>\n    </tr>\n    <tr>\n      <th>369</th>\n      <td>4</td>\n      <td>2021-01-04</td>\n      <td>{'hh2_consumption [kWh]_1': 16.83793568812272,...</td>\n      <td>{'hh2_consumption [kWh]_1': 16.83793568812272,...</td>\n      <td>{\"hh2_consumption [kWh]_1\": 0, \"hh3_consumptio...</td>\n      <td>{\"&lt;class 'model.agents.Solar'&gt;\": 129.465744720...</td>\n      <td>{\"hh2_consumption [kWh]_1\": 0.0, \"hh3_consumpt...</td>\n      <td>{\"hh2_consumption [kWh]_1\": 5.7798175516494075...</td>\n    </tr>\n    <tr>\n      <th>370</th>\n      <td>5</td>\n      <td>2021-01-05</td>\n      <td>{'hh2_consumption [kWh]_1': 19.24052296143153,...</td>\n      <td>{'hh2_consumption [kWh]_1': 19.24052296143153,...</td>\n      <td>{\"hh2_consumption [kWh]_1\": 0, \"hh3_consumptio...</td>\n      <td>{\"&lt;class 'model.agents.Solar'&gt;\": 142.37130648}</td>\n      <td>{\"hh2_consumption [kWh]_1\": 0.0, \"hh3_consumpt...</td>\n      <td>{\"hh2_consumption [kWh]_1\": 6.476039291708833,...</td>\n    </tr>\n    <tr>\n      <th>...</th>\n      <td>...</td>\n      <td>...</td>\n      <td>...</td>\n      <td>...</td>\n      <td>...</td>\n      <td>...</td>\n      <td>...</td>\n      <td>...</td>\n    </tr>\n    <tr>\n      <th>726</th>\n      <td>361</td>\n      <td>2021-12-27</td>\n      <td>{'hh2_consumption [kWh]_1': 73.09196376228965,...</td>\n      <td>{'hh2_consumption [kWh]_1': 73.09196376228965,...</td>\n      <td>{\"hh2_consumption [kWh]_1\": 0, \"hh3_consumptio...</td>\n      <td>{\"&lt;class 'model.agents.Solar'&gt;\": 129.354496960...</td>\n      <td>{\"hh2_consumption [kWh]_1\": 0.0, \"hh3_consumpt...</td>\n      <td>{\"hh2_consumption [kWh]_1\": 43.881215592677094...</td>\n    </tr>\n    <tr>\n      <th>727</th>\n      <td>362</td>\n      <td>2021-12-28</td>\n      <td>{'hh2_consumption [kWh]_1': 73.09196376228965,...</td>\n      <td>{'hh2_consumption [kWh]_1': 73.09196376228965,...</td>\n      <td>{\"hh2_consumption [kWh]_1\": 0, \"hh3_consumptio...</td>\n      <td>{\"&lt;class 'model.agents.Solar'&gt;\": 198.254460560...</td>\n      <td>{\"hh2_consumption [kWh]_1\": 0.0, \"hh3_consumpt...</td>\n      <td>{\"hh2_consumption [kWh]_1\": 43.881215592677094...</td>\n    </tr>\n    <tr>\n      <th>728</th>\n      <td>363</td>\n      <td>2021-12-29</td>\n      <td>{'hh2_consumption [kWh]_1': 73.12110645322453,...</td>\n      <td>{'hh2_consumption [kWh]_1': 73.12110645322453,...</td>\n      <td>{\"hh2_consumption [kWh]_1\": 0, \"hh3_consumptio...</td>\n      <td>{\"&lt;class 'model.agents.Solar'&gt;\": 173.828584800...</td>\n      <td>{\"hh2_consumption [kWh]_1\": 0.0, \"hh3_consumpt...</td>\n      <td>{\"hh2_consumption [kWh]_1\": 43.89835091209299,...</td>\n    </tr>\n    <tr>\n      <th>729</th>\n      <td>364</td>\n      <td>2021-12-30</td>\n      <td>{'hh2_consumption [kWh]_1': 73.12110645322453,...</td>\n      <td>{'hh2_consumption [kWh]_1': 73.12110645322453,...</td>\n      <td>{\"hh2_consumption [kWh]_1\": 0, \"hh3_consumptio...</td>\n      <td>{\"&lt;class 'model.agents.Solar'&gt;\": 212.171681279...</td>\n      <td>{\"hh2_consumption [kWh]_1\": 0.0, \"hh3_consumpt...</td>\n      <td>{\"hh2_consumption [kWh]_1\": 43.89835091209299,...</td>\n    </tr>\n    <tr>\n      <th>730</th>\n      <td>0</td>\n      <td>2021-01-01</td>\n      <td>{'hh2_consumption [kWh]_1': 16.827812671878817...</td>\n      <td>{'hh2_consumption [kWh]_1': 16.827812671878817...</td>\n      <td>{\"hh2_consumption [kWh]_1\": 0, \"hh3_consumptio...</td>\n      <td>{\"&lt;class 'model.agents.Solar'&gt;\": 101.392717919...</td>\n      <td>{\"hh2_consumption [kWh]_1\": 0.0, \"hh3_consumpt...</td>\n      <td>{\"hh2_consumption [kWh]_1\": 5.776884104002249,...</td>\n    </tr>\n  </tbody>\n</table>\n<p>365 rows × 8 columns</p>\n</div>"
     },
     "execution_count": 75,
     "metadata": {},
     "output_type": "execute_result"
    }
   ],
   "source": [
    "result"
   ],
   "metadata": {
    "collapsed": false,
    "pycharm": {
     "name": "#%%\n"
    }
   }
  },
  {
   "cell_type": "code",
   "execution_count": 76,
   "outputs": [
    {
     "data": {
      "text/plain": "     hh2_consumption [kWh]_1  hh3_consumption [kWh]_2  \\\n1                          0                        0   \n2                          0                        0   \n3                          0                        0   \n4                          0                        0   \n5                          0                        0   \n..                       ...                      ...   \n360                        0                        0   \n361                        0                        0   \n362                        0                        0   \n363                        0                        0   \n364                        0                        0   \n\n     hh2_consumption [kWh]_3  hh1_consumption [kWh]_4  \\\n1                          0                        0   \n2                          0                        0   \n3                          0                        0   \n4                          0                        0   \n5                          0                        0   \n..                       ...                      ...   \n360                        0                        0   \n361                        0                        0   \n362                        0                        0   \n363                        0                        0   \n364                        0                        0   \n\n     hh2_consumption [kWh]_5  hh1_consumption [kWh]_6  \\\n1                          0                        0   \n2                          0                        0   \n3                          0                        0   \n4                          0                        0   \n5                          0                        0   \n..                       ...                      ...   \n360                        0                        0   \n361                        0                        0   \n362                        0                        0   \n363                        0                        0   \n364                        0                        0   \n\n     hh1_consumption [kWh]_7  hh2_consumption [kWh]_8  \\\n1                          0                        0   \n2                          0                        0   \n3                          0                        0   \n4                          0                        0   \n5                          0                        0   \n..                       ...                      ...   \n360                        0                        0   \n361                        0                        0   \n362                        0                        0   \n363                        0                        0   \n364                        0                        0   \n\n     hh1_consumption [kWh]_9  hh2_consumption [kWh]_10  ...  \\\n1                          0                         0  ...   \n2                          0                         0  ...   \n3                          0                         0  ...   \n4                          0                         0  ...   \n5                          0                         0  ...   \n..                       ...                       ...  ...   \n360                        0                         0  ...   \n361                        0                         0  ...   \n362                        0                         0  ...   \n363                        0                         0  ...   \n364                        0                         0  ...   \n\n     hh2_consumption [kWh]_76  hh1_consumption [kWh]_78  \\\n1                           0                         0   \n2                           0                         0   \n3                           0                         0   \n4                           0                         0   \n5                           0                         0   \n..                        ...                       ...   \n360                         0                         0   \n361                         0                         0   \n362                         0                         0   \n363                         0                         0   \n364                         0                         0   \n\n     hh3_consumption [kWh]_80  hh2_consumption [kWh]_82  \\\n1                           0                         0   \n2                           0                         0   \n3                           0                         0   \n4                           0                         0   \n5                           0                         0   \n..                        ...                       ...   \n360                         0                         0   \n361                         0                         0   \n362                         0                         0   \n363                         0                         0   \n364                         0                         0   \n\n     hh3_consumption [kWh]_84  hh3_consumption [kWh]_86  \\\n1                           0                         0   \n2                           0                         0   \n3                           0                         0   \n4                           0                         0   \n5                           0                         0   \n..                        ...                       ...   \n360                         0                         0   \n361                         0                         0   \n362                         0                         0   \n363                         0                         0   \n364                         0                         0   \n\n     hh3_consumption [kWh]_88  Office 1_90  EV_charging_station_92  date  \n1                           0            0                       0   NaN  \n2                           0            0                       0   NaN  \n3                           0            0                       0   NaN  \n4                           0            0                       0   NaN  \n5                           0            0                       0   NaN  \n..                        ...          ...                     ...   ...  \n360                         0            0                       0   NaN  \n361                         0            0                       0   NaN  \n362                         0            0                       0   NaN  \n363                         0            0                       0   NaN  \n364                         0            0                       0   NaN  \n\n[364 rows x 52 columns]",
      "text/html": "<div>\n<style scoped>\n    .dataframe tbody tr th:only-of-type {\n        vertical-align: middle;\n    }\n\n    .dataframe tbody tr th {\n        vertical-align: top;\n    }\n\n    .dataframe thead th {\n        text-align: right;\n    }\n</style>\n<table border=\"1\" class=\"dataframe\">\n  <thead>\n    <tr style=\"text-align: right;\">\n      <th></th>\n      <th>hh2_consumption [kWh]_1</th>\n      <th>hh3_consumption [kWh]_2</th>\n      <th>hh2_consumption [kWh]_3</th>\n      <th>hh1_consumption [kWh]_4</th>\n      <th>hh2_consumption [kWh]_5</th>\n      <th>hh1_consumption [kWh]_6</th>\n      <th>hh1_consumption [kWh]_7</th>\n      <th>hh2_consumption [kWh]_8</th>\n      <th>hh1_consumption [kWh]_9</th>\n      <th>hh2_consumption [kWh]_10</th>\n      <th>...</th>\n      <th>hh2_consumption [kWh]_76</th>\n      <th>hh1_consumption [kWh]_78</th>\n      <th>hh3_consumption [kWh]_80</th>\n      <th>hh2_consumption [kWh]_82</th>\n      <th>hh3_consumption [kWh]_84</th>\n      <th>hh3_consumption [kWh]_86</th>\n      <th>hh3_consumption [kWh]_88</th>\n      <th>Office 1_90</th>\n      <th>EV_charging_station_92</th>\n      <th>date</th>\n    </tr>\n  </thead>\n  <tbody>\n    <tr>\n      <th>1</th>\n      <td>0</td>\n      <td>0</td>\n      <td>0</td>\n      <td>0</td>\n      <td>0</td>\n      <td>0</td>\n      <td>0</td>\n      <td>0</td>\n      <td>0</td>\n      <td>0</td>\n      <td>...</td>\n      <td>0</td>\n      <td>0</td>\n      <td>0</td>\n      <td>0</td>\n      <td>0</td>\n      <td>0</td>\n      <td>0</td>\n      <td>0</td>\n      <td>0</td>\n      <td>NaN</td>\n    </tr>\n    <tr>\n      <th>2</th>\n      <td>0</td>\n      <td>0</td>\n      <td>0</td>\n      <td>0</td>\n      <td>0</td>\n      <td>0</td>\n      <td>0</td>\n      <td>0</td>\n      <td>0</td>\n      <td>0</td>\n      <td>...</td>\n      <td>0</td>\n      <td>0</td>\n      <td>0</td>\n      <td>0</td>\n      <td>0</td>\n      <td>0</td>\n      <td>0</td>\n      <td>0</td>\n      <td>0</td>\n      <td>NaN</td>\n    </tr>\n    <tr>\n      <th>3</th>\n      <td>0</td>\n      <td>0</td>\n      <td>0</td>\n      <td>0</td>\n      <td>0</td>\n      <td>0</td>\n      <td>0</td>\n      <td>0</td>\n      <td>0</td>\n      <td>0</td>\n      <td>...</td>\n      <td>0</td>\n      <td>0</td>\n      <td>0</td>\n      <td>0</td>\n      <td>0</td>\n      <td>0</td>\n      <td>0</td>\n      <td>0</td>\n      <td>0</td>\n      <td>NaN</td>\n    </tr>\n    <tr>\n      <th>4</th>\n      <td>0</td>\n      <td>0</td>\n      <td>0</td>\n      <td>0</td>\n      <td>0</td>\n      <td>0</td>\n      <td>0</td>\n      <td>0</td>\n      <td>0</td>\n      <td>0</td>\n      <td>...</td>\n      <td>0</td>\n      <td>0</td>\n      <td>0</td>\n      <td>0</td>\n      <td>0</td>\n      <td>0</td>\n      <td>0</td>\n      <td>0</td>\n      <td>0</td>\n      <td>NaN</td>\n    </tr>\n    <tr>\n      <th>5</th>\n      <td>0</td>\n      <td>0</td>\n      <td>0</td>\n      <td>0</td>\n      <td>0</td>\n      <td>0</td>\n      <td>0</td>\n      <td>0</td>\n      <td>0</td>\n      <td>0</td>\n      <td>...</td>\n      <td>0</td>\n      <td>0</td>\n      <td>0</td>\n      <td>0</td>\n      <td>0</td>\n      <td>0</td>\n      <td>0</td>\n      <td>0</td>\n      <td>0</td>\n      <td>NaN</td>\n    </tr>\n    <tr>\n      <th>...</th>\n      <td>...</td>\n      <td>...</td>\n      <td>...</td>\n      <td>...</td>\n      <td>...</td>\n      <td>...</td>\n      <td>...</td>\n      <td>...</td>\n      <td>...</td>\n      <td>...</td>\n      <td>...</td>\n      <td>...</td>\n      <td>...</td>\n      <td>...</td>\n      <td>...</td>\n      <td>...</td>\n      <td>...</td>\n      <td>...</td>\n      <td>...</td>\n      <td>...</td>\n      <td>...</td>\n    </tr>\n    <tr>\n      <th>360</th>\n      <td>0</td>\n      <td>0</td>\n      <td>0</td>\n      <td>0</td>\n      <td>0</td>\n      <td>0</td>\n      <td>0</td>\n      <td>0</td>\n      <td>0</td>\n      <td>0</td>\n      <td>...</td>\n      <td>0</td>\n      <td>0</td>\n      <td>0</td>\n      <td>0</td>\n      <td>0</td>\n      <td>0</td>\n      <td>0</td>\n      <td>0</td>\n      <td>0</td>\n      <td>NaN</td>\n    </tr>\n    <tr>\n      <th>361</th>\n      <td>0</td>\n      <td>0</td>\n      <td>0</td>\n      <td>0</td>\n      <td>0</td>\n      <td>0</td>\n      <td>0</td>\n      <td>0</td>\n      <td>0</td>\n      <td>0</td>\n      <td>...</td>\n      <td>0</td>\n      <td>0</td>\n      <td>0</td>\n      <td>0</td>\n      <td>0</td>\n      <td>0</td>\n      <td>0</td>\n      <td>0</td>\n      <td>0</td>\n      <td>NaN</td>\n    </tr>\n    <tr>\n      <th>362</th>\n      <td>0</td>\n      <td>0</td>\n      <td>0</td>\n      <td>0</td>\n      <td>0</td>\n      <td>0</td>\n      <td>0</td>\n      <td>0</td>\n      <td>0</td>\n      <td>0</td>\n      <td>...</td>\n      <td>0</td>\n      <td>0</td>\n      <td>0</td>\n      <td>0</td>\n      <td>0</td>\n      <td>0</td>\n      <td>0</td>\n      <td>0</td>\n      <td>0</td>\n      <td>NaN</td>\n    </tr>\n    <tr>\n      <th>363</th>\n      <td>0</td>\n      <td>0</td>\n      <td>0</td>\n      <td>0</td>\n      <td>0</td>\n      <td>0</td>\n      <td>0</td>\n      <td>0</td>\n      <td>0</td>\n      <td>0</td>\n      <td>...</td>\n      <td>0</td>\n      <td>0</td>\n      <td>0</td>\n      <td>0</td>\n      <td>0</td>\n      <td>0</td>\n      <td>0</td>\n      <td>0</td>\n      <td>0</td>\n      <td>NaN</td>\n    </tr>\n    <tr>\n      <th>364</th>\n      <td>0</td>\n      <td>0</td>\n      <td>0</td>\n      <td>0</td>\n      <td>0</td>\n      <td>0</td>\n      <td>0</td>\n      <td>0</td>\n      <td>0</td>\n      <td>0</td>\n      <td>...</td>\n      <td>0</td>\n      <td>0</td>\n      <td>0</td>\n      <td>0</td>\n      <td>0</td>\n      <td>0</td>\n      <td>0</td>\n      <td>0</td>\n      <td>0</td>\n      <td>NaN</td>\n    </tr>\n  </tbody>\n</table>\n<p>364 rows × 52 columns</p>\n</div>"
     },
     "execution_count": 76,
     "metadata": {},
     "output_type": "execute_result"
    }
   ],
   "source": [
    "extract_df_from_json(result, 'M3: shifted_load')"
   ],
   "metadata": {
    "collapsed": false,
    "pycharm": {
     "name": "#%%\n"
    }
   }
  },
  {
   "cell_type": "code",
   "execution_count": null,
   "outputs": [],
   "source": [],
   "metadata": {
    "collapsed": false,
    "pycharm": {
     "name": "#%%\n"
    }
   }
  }
 ],
 "metadata": {
  "kernelspec": {
   "display_name": "Python 3",
   "language": "python",
   "name": "python3"
  },
  "language_info": {
   "codemirror_mode": {
    "name": "ipython",
    "version": 2
   },
   "file_extension": ".py",
   "mimetype": "text/x-python",
   "name": "python",
   "nbconvert_exporter": "python",
   "pygments_lexer": "ipython2",
   "version": "2.7.6"
  }
 },
 "nbformat": 4,
 "nbformat_minor": 0
}