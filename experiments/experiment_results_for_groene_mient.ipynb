{
 "cells": [
  {
   "cell_type": "markdown",
   "source": [
    "# Visualising results for Groene Mient inspired energy community"
   ],
   "metadata": {
    "collapsed": false,
    "pycharm": {
     "name": "#%% md\n"
    }
   }
  },
  {
   "cell_type": "markdown",
   "source": [
    "This notebook visualises the results of experiments performed on groene mient inspired energy community"
   ],
   "metadata": {
    "collapsed": false,
    "pycharm": {
     "name": "#%% md\n"
    }
   }
  },
  {
   "cell_type": "code",
   "execution_count": 5,
   "outputs": [],
   "source": [
    "# importing required libraries\n",
    "from experiments.experiment import *\n",
    "from results.results import *\n",
    "import matplotlib.pyplot as plt\n",
    "from matplotlib.ticker import MaxNLocator\n",
    "import numpy as np\n",
    "import ast\n",
    "from tqdm import tqdm\n",
    "\n",
    "import warnings\n",
    "\n",
    "warnings.filterwarnings(\"ignore\")"
   ],
   "metadata": {
    "collapsed": false,
    "pycharm": {
     "name": "#%%\n"
    }
   }
  },
  {
   "cell_type": "code",
   "execution_count": 5,
   "outputs": [],
   "source": [],
   "metadata": {
    "collapsed": false,
    "pycharm": {
     "name": "#%%\n"
    }
   }
  },
  {
   "cell_type": "markdown",
   "source": [
    "## 1. Read the results"
   ],
   "metadata": {
    "collapsed": false,
    "pycharm": {
     "name": "#%% md\n"
    }
   }
  },
  {
   "cell_type": "code",
   "execution_count": 6,
   "outputs": [
    {
     "ename": "ValueError",
     "evalue": "invalid literal for int() with base 10: ''",
     "output_type": "error",
     "traceback": [
      "\u001B[1;31m---------------------------------------------------------------------------\u001B[0m",
      "\u001B[1;31mValueError\u001B[0m                                Traceback (most recent call last)",
      "Input \u001B[1;32mIn [6]\u001B[0m, in \u001B[0;36m<cell line: 2>\u001B[1;34m()\u001B[0m\n\u001B[0;32m      1\u001B[0m \u001B[38;5;66;03m# read the results\u001B[39;00m\n\u001B[1;32m----> 2\u001B[0m results \u001B[38;5;241m=\u001B[39m \u001B[43mExperiment\u001B[49m\u001B[38;5;241;43m.\u001B[39;49m\u001B[43mload_results\u001B[49m\u001B[43m(\u001B[49m\u001B[43mec_name\u001B[49m\u001B[38;5;241;43m=\u001B[39;49m\u001B[38;5;124;43m'\u001B[39;49m\u001B[38;5;124;43mGroenMient\u001B[39;49m\u001B[38;5;124;43m'\u001B[39;49m\u001B[43m)\u001B[49m\n",
      "File \u001B[1;32m~\\PycharmProjects\\Modelling-Dutch-Energy-Communities\\experiments\\experiment.py:154\u001B[0m, in \u001B[0;36mExperiment.load_results\u001B[1;34m(folder, ec_name)\u001B[0m\n\u001B[0;32m    151\u001B[0m     path \u001B[38;5;241m=\u001B[39m \u001B[38;5;124mf\u001B[39m\u001B[38;5;124m'\u001B[39m\u001B[38;5;132;01m{\u001B[39;00mfolder\u001B[38;5;132;01m}\u001B[39;00m\u001B[38;5;132;01m{\u001B[39;00mcondition_output\u001B[38;5;132;01m}\u001B[39;00m\u001B[38;5;124m'\u001B[39m\n\u001B[0;32m    152\u001B[0m     df \u001B[38;5;241m=\u001B[39m pd\u001B[38;5;241m.\u001B[39mread_csv(path)\n\u001B[1;32m--> 154\u001B[0m     condition_idx \u001B[38;5;241m=\u001B[39m \u001B[38;5;28;43mint\u001B[39;49m\u001B[43m(\u001B[49m\u001B[43mcondition_output\u001B[49m\u001B[43m[\u001B[49m\u001B[38;5;241;43m25\u001B[39;49m\u001B[43m:\u001B[49m\u001B[38;5;241;43m-\u001B[39;49m\u001B[38;5;241;43m4\u001B[39;49m\u001B[43m]\u001B[49m\u001B[43m)\u001B[49m  \u001B[38;5;66;03m# Takes only the number of the condition\u001B[39;00m\n\u001B[0;32m    155\u001B[0m     all_results[condition_idx] \u001B[38;5;241m=\u001B[39m df\n\u001B[0;32m    157\u001B[0m \u001B[38;5;28;01mreturn\u001B[39;00m all_results\n",
      "\u001B[1;31mValueError\u001B[0m: invalid literal for int() with base 10: ''"
     ]
    }
   ],
   "source": [
    "# read the results"
   ],
   "metadata": {
    "collapsed": false,
    "pycharm": {
     "name": "#%%\n"
    }
   }
  },
  {
   "cell_type": "code",
   "execution_count": 11,
   "outputs": [],
   "source": [
    "folder = './output/'\n",
    "ec_name = \"GroenMient\"\n",
    "folder = folder + ec_name + '/'\n",
    "mypath = os.getcwd() + '/output/' + ec_name + '/'\n",
    "outputs = [f for f in listdir(mypath) if isfile(join(mypath, f))]\n",
    "\n",
    "all_results = {}\n",
    "\n",
    "for condition_output in outputs:\n",
    "    path = f'{folder}{condition_output}'\n",
    "    df = pd.read_csv(path)\n",
    "\n",
    "    condition_idx = int(condition_output[22:-4])  # Takes only the number of the condition\n",
    "    all_results[condition_idx] = df"
   ],
   "metadata": {
    "collapsed": false,
    "pycharm": {
     "name": "#%%\n"
    }
   }
  },
  {
   "cell_type": "code",
   "execution_count": 13,
   "outputs": [],
   "source": [
    "results = all_results"
   ],
   "metadata": {
    "collapsed": false,
    "pycharm": {
     "name": "#%%\n"
    }
   }
  },
  {
   "cell_type": "markdown",
   "source": [
    "## 2. Prepare the results"
   ],
   "metadata": {
    "collapsed": false,
    "pycharm": {
     "name": "#%% md\n"
    }
   }
  },
  {
   "cell_type": "code",
   "execution_count": 14,
   "outputs": [],
   "source": [
    "# input details of experiments\n",
    "number_of_steps = 365\n",
    "number_of_simulation_runs = 10\n",
    "\n",
    "x_time = np.arange(0, number_of_simulation_runs * number_of_steps)\n",
    "for i in range(len(x_time)):\n",
    "    x_time[i] = x_time[i] % number_of_steps\n",
    "\n",
    "for experiment, runs in results.items():\n",
    "    runs.index = x_time"
   ],
   "metadata": {
    "collapsed": false,
    "pycharm": {
     "name": "#%%\n"
    }
   }
  },
  {
   "cell_type": "code",
   "execution_count": 15,
   "outputs": [
    {
     "name": "stdout",
     "output_type": "stream",
     "text": [
      "setting up the experiments...\n",
      "\n"
     ]
    }
   ],
   "source": [
    "# Get levers details and experiment setup\n",
    "same_levers, unique_levers = get_unique_levers_dict()"
   ],
   "metadata": {
    "collapsed": false,
    "pycharm": {
     "name": "#%%\n"
    }
   }
  },
  {
   "cell_type": "code",
   "execution_count": 16,
   "outputs": [
    {
     "name": "stdout",
     "output_type": "stream",
     "text": [
      "['M1: realised_demand', 'M2: scheduled_demand', 'M3: shifted_load', 'M4: total_generation', 'M5: savings_on_ToD', 'M6: energy_costs']\n"
     ]
    }
   ],
   "source": [
    "# Results to be printed\n",
    "for experiment, runs in results.items():\n",
    "    column_names = list(runs.columns)[1:]\n",
    "    break\n",
    "\n",
    "column_names = column_names[1:]\n",
    "print(column_names)"
   ],
   "metadata": {
    "collapsed": false,
    "pycharm": {
     "name": "#%%\n"
    }
   }
  },
  {
   "cell_type": "code",
   "execution_count": 18,
   "outputs": [],
   "source": [
    "# separate results for each experiment run\n",
    "separated_results = {}\n",
    "outlier_price_plastics = {}\n",
    "\n",
    "for experiment, runs in results.items():\n",
    "    separated_results[experiment] = []\n",
    "    outlier_price_plastics[experiment] = []\n",
    "    for run in range(number_of_simulation_runs):\n",
    "        run_df = runs.iloc[:number_of_steps, :]\n",
    "        runs = runs.iloc[number_of_steps + 1:, :]\n",
    "\n",
    "        separated_results[experiment].append(run_df)"
   ],
   "metadata": {
    "collapsed": false,
    "pycharm": {
     "name": "#%%\n"
    }
   }
  },
  {
   "cell_type": "markdown",
   "source": [
    "## 3. Plot scheduled demand vs realised demand (residential)"
   ],
   "metadata": {
    "collapsed": false,
    "pycharm": {
     "name": "#%% md\n"
    }
   }
  },
  {
   "cell_type": "code",
   "execution_count": 19,
   "outputs": [
    {
     "name": "stderr",
     "output_type": "stream",
     "text": [
      " 78%|███████▊  | 21/27 [9:46:53<2:47:41, 1676.84s/it]\n",
      "\n",
      "KeyboardInterrupt\n",
      "\n"
     ]
    },
    {
     "name": "stdout",
     "output_type": "stream",
     "text": [
      "Error in callback <function flush_figures at 0x00000221040B8D30> (for post_execute):\n"
     ]
    },
    {
     "name": "stderr",
     "output_type": "stream",
     "text": [
      "\n",
      "KeyboardInterrupt\n",
      "\n"
     ]
    }
   ],
   "source": [
    "rows = 7\n",
    "columns = 4\n",
    "fig, axs = plt.subplots(rows, columns, sharey=True, sharex=True, figsize=(20, 16))\n",
    "fig.suptitle('Scheduled demand vs realised demand for residential community members', fontsize=20, y=0.93)\n",
    "# fig.text(0.5, 0.04, 'Year', ha='center', fontsize=16)\n",
    "fig.text(0.04, 0.5, 'kWh', va='center', rotation='vertical', fontsize=16)\n",
    "\n",
    "# Create index of list of indices for axes\n",
    "axs_index = []\n",
    "for i in range(rows):  # iterate through the rows of the subplot grid\n",
    "    for j in range(columns):  # iterate through the columns of the subplot grid\n",
    "        axs_index.append(axs[i, j])\n",
    "axs_index = axs_index[:-1]  # remove last axis as it is not needed\n",
    "\n",
    "# lever combination number is the unique combination of policy scenarios\n",
    "lever_combination_number = 0\n",
    "\n",
    "# iterate through the columns and rows of the subplot grid\n",
    "for ax in tqdm(axs_index):\n",
    "    corresponding_experiments = same_levers[\n",
    "        lever_combination_number]  # List of experiment index having same lever combination\n",
    "    for experiment_index in corresponding_experiments:  # iterate through the experiments having same lever combination\n",
    "        experiment_results = separated_results[\n",
    "            experiment_index]  # Get results of experiment with index experiment_index\n",
    "        for result in experiment_results:  # iterate through the simulation runs of experiment with index experiment_index\n",
    "            realised_demand = extract_df_from_json(result, 'M1: realised_demand')\n",
    "            realised_demand['date'] = pd.to_datetime(realised_demand['date'], format='%Y-%m-%d')\n",
    "            realised_demand.set_index('date', inplace=True, drop=True)\n",
    "            scheduled_demand = extract_df_from_json(result, 'M2: scheduled_demand')\n",
    "            scheduled_demand['date'] = pd.to_datetime(scheduled_demand['date'], format='%Y-%m-%d')\n",
    "            scheduled_demand.set_index('date', inplace=True, drop=True)\n",
    "            # collect results for residential and non-residential community members separately\n",
    "            residential = realised_demand.columns.to_list()[:-1]\n",
    "            non_residential = realised_demand.columns.to_list()[-1:]\n",
    "            # calculate total results for residential and non-residential community members\n",
    "            realised_demand['residential'] = realised_demand.loc[:, residential].sum(axis=1)\n",
    "            scheduled_demand['residential'] = scheduled_demand.loc[:, residential].sum(axis=1)\n",
    "            # remove unwanted columns\n",
    "            columns_to_keep = ['residential']\n",
    "            realised_demand = realised_demand[columns_to_keep]\n",
    "            scheduled_demand = scheduled_demand[columns_to_keep]\n",
    "\n",
    "            # set lower cap to zero\n",
    "            realised_demand[realised_demand<0] = 0\n",
    "            scheduled_demand[scheduled_demand<0] = 0\n",
    "\n",
    "            # plot results for residential and non-residential community members\n",
    "            scheduled_demand[['residential']].plot(ax=ax, color='#6ebbd5', legend=False, linewidth=0.2, alpha=0.3)\n",
    "            realised_demand[['residential']].plot(ax=ax, colormap='hsv', legend=False, linewidth=0.2, alpha=0.2)\n",
    "            ax.set_title(f\"Lever combination {unique_levers.loc[lever_combination_number, 'lever information']}\",\n",
    "                         fontsize=12)\n",
    "    lever_combination_number += 1\n",
    "\n",
    "# show legends\n",
    "handles, labels = ax.get_legend_handles_labels()\n",
    "labels = ['scheduled demand', 'realised (actual) demand']\n",
    "fig.legend(handles[:2], labels[:2], loc=4, bbox_to_anchor=(0.925,0.15))\n",
    "\n",
    "# remove last axis as it is not needed\n",
    "axs[6, 3].axis('off')\n",
    "\n",
    "plt.savefig('figures/groene_mient/scheduled_demand_vs_realised_demand_residential.png')"
   ],
   "metadata": {
    "collapsed": false,
    "pycharm": {
     "name": "#%%\n"
    }
   }
  },
  {
   "cell_type": "markdown",
   "source": [
    "## 4. Plot scheduled demand vs realised demand (non-residential)"
   ],
   "metadata": {
    "collapsed": false,
    "pycharm": {
     "name": "#%% md\n"
    }
   }
  },
  {
   "cell_type": "code",
   "execution_count": null,
   "outputs": [],
   "source": [
    "rows = 7\n",
    "columns = 4\n",
    "fig, axs = plt.subplots(rows, columns, sharey=True, sharex=True, figsize=(20, 16))\n",
    "fig.suptitle('Scheduled demand vs realised demand for non-residential community members', fontsize=20, y=0.93)\n",
    "# fig.text(0.5, 0.04, 'Year', ha='center', fontsize=16)\n",
    "fig.text(0.04, 0.5, 'kWh', va='center', rotation='vertical', fontsize=16)\n",
    "\n",
    "# Create index of list of indices for axes\n",
    "axs_index = []\n",
    "for i in range(rows):  # iterate through the rows of the subplot grid\n",
    "    for j in range(columns):  # iterate through the columns of the subplot grid\n",
    "        axs_index.append(axs[i, j])\n",
    "axs_index = axs_index[:-1]  # remove last axis as it is not needed\n",
    "\n",
    "# lever combination number is the unique combination of policy scenarios\n",
    "lever_combination_number = 0\n",
    "\n",
    "# iterate through the columns and rows of the subplot grid\n",
    "for ax in tqdm(axs_index):\n",
    "    corresponding_experiments = same_levers[\n",
    "        lever_combination_number]  # List of experiment index having same lever combination\n",
    "    for experiment_index in corresponding_experiments:  # iterate through the experiments having same lever combination\n",
    "        experiment_results = separated_results[\n",
    "            experiment_index]  # Get results of experiment with index experiment_index\n",
    "        for result in experiment_results:  # iterate through the simulation runs of experiment with index experiment_index\n",
    "            realised_demand = extract_df_from_json(result, 'M1: realised_demand')\n",
    "            realised_demand['date'] = pd.to_datetime(realised_demand['date'], format='%Y-%m-%d')\n",
    "            realised_demand.set_index('date', inplace=True, drop=True)\n",
    "            scheduled_demand = extract_df_from_json(result, 'M2: scheduled_demand')\n",
    "            scheduled_demand['date'] = pd.to_datetime(scheduled_demand['date'], format='%Y-%m-%d')\n",
    "            scheduled_demand.set_index('date', inplace=True, drop=True)\n",
    "            # collect results for residential and non-residential community members separately\n",
    "            residential = realised_demand.columns.to_list()[:-1]\n",
    "            non_residential = realised_demand.columns.to_list()[-1:]\n",
    "            # calculate total results for residential and non-residential community members\n",
    "            realised_demand['non_residential'] = realised_demand.loc[:, non_residential].sum(axis=1)\n",
    "            scheduled_demand['non_residential'] = scheduled_demand.loc[:, non_residential].sum(axis=1)\n",
    "            # remove unwanted columns\n",
    "            columns_to_keep = ['non_residential']\n",
    "            realised_demand = realised_demand[columns_to_keep]\n",
    "            scheduled_demand = scheduled_demand[columns_to_keep]\n",
    "\n",
    "            # set lower cap to zero\n",
    "            realised_demand[realised_demand<0] = 0\n",
    "            scheduled_demand[scheduled_demand<0] = 0\n",
    "\n",
    "            # plot results for residential and non-residential community members\n",
    "            scheduled_demand[['non_residential']].plot(ax=ax, color='#6ebbd5', legend=False, linewidth=0.2, alpha=0.1)\n",
    "            realised_demand[['non_residential']].plot(ax=ax, colormap='hsv', legend=False, linewidth=0.2, alpha=0.5)\n",
    "            ax.set_title(f\"Lever combination {unique_levers.loc[lever_combination_number, 'lever information']}\",\n",
    "                         fontsize=12)\n",
    "    lever_combination_number += 1\n",
    "\n",
    "# show legends\n",
    "handles, labels = ax.get_legend_handles_labels()\n",
    "labels = ['scheduled demand', 'realised (actual) demand']\n",
    "fig.legend(handles[:2], labels[:2], loc=4, bbox_to_anchor=(0.925,0.15))\n",
    "\n",
    "# remove last axis as it is not needed\n",
    "axs[6, 3].axis('off')\n",
    "\n",
    "plt.savefig('figures/groene_mient/scheduled_demand_vs_realised_demand_nonresidential.png')"
   ],
   "metadata": {
    "collapsed": false,
    "pycharm": {
     "name": "#%%\n"
    }
   }
  },
  {
   "cell_type": "markdown",
   "source": [
    "## 5. Plot shifted demand through demand response"
   ],
   "metadata": {
    "collapsed": false,
    "pycharm": {
     "name": "#%% md\n"
    }
   }
  },
  {
   "cell_type": "code",
   "execution_count": null,
   "outputs": [],
   "source": [
    "rows = 7\n",
    "columns = 4\n",
    "fig, axs = plt.subplots(rows, columns, sharey=True, sharex=True, figsize=(20, 16))\n",
    "fig.suptitle('Shifted load through demand response', fontsize=20, y=0.93)\n",
    "# fig.text(0.5, 0.04, 'Year', ha='center', fontsize=16)\n",
    "fig.text(0.04, 0.5, 'kWh', va='center', rotation='vertical', fontsize=16)\n",
    "\n",
    "# Create index of list of indices for axes\n",
    "axs_index = []\n",
    "for i in range(rows):  # iterate through the rows of the subplot grid\n",
    "    for j in range(columns):  # iterate through the columns of the subplot grid\n",
    "        axs_index.append(axs[i, j])\n",
    "axs_index = axs_index[:-1]  # remove last axis as it is not needed\n",
    "\n",
    "# lever combination number is the unique combination of policy scenarios\n",
    "lever_combination_number = 0\n",
    "\n",
    "# iterate through the columns and rows of the subplot grid\n",
    "for ax in tqdm(axs_index):\n",
    "    corresponding_experiments = same_levers[\n",
    "        lever_combination_number]  # List of experiment index having same lever combination\n",
    "    for experiment_index in corresponding_experiments:  # iterate through the experiments having same lever combination\n",
    "        experiment_results = separated_results[\n",
    "            experiment_index]  # Get results of experiment with index experiment_index\n",
    "        for result in experiment_results:  # iterate through the simulation runs of experiment with index experiment_index\n",
    "            shifted_load = extract_df_from_json(result, 'M3: shifted_load')\n",
    "            shifted_load['date'] = pd.to_datetime(shifted_load['date'], format='%Y-%m-%d')\n",
    "            shifted_load.set_index('date', inplace=True, drop=True)\n",
    "            # collect results for residential and non-residential community members separately\n",
    "            residential = shifted_load.columns.to_list()[:-1]\n",
    "            non_residential = shifted_load.columns.to_list()[-1:]\n",
    "            # calculate total results for residential and non-residential community members\n",
    "            shifted_load['residential'] = shifted_load.loc[:, residential].sum(axis=1)\n",
    "            shifted_load['non_residential'] = shifted_load.loc[:, non_residential].sum(axis=1)\n",
    "            # remove unwanted columns\n",
    "            columns_to_keep = ['residential', 'non_residential']\n",
    "            shifted_load = shifted_load[columns_to_keep]\n",
    "            shifted_load[shifted_load>4000] = 4000\n",
    "\n",
    "            # plot results for community members\n",
    "            shifted_load.plot(ax=ax, colormap='tab10', legend=False, linewidth=0.2, alpha=0.5)\n",
    "            ax.set_title(f\"Lever combination {unique_levers.loc[lever_combination_number, 'lever information']}\",\n",
    "                         fontsize=12)\n",
    "    lever_combination_number += 1\n",
    "\n",
    "\n",
    "# show legends\n",
    "handles, labels = ax.get_legend_handles_labels()\n",
    "labels = ['load shifted as demand response by residential members', 'load shifted as demand response by non-residential members']\n",
    "fig.legend(handles[:2], labels[:2], loc=4, bbox_to_anchor=(0.925,0.15))\n",
    "\n",
    "# remove last axis as it is not needed\n",
    "axs[6, 3].axis('off')\n",
    "\n",
    "plt.savefig('figures/greone_mient/shifted_load.png', dpi=300)"
   ],
   "metadata": {
    "collapsed": false,
    "pycharm": {
     "name": "#%%\n"
    }
   }
  },
  {
   "cell_type": "markdown",
   "source": [
    "## 6. Plot energy costs vs savings"
   ],
   "metadata": {
    "collapsed": false,
    "pycharm": {
     "name": "#%% md\n"
    }
   }
  },
  {
   "cell_type": "code",
   "execution_count": null,
   "outputs": [],
   "source": [
    "rows = 7\n",
    "columns = 4\n",
    "fig, axs = plt.subplots(rows, columns, sharey=True, sharex=True, figsize=(20, 16))\n",
    "fig.suptitle('Expenditure and savings on electricity through demand response', fontsize=20, y=0.93)\n",
    "# fig.text(0.5, 0.04, 'Year', ha='center', fontsize=16)\n",
    "fig.text(0.04, 0.5, 'Euros', va='center', rotation='vertical', fontsize=16)\n",
    "\n",
    "# Create index of list of indices for axes\n",
    "axs_index = []\n",
    "for i in range(rows):  # iterate through the rows of the subplot grid\n",
    "    for j in range(columns):  # iterate through the columns of the subplot grid\n",
    "        axs_index.append(axs[i, j])\n",
    "axs_index = axs_index[:-1]  # remove last axis as it is not needed\n",
    "\n",
    "# lever combination number is the unique combination of policy scenarios\n",
    "lever_combination_number = 0\n",
    "\n",
    "# iterate through the columns and rows of the subplot grid\n",
    "for ax in tqdm(axs_index):\n",
    "    corresponding_experiments = same_levers[\n",
    "        lever_combination_number]  # List of experiment index having same lever combination\n",
    "    for experiment_index in corresponding_experiments:  # iterate through the experiments having same lever combination\n",
    "        experiment_results = separated_results[\n",
    "            experiment_index]  # Get results of experiment with index experiment_index\n",
    "        for result in experiment_results:  # iterate through the simulation runs of experiment with index experiment_index\n",
    "\n",
    "            savings = extract_df_from_json(result, 'M5: savings_on_ToD')\n",
    "            savings['date'] = pd.to_datetime(savings['date'], format='%Y-%m-%d')\n",
    "            savings.set_index('date', inplace=True, drop=True)\n",
    "\n",
    "            costs = extract_df_from_json(result, 'M6: energy_costs')\n",
    "            costs['date'] = pd.to_datetime(costs['date'], format='%Y-%m-%d')\n",
    "            costs.set_index('date', inplace=True, drop=True)\n",
    "\n",
    "            # collect results for residential and non-residential community members separately\n",
    "            residential = savings.columns.to_list()[:-1]\n",
    "            non_residential = savings.columns.to_list()[-1:]\n",
    "\n",
    "            # calculate total results for residential and non-residential community members\n",
    "            costs['costs'] = costs.sum(axis=1)\n",
    "            costs['savings'] = savings.sum(axis=1)\n",
    "\n",
    "            columns_to_keep = ['costs', 'savings']\n",
    "            costs = costs[columns_to_keep]\n",
    "\n",
    "            #set lower cap to zero\n",
    "            costs[costs<0] = 0\n",
    "            costs.loc[costs['savings']>2000, 'savings'] = 2100\n",
    "\n",
    "            # plot results\n",
    "            costs.plot(ax=ax,colormap = 'tab20b', legend=False, linewidth=0.2, alpha=0.2)\n",
    "            ax.set_title(f\"Lever combination {unique_levers.loc[lever_combination_number, 'lever information']}\",\n",
    "                         fontsize=12)\n",
    "    lever_combination_number += 1\n",
    "\n",
    "# show legends\n",
    "handles, labels = ax.get_legend_handles_labels()\n",
    "labels = ['cost of importing electricity from grid', 'savings on electricity cost through demand response']\n",
    "fig.legend(handles[:2], labels[:2],loc=4, bbox_to_anchor=(0.925,0.15))\n",
    "\n",
    "# remove last axis as it is not needed\n",
    "axs[6, 3].axis('off')\n",
    "\n",
    "plt.savefig('figures/greone_mient/costs.png', dpi=300)"
   ],
   "metadata": {
    "collapsed": false,
    "pycharm": {
     "name": "#%%\n"
    }
   }
  },
  {
   "cell_type": "markdown",
   "source": [
    "## 7. Plot community overview"
   ],
   "metadata": {
    "collapsed": false,
    "pycharm": {
     "name": "#%% md\n"
    }
   }
  },
  {
   "cell_type": "code",
   "execution_count": null,
   "outputs": [],
   "source": [
    "rows = 7\n",
    "columns = 4\n",
    "fig, axs = plt.subplots(rows, columns, sharey=True, sharex=True, figsize=(20, 16))\n",
    "fig.suptitle('Electricity generation and consumption for the community', fontsize=20, y=0.93)\n",
    "fig.text(0.04, 0.5, 'kWh', va='center', rotation='vertical', fontsize=16)\n",
    "\n",
    "# Create index of list of indices for axes\n",
    "axs_index = []\n",
    "for i in range(rows):  # iterate through the rows of the subplot grid\n",
    "    for j in range(columns):  # iterate through the columns of the subplot grid\n",
    "        axs_index.append(axs[i, j])\n",
    "axs_index = axs_index[:-1]  # remove last axis as it is not needed\n",
    "\n",
    "# lever combination number is the unique combination of policy scenarios\n",
    "lever_combination_number = 0\n",
    "\n",
    "# iterate through the columns and rows of the subplot grid\n",
    "for ax in tqdm(axs_index):\n",
    "    corresponding_experiments = same_levers[\n",
    "        lever_combination_number]  # List of experiment index having same lever combination\n",
    "    for experiment_index in corresponding_experiments:  # iterate through the experiments having same lever combination\n",
    "        experiment_results = separated_results[\n",
    "            experiment_index]  # Get results of experiment with index experiment_index\n",
    "        for result in experiment_results:  # iterate through the simulation runs of experiment with index experiment_index\n",
    "\n",
    "            realised_demand = extract_df_from_json(result, 'M1: realised_demand')\n",
    "            realised_demand['date'] = pd.to_datetime(realised_demand['date'], format='%Y-%m-%d')\n",
    "            realised_demand.set_index('date', inplace=True, drop=True)\n",
    "\n",
    "            generation = extract_df_from_json(result, 'M4: total_generation')\n",
    "            generation['date'] = pd.to_datetime(generation['date'], format='%Y-%m-%d')\n",
    "            generation.set_index('date', inplace=True, drop=True)\n",
    "\n",
    "            shifted_load = extract_df_from_json(result, 'M3: shifted_load')\n",
    "            shifted_load['date'] = pd.to_datetime(shifted_load['date'], format='%Y-%m-%d')\n",
    "            shifted_load.set_index('date', inplace=True, drop=True)\n",
    "\n",
    "            # calculate total results for residential and non-residential community members\n",
    "            realised_demand['residential'] = realised_demand.loc[:, residential].sum(axis=1)\n",
    "            realised_demand['non_residential'] = realised_demand.loc[:, non_residential].sum(axis=1)\n",
    "\n",
    "            shifted_load['total_shifted_load'] = shifted_load.loc[:, residential].sum(axis=1)\n",
    "            shifted_load = shifted_load['total_shifted_load']\n",
    "\n",
    "            columns_to_keep = ['residential', 'non_residential']\n",
    "            realised_demand = realised_demand[columns_to_keep]\n",
    "\n",
    "            # set lower cap to zero\n",
    "            realised_demand[realised_demand<0] = 0\n",
    "            shifted_load[shifted_load>4000] = 4000\n",
    "\n",
    "            # plot results for community members\n",
    "            realised_demand.plot(ax=ax, colormap='Pastel2', kind=\"area\", stacked=True, legend=False, linewidth=0.2,\n",
    "             alpha=0.5)\n",
    "            generation.plot(ax=ax, colormap = 'tab10', legend=False, linewidth=0.2, alpha=0.25)\n",
    "            shifted_load.plot(ax=ax, colormap = 'Set1', legend=False, linewidth=0.2, alpha=0.5)\n",
    "            ax.set_title(f\"Lever combination {unique_levers.loc[lever_combination_number, 'lever information']}\",\n",
    "                         fontsize=12)\n",
    "\n",
    "\n",
    "    lever_combination_number += 1\n",
    "\n",
    "# show legends\n",
    "handles, labels = ax.get_legend_handles_labels()\n",
    "labels = ['electricity consumption of residential members', 'electricity consumption of non-residential members', 'total generation from community assets', 'total shifted demand through demand response']\n",
    "fig.legend(handles[:4], labels[:4], loc=4, bbox_to_anchor=(0.925,0.15))\n",
    "\n",
    "# remove last axis as it is not needed\n",
    "axs[6, 3].axis('off')\n",
    "\n",
    "plt.savefig('figures/greone_mient/community_overview.png', dpi=300)"
   ],
   "metadata": {
    "collapsed": false,
    "pycharm": {
     "name": "#%%\n"
    }
   }
  },
  {
   "cell_type": "code",
   "execution_count": null,
   "outputs": [],
   "source": [],
   "metadata": {
    "collapsed": false,
    "pycharm": {
     "name": "#%%\n"
    }
   }
  },
  {
   "cell_type": "code",
   "execution_count": null,
   "outputs": [],
   "source": [],
   "metadata": {
    "collapsed": false,
    "pycharm": {
     "name": "#%%\n"
    }
   }
  }
 ],
 "metadata": {
  "kernelspec": {
   "display_name": "Python 3",
   "language": "python",
   "name": "python3"
  },
  "language_info": {
   "codemirror_mode": {
    "name": "ipython",
    "version": 2
   },
   "file_extension": ".py",
   "mimetype": "text/x-python",
   "name": "python",
   "nbconvert_exporter": "python",
   "pygments_lexer": "ipython2",
   "version": "2.7.6"
  }
 },
 "nbformat": 4,
 "nbformat_minor": 0
}